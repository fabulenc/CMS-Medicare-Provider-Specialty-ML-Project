{
 "cells": [
  {
   "cell_type": "code",
   "execution_count": null,
   "id": "1445e7e0",
   "metadata": {},
   "outputs": [],
   "source": [
    "%%time\n",
    "import requests\n",
    "import json\n",
    "\n",
    "url = 'https://data.cms.gov/data-api/v1/dataset/9552739e-3d05-4c1b-8eff-ecabf391e2e5/data'\n",
    "\n",
    "totalRow = 25209729\n",
    "\n",
    "results = []\n",
    "\n",
    "\n",
    "for i in range(1,1000000):\n",
    "    if i % 100 == 0: \n",
    "        response = requests.get(url,params={'offset':i-100, 'length':100})\n",
    "        \n",
    "        if response.status_code == 200:\n",
    "            results += response.json()\n",
    "            \n",
    "df = pd.DataFrame(results)\n",
    "\n",
    "\n",
    "#url_byDrug = \"https://www.kaggle.com/datasets/francescaabulencia/cms-data-2018-to-2020\"\n",
    "#url_byService =\"https://www.kaggle.com/datasets/francescaabulencia/medicare-physician-by-provider-and-service\"\n",
    "\n",
    "#CMS_byDrug_2018 = od.download(url_byDrug)\n",
    "\n",
    "#CMS_byDrug_2020 = pd.read_csv('MUP_DPR_RY22_P04_V10_DY20_NPIBN.csv', encoding='latin-1')\n",
    "#CMS_byProcedure_2020 = pd.read_csv('MUP_PHY_R22_P05_V10_D20_Prov_Svc.csv', encoding='latin-1')\n"
   ]
  }
 ],
 "metadata": {
  "kernelspec": {
   "display_name": "Python 3 (ipykernel)",
   "language": "python",
   "name": "python3"
  },
  "language_info": {
   "codemirror_mode": {
    "name": "ipython",
    "version": 3
   },
   "file_extension": ".py",
   "mimetype": "text/x-python",
   "name": "python",
   "nbconvert_exporter": "python",
   "pygments_lexer": "ipython3",
   "version": "3.10.5"
  }
 },
 "nbformat": 4,
 "nbformat_minor": 5
}
