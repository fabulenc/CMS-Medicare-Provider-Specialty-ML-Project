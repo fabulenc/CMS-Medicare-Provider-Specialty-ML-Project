{
 "cells": [
  {
   "cell_type": "markdown",
   "metadata": {},
   "source": [
    "# Predicting Physician Specialty from CMS Medicare Drug Prescription Data"
   ]
  },
  {
   "cell_type": "markdown",
   "metadata": {},
   "source": [
    "The Medicare Part D Prescribers - by Provider and Drug dataset includes data for providers that had a valid NPI and were identified on Medicare Part D prescription drug events submitted by plans for the benefit year. The data reflect prescribing to beneficiaries enrolled in Medicare Part D, who comprise approximately 70% of the total Medicare population.\n",
    "\n",
    "Each record in the dataset represents a distinct combination of NPI, drug (brand) name, and generic name. There can be multiple records for a given NPI based on the number of distinct drugs that were filled. For each prescriber and drug, the dataset includes the total number of prescriptions that were dispensed (including original prescriptions and any refills), total 30-day standardized fill counts, total day’s supply for these prescriptions, and the total drug cost. "
   ]
  },
  {
   "cell_type": "markdown",
   "metadata": {},
   "source": [
    "## Data Dictionary\n",
    "\n",
    "| Term Name      | Variable Name |  Description  |  |\n",
    "| ----------- | ----------- || ----------- |\n",
    "| Prescriber NPI      | Prscrbr_NPI       | National Provider Identifier (NPI) for the performing provider on the claim.\n",
    "| Prescriber Last Name / Organization Name | Prscrbr_Last_Org_Name|When the provider is registered in NPPES as an individual (Prscrbr_Ent_Cd = “I”), this is the provider’s last name. When the provider is registered as an organization (Prscrbr_Ent_Cd = “O”), this is the organization name.\n",
    "| Prescriber First Name   | Prscrbr_First_Name  |When the provider is registered in NPPES as an individual (Prscrbr_Ent_Cd = “I”), this is the provider’s first name. When the provider is registered as an organization (Prscrbr_Ent_Cd = “O”), this will be blank.\n",
    "| Prescriber City   | Prscrbr_City | The city where the provider is located, as reported in NPPES.\n",
    "| Prescriber State   | Prscrbr_State_Abrvtn   |The state where the provider is located, as reported in NPPES. The fifty U.S. states and the District of Columbia are reported by the state postal abbreviation.\n",
    "| Prescriber State FIPS Code   | Prscrbr_State_FIPS |FIPS code for referring providers state.\n",
    "| Provider Specialty Type   | Prscrbr_Type | Derived from the Medicare provider/supplier specialty code reported on the NPI’s Part B claims. For providers that have more than one Medicare specialty code reported on their claims, the Medicare specialty code associated with the largest number of services is reported.\n",
    "| Source of Provider Specialty   | Prscrbr_Type_Src |A flag that indicates the source of the Prscrbr_Type.\n",
    "| Brand Name   | Brnd_Name |Brand name (trademarked name) of the drug filled.\n",
    "| USAN Generic Name - Short Version  | Gnrc_Name |A term referring to the chemical ingredient of a drug rather than the trademarked brand name under which the drug is sold.\n",
    "| Number of Medicare Part D Claims, Including Refills   | Tot_Clms    |The number of Medicare Part D claims. This includes original prescriptions and refills.\n",
    "| Number of Standardized 30-Day Fills, Including Refills   | Tot_30day_Fills    |The aggregate number of Medicare Part D standardized 30-day fills. The standardized 30-day fill is derived from the number of days supplied on each Part D claim divided by 30.\n",
    "| Number of Day’s Supply for All Claims | Tot_Day_Suply        |The aggregate number of day’s supply for which this drug was dispensed.\n",
    "| Aggregate Cost Paid for All Claims   | Tot_Drug_Cst  |The aggregate drug cost paid for all associated claims. This amount includes ingredient cost, dispensing fee, sales tax, and any applicable vaccine administration fees and is based on the amounts paid by the Part D plan, Medicare beneficiary, government subsidies, and any other third-party payers.v\n",
    "| Number of Medicare Beneficiaries   | Tot_Benes |The total number of unique Medicare Part D beneficiaries with at least one claim for the drug.\n",
    "| Reason for Suppression of GE65_Tot_Clms, GE65_Tot_30day_Fills, GE65_Tot_Drug_Cst and GE65_Tot_Day_Suply   | GE65_Sprsn_Flag |A flag that indicates the reason the GE65_Tot_Clms, GE65_Tot_30day_Fills, GE65_Tot_Drug_Cst and GE65_Tot_Day_Suply variables are suppressed\n",
    "| Number of Claims, Including Refills, for Beneficiaries Age 65+   | GE65_Tot_Clms        |The number of Medicare Part D claims for beneficiaries age 65 and older. This includes original prescriptions and refills.\n",
    "| Number of Standardized 30-Day Fills, Including Refills, for Beneficiaries Age 65+   | GE65_Tot_30day_Fills  |The number of Medicare Part D standardized 30-day fills for beneficiaries age 65 and older. The standardized 30-day fill is derived from the number of days supplied on each Part D claim divided by 30.\n",
    "| Aggregate Cost Paid for All Claims for Beneficiaries Age 65+   | GE65_Tot_Drug_Cst  |The aggregate total drug cost paid for all associated claims for beneficiaries age 65 and older. This amount includes ingredient cost, dispensing fee, sales tax, and any applicable vaccine administration fees and is based on the amounts paid by the Part D plan, Medicare beneficiary, government subsidies, and any other third-party payers.\n",
    "| Number of Day’s Supply for All Claims for Beneficaries Age 65+   | GE65_Tot_Day_Suply       |The aggregate number of day’s supply for which this drug was dispensed, for beneficiaries age 65 and older. \n",
    "| Reason for Suppression of GE65_Tot_Benes   | GE65_Bene_Sprsn_Flag |A flag indicating the reason the GE65_Tot_Benes variable is suppressed.\n",
    "| Number of Medicare Beneficiaries Age 65+   | GE65_Tot_Benes        |The total number of unique Medicare Part D beneficiaries age 65 and older with at least one claim for the drug."
   ]
  },
  {
   "cell_type": "code",
   "execution_count": 1,
   "metadata": {},
   "outputs": [],
   "source": [
    "%%capture\n",
    "\n",
    "#Verify conda environment\n",
    "import os\n",
    "print (os.environ['CONDA_DEFAULT_ENV'])\n",
    "\n",
    "#Import libraries\n",
    "import pandas as pd\n",
    "import numpy as np\n",
    "import matplotlib.pyplot as plt\n",
    "import seaborn as sns\n",
    "!pip install fastparquet\n",
    "!pip install pyarrow\n",
    "!pip install plotly-geo\n",
    "!pip install geopandas\n",
    "!pip install pyshp\n",
    "!pip install shapely\n",
    "\n",
    "os.chdir('../data')\n"
   ]
  },
  {
   "cell_type": "code",
   "execution_count": 2,
   "metadata": {},
   "outputs": [
    {
     "name": "stdout",
     "output_type": "stream",
     "text": [
      "# conda environments:\r\n",
      "#\r\n",
      "base                     /Users/francescaabulencia/opt/anaconda3\r\n",
      "aimsinput                /Users/francescaabulencia/opt/anaconda3/envs/aimsinput\r\n",
      "data1030              *  /Users/francescaabulencia/opt/anaconda3/envs/data1030\r\n",
      "pytorch                  /Users/francescaabulencia/opt/anaconda3/envs/pytorch\r\n",
      "pytorchenv               /Users/francescaabulencia/opt/anaconda3/envs/pytorchenv\r\n",
      "test                     /Users/francescaabulencia/opt/anaconda3/envs/test\r\n",
      "                         /opt/miniconda3\r\n",
      "\r\n"
     ]
    }
   ],
   "source": [
    "!conda env list"
   ]
  },
  {
   "cell_type": "markdown",
   "metadata": {},
   "source": [
    "## Loading the Dataset\n",
    "\n",
    "Sources:  \n",
    "[1] https://data.cms.gov/provider-summary-by-type-of-service/medicare-part-d-prescribers/medicare-part-d-prescribers-by-provider-and-drug    \n",
    "[2] https://data.cms.gov/provider-summary-by-type-of-service/medicare-physician-other-practitioners/medicare-physician-other-practitioners-by-provider-and-service  \n",
    "[3] https://www.ncbi.nlm.nih.gov/pmc/articles/PMC7358033/#b20-0180334  \n",
    "[4] https://www.ncbi.nlm.nih.gov/pmc/articles/PMC9507660/"
   ]
  },
  {
   "cell_type": "markdown",
   "metadata": {},
   "source": [
    "### Converting .gzip to .parquet file type\n"
   ]
  },
  {
   "cell_type": "code",
   "execution_count": null,
   "metadata": {},
   "outputs": [],
   "source": [
    "%%time\n",
    "\n",
    "filename = 'MUP_DPR_RY22_P04_V10_DY20_NPIBN.csv.gz'\n",
    "gzip_file = pd.read_csv(filename, compression='gzip', encoding = 'latin-1', low_memory=False)"
   ]
  },
  {
   "cell_type": "code",
   "execution_count": null,
   "metadata": {},
   "outputs": [],
   "source": [
    "gzip_file.to_parquet('df.parquet', compression='snappy')"
   ]
  },
  {
   "cell_type": "code",
   "execution_count": 3,
   "metadata": {},
   "outputs": [
    {
     "name": "stdout",
     "output_type": "stream",
     "text": [
      "CPU times: user 9.81 s, sys: 4.8 s, total: 14.6 s\n",
      "Wall time: 15.8 s\n"
     ]
    }
   ],
   "source": [
    "%%time\n",
    "\n",
    "df = pd.read_parquet('df.parquet', engine='fastparquet')"
   ]
  },
  {
   "cell_type": "markdown",
   "metadata": {},
   "source": [
    "**By converting gzip to csv, the time to read the ~25 million rows improved from 15 min to 15 seconds**"
   ]
  },
  {
   "cell_type": "markdown",
   "metadata": {},
   "source": [
    "## I. Exploratory Data Analysis"
   ]
  },
  {
   "cell_type": "code",
   "execution_count": 4,
   "metadata": {},
   "outputs": [
    {
     "data": {
      "text/html": [
       "<div>\n",
       "<style scoped>\n",
       "    .dataframe tbody tr th:only-of-type {\n",
       "        vertical-align: middle;\n",
       "    }\n",
       "\n",
       "    .dataframe tbody tr th {\n",
       "        vertical-align: top;\n",
       "    }\n",
       "\n",
       "    .dataframe thead th {\n",
       "        text-align: right;\n",
       "    }\n",
       "</style>\n",
       "<table border=\"1\" class=\"dataframe\">\n",
       "  <thead>\n",
       "    <tr style=\"text-align: right;\">\n",
       "      <th></th>\n",
       "      <th>Prscrbr_NPI</th>\n",
       "      <th>Prscrbr_Last_Org_Name</th>\n",
       "      <th>Prscrbr_First_Name</th>\n",
       "      <th>Prscrbr_City</th>\n",
       "      <th>Prscrbr_State_Abrvtn</th>\n",
       "      <th>Prscrbr_State_FIPS</th>\n",
       "      <th>Prscrbr_Type</th>\n",
       "      <th>Prscrbr_Type_Src</th>\n",
       "      <th>Brnd_Name</th>\n",
       "      <th>Gnrc_Name</th>\n",
       "      <th>...</th>\n",
       "      <th>Tot_Day_Suply</th>\n",
       "      <th>Tot_Drug_Cst</th>\n",
       "      <th>Tot_Benes</th>\n",
       "      <th>GE65_Sprsn_Flag</th>\n",
       "      <th>GE65_Tot_Clms</th>\n",
       "      <th>GE65_Tot_30day_Fills</th>\n",
       "      <th>GE65_Tot_Drug_Cst</th>\n",
       "      <th>GE65_Tot_Day_Suply</th>\n",
       "      <th>GE65_Bene_Sprsn_Flag</th>\n",
       "      <th>GE65_Tot_Benes</th>\n",
       "    </tr>\n",
       "  </thead>\n",
       "  <tbody>\n",
       "    <tr>\n",
       "      <th>0</th>\n",
       "      <td>1003000126</td>\n",
       "      <td>Enkeshafi</td>\n",
       "      <td>Ardalan</td>\n",
       "      <td>Bethesda</td>\n",
       "      <td>MD</td>\n",
       "      <td>24</td>\n",
       "      <td>Internal Medicine</td>\n",
       "      <td>S</td>\n",
       "      <td>Amiodarone Hcl</td>\n",
       "      <td>Amiodarone Hcl</td>\n",
       "      <td>...</td>\n",
       "      <td>399</td>\n",
       "      <td>135.38</td>\n",
       "      <td>NaN</td>\n",
       "      <td>None</td>\n",
       "      <td>13.0</td>\n",
       "      <td>13.8</td>\n",
       "      <td>135.38</td>\n",
       "      <td>399.0</td>\n",
       "      <td>*</td>\n",
       "      <td>NaN</td>\n",
       "    </tr>\n",
       "    <tr>\n",
       "      <th>1</th>\n",
       "      <td>1003000126</td>\n",
       "      <td>Enkeshafi</td>\n",
       "      <td>Ardalan</td>\n",
       "      <td>Bethesda</td>\n",
       "      <td>MD</td>\n",
       "      <td>24</td>\n",
       "      <td>Internal Medicine</td>\n",
       "      <td>S</td>\n",
       "      <td>Amlodipine Besylate</td>\n",
       "      <td>Amlodipine Besylate</td>\n",
       "      <td>...</td>\n",
       "      <td>570</td>\n",
       "      <td>42.47</td>\n",
       "      <td>NaN</td>\n",
       "      <td>*</td>\n",
       "      <td>NaN</td>\n",
       "      <td>NaN</td>\n",
       "      <td>NaN</td>\n",
       "      <td>NaN</td>\n",
       "      <td>*</td>\n",
       "      <td>NaN</td>\n",
       "    </tr>\n",
       "    <tr>\n",
       "      <th>2</th>\n",
       "      <td>1003000126</td>\n",
       "      <td>Enkeshafi</td>\n",
       "      <td>Ardalan</td>\n",
       "      <td>Bethesda</td>\n",
       "      <td>MD</td>\n",
       "      <td>24</td>\n",
       "      <td>Internal Medicine</td>\n",
       "      <td>S</td>\n",
       "      <td>Bumetanide</td>\n",
       "      <td>Bumetanide</td>\n",
       "      <td>...</td>\n",
       "      <td>540</td>\n",
       "      <td>494.38</td>\n",
       "      <td>NaN</td>\n",
       "      <td>None</td>\n",
       "      <td>16.0</td>\n",
       "      <td>18.0</td>\n",
       "      <td>494.38</td>\n",
       "      <td>540.0</td>\n",
       "      <td>*</td>\n",
       "      <td>NaN</td>\n",
       "    </tr>\n",
       "    <tr>\n",
       "      <th>3</th>\n",
       "      <td>1003000126</td>\n",
       "      <td>Enkeshafi</td>\n",
       "      <td>Ardalan</td>\n",
       "      <td>Bethesda</td>\n",
       "      <td>MD</td>\n",
       "      <td>24</td>\n",
       "      <td>Internal Medicine</td>\n",
       "      <td>S</td>\n",
       "      <td>Eliquis</td>\n",
       "      <td>Apixaban</td>\n",
       "      <td>...</td>\n",
       "      <td>323</td>\n",
       "      <td>4792.85</td>\n",
       "      <td>NaN</td>\n",
       "      <td>*</td>\n",
       "      <td>NaN</td>\n",
       "      <td>NaN</td>\n",
       "      <td>NaN</td>\n",
       "      <td>NaN</td>\n",
       "      <td>*</td>\n",
       "      <td>NaN</td>\n",
       "    </tr>\n",
       "    <tr>\n",
       "      <th>4</th>\n",
       "      <td>1003000126</td>\n",
       "      <td>Enkeshafi</td>\n",
       "      <td>Ardalan</td>\n",
       "      <td>Bethesda</td>\n",
       "      <td>MD</td>\n",
       "      <td>24</td>\n",
       "      <td>Internal Medicine</td>\n",
       "      <td>S</td>\n",
       "      <td>Hydralazine Hcl</td>\n",
       "      <td>Hydralazine Hcl</td>\n",
       "      <td>...</td>\n",
       "      <td>523</td>\n",
       "      <td>162.09</td>\n",
       "      <td>NaN</td>\n",
       "      <td>#</td>\n",
       "      <td>NaN</td>\n",
       "      <td>NaN</td>\n",
       "      <td>NaN</td>\n",
       "      <td>NaN</td>\n",
       "      <td>*</td>\n",
       "      <td>NaN</td>\n",
       "    </tr>\n",
       "  </tbody>\n",
       "</table>\n",
       "<p>5 rows × 22 columns</p>\n",
       "</div>"
      ],
      "text/plain": [
       "   Prscrbr_NPI Prscrbr_Last_Org_Name Prscrbr_First_Name Prscrbr_City  \\\n",
       "0   1003000126             Enkeshafi            Ardalan     Bethesda   \n",
       "1   1003000126             Enkeshafi            Ardalan     Bethesda   \n",
       "2   1003000126             Enkeshafi            Ardalan     Bethesda   \n",
       "3   1003000126             Enkeshafi            Ardalan     Bethesda   \n",
       "4   1003000126             Enkeshafi            Ardalan     Bethesda   \n",
       "\n",
       "  Prscrbr_State_Abrvtn Prscrbr_State_FIPS       Prscrbr_Type Prscrbr_Type_Src  \\\n",
       "0                   MD                 24  Internal Medicine                S   \n",
       "1                   MD                 24  Internal Medicine                S   \n",
       "2                   MD                 24  Internal Medicine                S   \n",
       "3                   MD                 24  Internal Medicine                S   \n",
       "4                   MD                 24  Internal Medicine                S   \n",
       "\n",
       "             Brnd_Name            Gnrc_Name  ...  Tot_Day_Suply  Tot_Drug_Cst  \\\n",
       "0       Amiodarone Hcl       Amiodarone Hcl  ...            399        135.38   \n",
       "1  Amlodipine Besylate  Amlodipine Besylate  ...            570         42.47   \n",
       "2           Bumetanide           Bumetanide  ...            540        494.38   \n",
       "3              Eliquis             Apixaban  ...            323       4792.85   \n",
       "4      Hydralazine Hcl      Hydralazine Hcl  ...            523        162.09   \n",
       "\n",
       "   Tot_Benes  GE65_Sprsn_Flag  GE65_Tot_Clms GE65_Tot_30day_Fills  \\\n",
       "0        NaN             None           13.0                 13.8   \n",
       "1        NaN                *            NaN                  NaN   \n",
       "2        NaN             None           16.0                 18.0   \n",
       "3        NaN                *            NaN                  NaN   \n",
       "4        NaN                #            NaN                  NaN   \n",
       "\n",
       "   GE65_Tot_Drug_Cst  GE65_Tot_Day_Suply  GE65_Bene_Sprsn_Flag  GE65_Tot_Benes  \n",
       "0             135.38               399.0                     *             NaN  \n",
       "1                NaN                 NaN                     *             NaN  \n",
       "2             494.38               540.0                     *             NaN  \n",
       "3                NaN                 NaN                     *             NaN  \n",
       "4                NaN                 NaN                     *             NaN  \n",
       "\n",
       "[5 rows x 22 columns]"
      ]
     },
     "execution_count": 4,
     "metadata": {},
     "output_type": "execute_result"
    }
   ],
   "source": [
    "df.head(5)"
   ]
  },
  {
   "cell_type": "markdown",
   "metadata": {},
   "source": [
    "#### Dimensions of the Raw Dataset"
   ]
  },
  {
   "cell_type": "code",
   "execution_count": 5,
   "metadata": {},
   "outputs": [
    {
     "name": "stdout",
     "output_type": "stream",
     "text": [
      "Rows: 25209729\n",
      "Columns: 22\n"
     ]
    }
   ],
   "source": [
    "rows, columns = df.shape\n",
    "\n",
    "print(f'Rows: {rows}')\n",
    "print(f'Columns: {columns}')"
   ]
  },
  {
   "cell_type": "markdown",
   "metadata": {},
   "source": [
    "#### Dropping Columns with Redundant or Unnecessary Information"
   ]
  },
  {
   "cell_type": "markdown",
   "metadata": {},
   "source": [
    "| Variable Name      |  Reason  ||\n",
    "| ------------------ | ---------------- ||\n",
    "| Prscrbr_Last_Org_Name | info captured under NPI ||\n",
    "| Prscrbr_First_Name | info captured under NPI ||\n",
    "| Prscrbr_Type_Src | this is the source where info on provider specialty was acquired ||\n",
    "| Prscrbr_State_FIPS | unique two digit code associated with the existing state column ||\n",
    "| GE65_Sprsn_Flag | flag indicating why GE65_Tot_Clms, GE65_Tot_30day_Fills, <br>  GE65_Tot_Drug_Cst and GE65_Tot_Day_Suply are suppressed \t ||\n",
    "| GE65_Bene_Sprsn_Flag | flag indicating why GE65_Tot_Benes variable is suppressed ||"
   ]
  },
  {
   "cell_type": "code",
   "execution_count": 6,
   "metadata": {
    "scrolled": true
   },
   "outputs": [],
   "source": [
    "# Delete columns that identify prescriber first and last name since this data is captured in prescriber NPI\n",
    "\n",
    "df = df.drop(columns=['Prscrbr_Last_Org_Name',\n",
    "                      'Prscrbr_First_Name',\n",
    "                      'Prscrbr_Type_Src',\n",
    "                      'Prscrbr_State_FIPS',\n",
    "                      'GE65_Sprsn_Flag', \n",
    "                      'GE65_Bene_Sprsn_Flag'])"
   ]
  },
  {
   "cell_type": "markdown",
   "metadata": {},
   "source": [
    "#### Exploring the Target Variable"
   ]
  },
  {
   "cell_type": "markdown",
   "metadata": {},
   "source": [
    "##### Provider Specialty Types"
   ]
  },
  {
   "cell_type": "code",
   "execution_count": 7,
   "metadata": {
    "scrolled": true
   },
   "outputs": [
    {
     "name": "stdout",
     "output_type": "stream",
     "text": [
      "Number of Unique Specialties: 184\n"
     ]
    },
    {
     "data": {
      "text/html": [
       "<div>\n",
       "<style scoped>\n",
       "    .dataframe tbody tr th:only-of-type {\n",
       "        vertical-align: middle;\n",
       "    }\n",
       "\n",
       "    .dataframe tbody tr th {\n",
       "        vertical-align: top;\n",
       "    }\n",
       "\n",
       "    .dataframe thead th {\n",
       "        text-align: right;\n",
       "    }\n",
       "</style>\n",
       "<table border=\"1\" class=\"dataframe\">\n",
       "  <thead>\n",
       "    <tr style=\"text-align: right;\">\n",
       "      <th></th>\n",
       "      <th>Prscrbr_Type</th>\n",
       "      <th># of NPIs</th>\n",
       "    </tr>\n",
       "  </thead>\n",
       "  <tbody>\n",
       "    <tr>\n",
       "      <th>105</th>\n",
       "      <td>Nurse Practitioner</td>\n",
       "      <td>159441</td>\n",
       "    </tr>\n",
       "    <tr>\n",
       "      <th>74</th>\n",
       "      <td>Internal Medicine</td>\n",
       "      <td>100522</td>\n",
       "    </tr>\n",
       "    <tr>\n",
       "      <th>51</th>\n",
       "      <td>Family Practice</td>\n",
       "      <td>100509</td>\n",
       "    </tr>\n",
       "    <tr>\n",
       "      <th>38</th>\n",
       "      <td>Dentist</td>\n",
       "      <td>99779</td>\n",
       "    </tr>\n",
       "    <tr>\n",
       "      <th>136</th>\n",
       "      <td>Physician Assistant</td>\n",
       "      <td>84655</td>\n",
       "    </tr>\n",
       "  </tbody>\n",
       "</table>\n",
       "</div>"
      ],
      "text/plain": [
       "            Prscrbr_Type  # of NPIs\n",
       "105   Nurse Practitioner     159441\n",
       "74     Internal Medicine     100522\n",
       "51       Family Practice     100509\n",
       "38               Dentist      99779\n",
       "136  Physician Assistant      84655"
      ]
     },
     "execution_count": 7,
     "metadata": {},
     "output_type": "execute_result"
    }
   ],
   "source": [
    "uniqueSpecialties = df.Prscrbr_Type.unique()\n",
    "\n",
    "print(f'Number of Unique Specialties: {len(uniqueSpecialties)}')\n",
    "\n",
    "SpecialtyByNPI = pd.DataFrame(df.groupby('Prscrbr_Type')['Prscrbr_NPI'].nunique())\n",
    "SpecialtyByNPI.reset_index(inplace=True)\n",
    "SpecialtyByNPI.columns = ['Prscrbr_Type', '# of NPIs']\n",
    "SpecialtyByNPI = SpecialtyByNPI.sort_values(by=['# of NPIs'], ascending=False)\n",
    "\n",
    "SpecialtyByNPI.head()"
   ]
  },
  {
   "cell_type": "markdown",
   "metadata": {},
   "source": [
    "##### Exclude Physician Assistants (PAs), Nurse Practitioners (NPs), and Other Non-Physicians"
   ]
  },
  {
   "cell_type": "code",
   "execution_count": 8,
   "metadata": {},
   "outputs": [],
   "source": [
    "#Excluding rows that are nonphysicians, physician assistants (PAs), nurse practitioners (NPs) acc. to paper\n",
    "\n",
    "excludedSpecialties = ['Nurse Practitioner',\n",
    "                       'Optometry',\n",
    "                       'Physician Assistant',\n",
    "                       'Student in an Organized Health Care Education/Training Program',\n",
    "                       'Pharmacist',\n",
    "                       'Certified Clinical Nurse Specialist',\n",
    "                       'Specialist']\n",
    "\n",
    "\n",
    "SpecialtyByNPI = SpecialtyByNPI[~SpecialtyByNPI.Prscrbr_Type.isin(excludedSpecialties)]"
   ]
  },
  {
   "cell_type": "markdown",
   "metadata": {},
   "source": [
    "##### Include Specialties with > 5000 Providers"
   ]
  },
  {
   "cell_type": "code",
   "execution_count": 9,
   "metadata": {},
   "outputs": [
    {
     "data": {
      "text/html": [
       "<div>\n",
       "<style scoped>\n",
       "    .dataframe tbody tr th:only-of-type {\n",
       "        vertical-align: middle;\n",
       "    }\n",
       "\n",
       "    .dataframe tbody tr th {\n",
       "        vertical-align: top;\n",
       "    }\n",
       "\n",
       "    .dataframe thead th {\n",
       "        text-align: right;\n",
       "    }\n",
       "</style>\n",
       "<table border=\"1\" class=\"dataframe\">\n",
       "  <thead>\n",
       "    <tr style=\"text-align: right;\">\n",
       "      <th></th>\n",
       "      <th>Prscrbr_Type</th>\n",
       "      <th># of NPIs</th>\n",
       "    </tr>\n",
       "  </thead>\n",
       "  <tbody>\n",
       "    <tr>\n",
       "      <th>74</th>\n",
       "      <td>Internal Medicine</td>\n",
       "      <td>100522</td>\n",
       "    </tr>\n",
       "    <tr>\n",
       "      <th>51</th>\n",
       "      <td>Family Practice</td>\n",
       "      <td>100509</td>\n",
       "    </tr>\n",
       "    <tr>\n",
       "      <th>38</th>\n",
       "      <td>Dentist</td>\n",
       "      <td>99779</td>\n",
       "    </tr>\n",
       "    <tr>\n",
       "      <th>46</th>\n",
       "      <td>Emergency Medicine</td>\n",
       "      <td>31845</td>\n",
       "    </tr>\n",
       "    <tr>\n",
       "      <th>106</th>\n",
       "      <td>Obstetrics &amp; Gynecology</td>\n",
       "      <td>23356</td>\n",
       "    </tr>\n",
       "  </tbody>\n",
       "</table>\n",
       "</div>"
      ],
      "text/plain": [
       "                Prscrbr_Type  # of NPIs\n",
       "74         Internal Medicine     100522\n",
       "51           Family Practice     100509\n",
       "38                   Dentist      99779\n",
       "46        Emergency Medicine      31845\n",
       "106  Obstetrics & Gynecology      23356"
      ]
     },
     "execution_count": 9,
     "metadata": {},
     "output_type": "execute_result"
    }
   ],
   "source": [
    "SpecialtyByNPI_HighFreq = SpecialtyByNPI[SpecialtyByNPI['# of NPIs'] > 5000]\n",
    "\n",
    "SpecialtyByNPI_HighFreq.head()"
   ]
  },
  {
   "cell_type": "code",
   "execution_count": 10,
   "metadata": {},
   "outputs": [
    {
     "name": "stdout",
     "output_type": "stream",
     "text": [
      "Number of Specialties with > 5000 Physicians: 26\n",
      "\n",
      "New dataframe dimension: (17972550, 16)\n",
      "\n",
      "Rows excluded from raw dataset: 7237179\n"
     ]
    }
   ],
   "source": [
    "print(f\"Number of Specialties with > 5000 Physicians: {len(SpecialtyByNPI_HighFreq)}\")\n",
    "print()\n",
    "\n",
    "# Include specialties that have > 5000 physicians and save to a new dataframe\n",
    "SpecialtyByNPI_HighFreqList = list(SpecialtyByNPI_HighFreq.Prscrbr_Type)\n",
    "\n",
    "df2 = df[df.Prscrbr_Type.isin(SpecialtyByNPI_HighFreqList)]\n",
    "\n",
    "print(f'New dataframe dimension: {df2.shape}')\n",
    "print()\n",
    "\n",
    "rowsExcluded = df.shape[0]-df2.shape[0]\n",
    "print(f'Rows excluded from raw dataset: {rowsExcluded}')\n",
    "\n",
    "# delete original df to release memory\n",
    "del df"
   ]
  },
  {
   "cell_type": "code",
   "execution_count": 11,
   "metadata": {},
   "outputs": [],
   "source": [
    "os.chdir('../figures')"
   ]
  },
  {
   "cell_type": "markdown",
   "metadata": {},
   "source": [
    "##### Plotting Frequency of Specialty by Number of Unique Provider"
   ]
  },
  {
   "cell_type": "code",
   "execution_count": null,
   "metadata": {},
   "outputs": [],
   "source": [
    "fig1_data = (df2.groupby('Prscrbr_Type')['Prscrbr_NPI'].nunique()/df2.groupby('Prscrbr_Type')['Prscrbr_NPI'].nunique().sum()).sort_values(ascending=True)"
   ]
  },
  {
   "cell_type": "code",
   "execution_count": null,
   "metadata": {},
   "outputs": [],
   "source": [
    "plt.figure(figsize=(5,10))\n",
    "fig1_data.plot.barh()\n",
    "plt.xlabel('Frequency')\n",
    "plt.ylabel('Provider Specialty Type')\n",
    "plt.title('Frequency of Specialty by Number of Unique Provider',fontweight='bold')\n",
    "plt.savefig('Figure 1 - Frequency of Specialy by Number of Unique NPI.png', dpi=1200,bbox_inches=\"tight\")\n",
    "plt.show()\n",
    "\n",
    "#median drug price per specialty"
   ]
  },
  {
   "cell_type": "markdown",
   "metadata": {},
   "source": [
    "##### Plotting Frequency of Specialty by Number of Unique Provider (Top 5 and Bottom 5)"
   ]
  },
  {
   "cell_type": "code",
   "execution_count": null,
   "metadata": {},
   "outputs": [],
   "source": [
    "\n",
    "fig2_data = pd.concat([fig1_data.nlargest(5), fig1_data.nsmallest(5)]).sort_values(ascending=True)\n",
    "\n",
    "plt.figure(figsize=(5,5))\n",
    "\n",
    "c = ['steelblue','steelblue','steelblue','steelblue','steelblue',\n",
    "    'cornflowerblue','cornflowerblue','cornflowerblue','cornflowerblue','cornflowerblue']\n",
    "\n",
    "fig2_data.plot.barh(color = c)\n",
    "\n",
    "plt.xlabel('Frequency')\n",
    "plt.ylabel('Provider Specialty Type')\n",
    "plt.title('Frequency of Top and Bottom 5 Specialties by Number of Unique Provider',fontweight='bold')\n",
    "plt.savefig('Figure 2 - Frequency of Top and Bottom 5 Specialties by Number of Unique Provider.png', dpi=1200,bbox_inches=\"tight\")\n",
    "plt.show()\n",
    "\n",
    "#median drug price per specialty"
   ]
  },
  {
   "cell_type": "markdown",
   "metadata": {},
   "source": [
    "#### Fraction of Missing Values per Feature"
   ]
  },
  {
   "cell_type": "code",
   "execution_count": 109,
   "metadata": {},
   "outputs": [],
   "source": [
    "missing_per_ftr = df2.isnull().sum(axis=0)/df2.shape[0]\n",
    "#print()\n",
    "#print('Fraction of missing values per features:')\n",
    "#print(missing_per_ftr)"
   ]
  },
  {
   "cell_type": "code",
   "execution_count": 110,
   "metadata": {},
   "outputs": [
    {
     "data": {
      "image/png": "[encoded data removed]",
      "text/plain": [
       "<Figure size 100x500 with 2 Axes>"
      ]
     },
     "metadata": {},
     "output_type": "display_data"
    }
   ],
   "source": [
    "plt.figure(figsize=(1,5))\n",
    "\n",
    "fig3_data = missing_per_ftr.to_frame().reset_index()\n",
    "y_axis_labels = fig3_data.iloc[:,0]\n",
    "fig3_data = np.asarray(fig3_data.iloc[:,1]).reshape(16,1)\n",
    "ax = sns.heatmap(fig3_data ,linewidth=0.5,yticklabels = y_axis_labels,cmap=\"viridis\",vmin=0, vmax=1,annot=True)\n",
    "plt.title(\"Fraction of Missing Values per Feature\",fontweight='bold')\n",
    "plt.savefig('Figure 3 - Fraction of Missing Values per Feature.png', dpi=1200,bbox_inches=\"tight\")\n",
    "\n",
    "plt.show()"
   ]
  },
  {
   "cell_type": "markdown",
   "metadata": {},
   "source": [
    "#### Fraction of Rows with Missing Data"
   ]
  },
  {
   "cell_type": "code",
   "execution_count": null,
   "metadata": {},
   "outputs": [],
   "source": [
    "missing = missing_per_ftr[missing_per_ftr > 0]\n",
    "print (f'Fraction of Rows with Missing Data: {len(missing)/df2.shape[1]}')"
   ]
  },
  {
   "cell_type": "markdown",
   "metadata": {},
   "source": [
    "#### Determining Categorical, Ordinal, and Continuous Features"
   ]
  },
  {
   "cell_type": "code",
   "execution_count": null,
   "metadata": {},
   "outputs": [],
   "source": [
    "print(df2.dtypes)"
   ]
  },
  {
   "cell_type": "code",
   "execution_count": null,
   "metadata": {},
   "outputs": [],
   "source": [
    "target = ['Prscrbr_Type']\n",
    "\n",
    "categorical_ftrs = ['Prscrbr_NPI',\n",
    "                    'Prscrbr_City',\n",
    "                    'Prscrbr_State_Abrvtn',\n",
    "                    'Brnd_Name',\n",
    "                    'Gnrc_Name']\n",
    "\n",
    "ordinal_ftrs = []\n",
    "\n",
    "std_ftrs = ['Tot_Clms', \n",
    "            'Tot_30day_Fills', \n",
    "            'Tot_Day_Suply', \n",
    "            'Tot_Drug_Cst', \n",
    "            'Tot_Benes', \n",
    "            'GE65_Tot_Clms',\n",
    "            'GE65_Tot_30day_Fills',\n",
    "            'GE65_Tot_Drug_Cst',\n",
    "            'GE65_Tot_Day_Suply',\n",
    "            'GE65_Tot_Benes']\n"
   ]
  },
  {
   "cell_type": "markdown",
   "metadata": {},
   "source": [
    "#### Examining Distribution of Continuous Features"
   ]
  },
  {
   "cell_type": "markdown",
   "metadata": {},
   "source": [
    "##### Aggregate Drug Cost"
   ]
  },
  {
   "cell_type": "code",
   "execution_count": null,
   "metadata": {},
   "outputs": [],
   "source": [
    "plt.figure(figsize=(6,2))\n",
    "df2.Tot_Drug_Cst.plot.hist(log=True, bins = np.logspace(np.log10(1),np.log10(np.max(df2['Tot_Drug_Cst'])),50))\n",
    "plt.semilogy()\n",
    "plt.semilogx()\n",
    "plt.xlabel('Total Drug Cost')\n",
    "plt.ylabel('Count')\n",
    "plt.title('Drug Costs Paid for All Associated Claims',fontweight='bold')\n",
    "plt.savefig('Figure 4 - Distribution of Drug Costs Paid for All Associated Claims.png', dpi=1200,bbox_inches=\"tight\")\n",
    "\n",
    "#plt.xlim([10**1, 10**5])\n",
    "plt.show()\n"
   ]
  },
  {
   "cell_type": "markdown",
   "metadata": {},
   "source": [
    "##### Total Number of Medicare Beneficiaries with > 1 Claim for a Drug"
   ]
  },
  {
   "cell_type": "code",
   "execution_count": null,
   "metadata": {},
   "outputs": [],
   "source": [
    "plt.figure(figsize=(6,2))\n",
    "df2.Tot_Benes.plot.hist(log=True, bins = np.logspace(np.log10(1),np.log10(np.max(df2['Tot_Benes'])),50))\n",
    "plt.semilogy()\n",
    "plt.semilogx()\n",
    "plt.xlabel('Total Beneficiaries')\n",
    "plt.ylabel('Count')\n",
    "plt.title('Distribution of Total Beneficiaries for a Drug',fontweight='bold')\n",
    "plt.savefig('Figure 5 - Distribution of Total Beneficiaries for a Drug.png', dpi=1200,bbox_inches=\"tight\")\n",
    "\n",
    "#plt.xlim([10**1, 10**5])\n",
    "plt.show()\n"
   ]
  },
  {
   "cell_type": "markdown",
   "metadata": {},
   "source": [
    "##### Total Day Supply for which a drug was dispensed"
   ]
  },
  {
   "cell_type": "code",
   "execution_count": null,
   "metadata": {},
   "outputs": [],
   "source": [
    "plt.figure(figsize=(6,2))\n",
    "df2.Tot_Day_Suply.plot.hist(log=True, bins = np.logspace(np.log10(1),np.log10(np.max(df2['Tot_Benes'])),50))\n",
    "plt.semilogy()\n",
    "plt.semilogx()\n",
    "plt.xlabel('Total Day Supply')\n",
    "plt.ylabel('Count')\n",
    "plt.title('Distribution of Total Day Supply for a Drug',fontweight='bold')\n",
    "plt.savefig('Figure 6 - Distribution of Total Day Supply for a Drug.png', dpi=1200,bbox_inches=\"tight\")\n",
    "\n",
    "#plt.xlim([10**1, 10**5])\n",
    "plt.show()\n"
   ]
  },
  {
   "cell_type": "markdown",
   "metadata": {},
   "source": [
    "##### Aggregate Number of Standardized 30-Day Drug Filla"
   ]
  },
  {
   "cell_type": "code",
   "execution_count": null,
   "metadata": {},
   "outputs": [],
   "source": [
    "plt.figure(figsize=(6,2))\n",
    "df2.Tot_30day_Fills.plot.hist(log=True, bins = np.logspace(np.log10(1),np.log10(np.max(df2['Tot_30day_Fills'])),50))\n",
    "plt.semilogy()\n",
    "plt.semilogx()\n",
    "plt.xlabel('Total 30 Day Fills')\n",
    "plt.ylabel('Count')\n",
    "plt.title('Distribution of Total 30 Day Fills for a Drug',fontweight='bold')\n",
    "plt.savefig('Figure 7 - Distribution of Total 30 Day Fills for a Drug.png', dpi=1200,bbox_inches=\"tight\")\n",
    "\n",
    "#plt.xlim([10**1, 10**5])\n",
    "plt.show()\n",
    "\n"
   ]
  },
  {
   "cell_type": "markdown",
   "metadata": {},
   "source": [
    "##### Number of Medicare Part D Claims"
   ]
  },
  {
   "cell_type": "code",
   "execution_count": null,
   "metadata": {},
   "outputs": [],
   "source": [
    "plt.figure(figsize=(6,2))\n",
    "df2.Tot_Clms.plot.hist(log=True, bins = np.logspace(np.log10(1),np.log10(np.max(df2['Tot_Clms'])),50))\n",
    "plt.semilogy()\n",
    "plt.semilogx()\n",
    "plt.xlabel('Total Claims')\n",
    "plt.ylabel('Count')\n",
    "plt.title('Distribution of Total Claims for a Drug',fontweight='bold')\n",
    "plt.savefig('Figure 8 - Distribution of Total Claims for a Drug.png', dpi=1200,bbox_inches=\"tight\")\n",
    "\n",
    "#plt.xlim([10**1, 10**5])\n",
    "plt.show()\n"
   ]
  },
  {
   "cell_type": "markdown",
   "metadata": {},
   "source": [
    "##### Cost per Claim: Total Drug Cost / Total Claims"
   ]
  },
  {
   "cell_type": "code",
   "execution_count": null,
   "metadata": {},
   "outputs": [],
   "source": [
    "fig9_data = df2.Tot_Drug_Cst/df2.Tot_Clms\n",
    "\n",
    "plt.figure(figsize=(6,2))\n",
    "fig9_data.plot.hist(log=True, bins = np.logspace(np.log10(1),np.log10(np.max(fig9_data)),50))\n",
    "plt.semilogy()\n",
    "plt.semilogx()\n",
    "plt.xlabel('Dollar [$]')\n",
    "plt.ylabel('Count')\n",
    "plt.title('Distribution of Drug Cost per Claim (Total Drug Cost/Total Claims)',fontweight='bold')\n",
    "plt.savefig('Figure 9 - Distribution of Drug Cost per Claim.png', dpi=1200,bbox_inches=\"tight\")\n",
    "\n",
    "#plt.xlim([10**1, 10**5])\n",
    "plt.show()\n"
   ]
  },
  {
   "cell_type": "markdown",
   "metadata": {},
   "source": [
    "##### Median Cost per Claim by Specialty"
   ]
  },
  {
   "cell_type": "code",
   "execution_count": null,
   "metadata": {},
   "outputs": [],
   "source": [
    "fig10_data = df2[[\"Prscrbr_NPI\", \"Prscrbr_Type\", \"Tot_Clms\", 'Tot_Drug_Cst']]\n",
    "\n",
    "fig10_data[\"Cst_per_Clm\"] = fig10_data[\"Tot_Drug_Cst\"]/fig10_data[\"Tot_Clms\"]\n"
   ]
  },
  {
   "cell_type": "code",
   "execution_count": null,
   "metadata": {},
   "outputs": [],
   "source": [
    "fig10_data2 = fig10_data.groupby([\"Prscrbr_Type\"])[\"Cst_per_Clm\"].median().sort_values(ascending=True)\n",
    "\n",
    "plt.figure(figsize=(5,10))\n",
    "fig10_data2.plot.barh()\n",
    "plt.xlabel('Dollar [$]')\n",
    "plt.ylabel('Provider Specialty Type')\n",
    "plt.title('Median Cost per Claim by Provider Specialty',fontweight='bold')\n",
    "plt.savefig('Figure 10 - Median Cost per Claim by Provider Specialty.png', dpi=1200,bbox_inches=\"tight\")\n",
    "plt.show()\n",
    "\n",
    "#median drug price per specialty"
   ]
  },
  {
   "cell_type": "markdown",
   "metadata": {},
   "source": [
    "##### Distribution of Total Claims by Specialty"
   ]
  },
  {
   "cell_type": "code",
   "execution_count": null,
   "metadata": {},
   "outputs": [],
   "source": [
    "# plot\n",
    "# Initialize the FacetGrid object\n",
    "pal = sns.cubehelix_palette(len(fig10_data.Prscrbr_Type.unique()), rot=-.25, light=.7)\n",
    "g = sns.FacetGrid(fig10_data, row=\"Prscrbr_Type\", hue=\"Prscrbr_Type\", aspect=15, height=.5, palette=pal)\n",
    "\n",
    "# Draw the densities in a few steps\n",
    "g.map(sns.kdeplot, \"Tot_Clms\", bw_adjust=.5, clip_on=False, fill=True, alpha=1, linewidth=1.5,log_scale=True)\n",
    "g.map(sns.kdeplot, \"Tot_Clms\", clip_on=False, color=\"w\", lw=2, bw_adjust=.5,log_scale=True)\n",
    "g.map(plt.axhline, y=0, lw=2, clip_on=False)\n",
    "\n",
    "# Define and use a simple function to label the plot in axes coordinates\n",
    "def label(x, color, label):\n",
    "    ax = plt.gca()\n",
    "    ax.text(0, .2, label, fontweight=\"bold\", color=color, ha=\"right\", va=\"center\", transform=ax.transAxes)\n",
    "\n",
    "g.map(label, \"Prscrbr_Type\")\n",
    "\n",
    "# Set the subplots to overlap\n",
    "g.fig.subplots_adjust(hspace=-.50)\n",
    "\n",
    "# Remove axes details that don't play well with overlap\n",
    "\n",
    "g.set(yticks=[])\n",
    "g.set(xlabel=None)\n",
    "g.set(ylabel= None)\n",
    "g.set_titles(\"\")\n",
    "g.despine(bottom=True, left=True)\n",
    "\n",
    "g.savefig(\"Figure 12 - Ridge Plot for Total Claims.png\", dpi=1200,bbox_inches=\"tight\")"
   ]
  },
  {
   "cell_type": "markdown",
   "metadata": {},
   "source": [
    "##### Distribution of Cost per Claim by Specialty"
   ]
  },
  {
   "cell_type": "code",
   "execution_count": null,
   "metadata": {},
   "outputs": [],
   "source": [
    "categories = fig10_data['Prscrbr_Type'].unique()\n",
    "bin_range = np.logspace(np.log10(1),np.log10(282651),50)\n",
    "\n",
    "for c in categories[0:5]:\n",
    "    plt.hist(fig10_data[fig10_data['Prscrbr_Type']==c]['Cst_per_Clm'],log=True,alpha=0.5,label=c,bins=500,density=True)\n",
    "plt.legend()\n",
    "plt.semilogy()\n",
    "plt.semilogx()\n",
    "plt.ylabel('fraction')\n",
    "plt.xlabel('Cst_per_Clm')\n",
    "plt.show()"
   ]
  },
  {
   "cell_type": "code",
   "execution_count": null,
   "metadata": {},
   "outputs": [],
   "source": [
    "fig, ax = plt.subplots(figsize=(8,6))\n",
    "sns.scatterplot(x='x', y='y', hue='Prscrbr_Type', data=fig10_data) \n",
    "plt.show()"
   ]
  },
  {
   "cell_type": "markdown",
   "metadata": {},
   "source": [
    "##### Aggregate Sum of Drug Claims per Specialty"
   ]
  },
  {
   "cell_type": "code",
   "execution_count": null,
   "metadata": {},
   "outputs": [],
   "source": [
    "fig11_data = fig10_data.groupby([\"Prscrbr_Type\"])[\"Tot_Clms\"].sum().sort_values(ascending=True)\n",
    "\n",
    "plt.figure(figsize=(5,10))\n",
    "fig11_data.plot.barh()\n",
    "plt.xlabel('# of Claims')\n",
    "plt.ylabel('Provider Specialty Type')\n",
    "\n",
    "plt.title('Aggregate Sum of Claims by Provider Specialty',fontweight='bold')\n",
    "plt.savefig('Figure 11 - Aggregate Sum of Claims by Provider Specialty.png', dpi=1200,bbox_inches=\"tight\")\n",
    "plt.show()\n"
   ]
  },
  {
   "cell_type": "markdown",
   "metadata": {},
   "source": [
    "##### Distribution of Drug Claims per Specialty"
   ]
  },
  {
   "cell_type": "markdown",
   "metadata": {},
   "source": [
    "##### Total Cost vs Total Claim"
   ]
  },
  {
   "cell_type": "code",
   "execution_count": null,
   "metadata": {},
   "outputs": [],
   "source": [
    "fig, ax = plt.subplots(figsize = (9, 6))\n",
    "ax.scatter(df2.Tot_Clms, df2.Tot_Drug_Cst, s=60, alpha=0.7, edgecolors=\"k\")\n",
    "\n",
    "ax.set_xscale(\"log\")\n",
    "ax.set_yscale(\"log\")\n",
    "\n",
    "\n",
    "plt.title(\"Total Cost vs Total Claim\",fontweight='bold')\n",
    "\n",
    "plt.xlabel('# of Claims')\n",
    "plt.ylabel('Total Drug Cost [$]')\n",
    "plt.savefig('Figure 12 - Total Cost vs Total Claim Scatterplot.png', dpi=1200,bbox_inches=\"tight\")\n",
    "plt.show()"
   ]
  },
  {
   "cell_type": "code",
   "execution_count": null,
   "metadata": {},
   "outputs": [],
   "source": [
    "fig16_data = df2[(df2[\"Prscrbr_Type\"] == 'Ophthalmology') |\n",
    "                 (df2[\"Prscrbr_Type\"] == 'Pulmonary Disease') | \n",
    "                 (df2[\"Prscrbr_Type\"] == 'Endocrinology') | \n",
    "                (df2[\"Prscrbr_Type\"] == 'Emergency Medicine' )|\n",
    "                (df2[\"Prscrbr_Type\"] == 'Oral Surgery (Dentist only)' )|\n",
    "                (df2[\"Prscrbr_Type\"] == 'Dentist')]\n"
   ]
  },
  {
   "cell_type": "code",
   "execution_count": null,
   "metadata": {},
   "outputs": [],
   "source": [
    "hue_order = [\"Pulmonary Disease\", \"Endocrinology\", \"Ophthalmology\",\n",
    "            \"Emergency Medicine\", \"Oral Surgery (Dentist only)\", \"Dentist\"]\n",
    "\n",
    "fig, ax = plt.subplots(figsize=(5,5))\n",
    "g = sns.scatterplot(x='Tot_Clms', y='Tot_Drug_Cst', hue='Prscrbr_Type', \n",
    "                    data=fig16_data, palette=\"coolwarm\", hue_order = hue_order)\n",
    "g.legend(loc='lower right') #, bbox_to_anchor=(1, 0.5), ncol=1\n",
    "\n",
    "ax.set_xscale(\"log\")\n",
    "ax.set_yscale(\"log\")\n",
    "\n",
    "plt.xlabel('# of Claims')\n",
    "plt.ylabel('Total Drug Cost [$]')\n",
    "\n",
    "plt.title(\"Total Drug Cost vs Total # of Claim for Select Specialties\",fontweight='bold')\n",
    "plt.savefig('Figure 13 - Total Cost vs Total Claim for Select Specialties.png', dpi=1200,bbox_inches=\"tight\")\n",
    "\n",
    "plt.show()"
   ]
  },
  {
   "cell_type": "markdown",
   "metadata": {},
   "source": [
    "#### Exploring Categorical Features"
   ]
  },
  {
   "cell_type": "markdown",
   "metadata": {},
   "source": [
    "##### Number of Unique Providers in the Dataset"
   ]
  },
  {
   "cell_type": "code",
   "execution_count": null,
   "metadata": {},
   "outputs": [],
   "source": [
    "uniqueNPIs = df2.Prscrbr_NPI.unique()\n",
    "\n",
    "print(f'Number of Unique Providers: {len(uniqueNPIs)}')"
   ]
  },
  {
   "cell_type": "markdown",
   "metadata": {},
   "source": [
    "##### Number of Unique Generic Drugs"
   ]
  },
  {
   "cell_type": "code",
   "execution_count": null,
   "metadata": {},
   "outputs": [],
   "source": [
    "uniqueGenericDrugs = df2.Gnrc_Name.unique()\n",
    "print(f'Number of unique generic name drugs:{len(uniqueGenericDrugs)}')\n",
    "#replace rare drugs w/string 'rare' <100"
   ]
  },
  {
   "cell_type": "markdown",
   "metadata": {},
   "source": [
    "##### Number of Unique Generic Drugs per Specialty"
   ]
  },
  {
   "cell_type": "code",
   "execution_count": null,
   "metadata": {},
   "outputs": [],
   "source": [
    "fig14_data = df2.groupby('Prscrbr_Type')['Gnrc_Name'].nunique().sort_values(ascending=True)\n",
    "\n",
    "plt.figure(figsize=(5,10))\n",
    "fig14_data.plot.barh()\n",
    "plt.xlabel('Count')\n",
    "plt.ylabel('Provider Specialty Type')\n",
    "plt.title('Unique Generic Drugs by Specialty',fontweight='bold')\n",
    "plt.savefig('Figure 14 - Unique Generic Drugs by Specialty.png', dpi=1200,bbox_inches=\"tight\")\n",
    "plt.show()\n"
   ]
  },
  {
   "cell_type": "code",
   "execution_count": null,
   "metadata": {},
   "outputs": [],
   "source": [
    "\n",
    "fig15_data = pd.concat([fig14_data.nlargest(5), fig14_data.nsmallest(5)]).sort_values(ascending=True)\n",
    "\n",
    "plt.figure(figsize=(5,5))\n",
    "\n",
    "c = ['steelblue','steelblue','steelblue','steelblue','steelblue',\n",
    "    'cornflowerblue','cornflowerblue','cornflowerblue','cornflowerblue','cornflowerblue']\n",
    "\n",
    "fig15_data.plot.barh(color = c)\n",
    "\n",
    "plt.xlabel('Frequency')\n",
    "plt.ylabel('Provider Specialty Type')\n",
    "plt.title('Number of Unique Generic Drugs by Specialty (Top and Bottom 5)',fontweight='bold')\n",
    "plt.savefig('Figure 15 - Unique Generic Drugs by Specialty (Top and Bottom 5).png', dpi=1200,bbox_inches=\"tight\")\n",
    "plt.show()\n",
    "\n",
    "#median drug price per specialty"
   ]
  },
  {
   "cell_type": "code",
   "execution_count": null,
   "metadata": {},
   "outputs": [],
   "source": [
    "GenericDrugsCountbyNPI = pd.DataFrame(df2.groupby('Gnrc_Name')['Prscrbr_NPI'].nunique())\n",
    "GenericDrugsCountbyNPI.reset_index(inplace=True)\n",
    "GenericDrugsCountbyNPI.columns = ['Generic Name', '# of NPIs']\n",
    "GenericDrugsCountbyNPI = GenericDrugsCountbyNPI.sort_values(by=['# of NPIs'], ascending=False)\n",
    "\n",
    "GenericDrugsCountbyNPI.head()"
   ]
  },
  {
   "cell_type": "code",
   "execution_count": null,
   "metadata": {},
   "outputs": [],
   "source": [
    "GenericDrugsbyCount_HighFreq = GenericDrugsCountbyNPI[GenericDrugsCountbyNPI['# of NPIs'] >= 250]\n",
    "\n",
    "GenericDrugsbyCount_HighFreq.head()\n",
    "\n",
    "print(f\"Number of Generic Drugs Prescribed by >= 250 Physicians : {len(GenericDrugsbyCount_HighFreq)}\")"
   ]
  },
  {
   "cell_type": "code",
   "execution_count": null,
   "metadata": {},
   "outputs": [],
   "source": [
    "# Replace \"rare drugs\" that occur < 250 times with string \"Rare\"\n",
    "\n",
    "GenericDrugsbyCount_LowFreq = GenericDrugsCountbyNPI[GenericDrugsCountbyNPI['# of NPIs'] < 250]\n",
    "\n",
    "print(f\"Number of Generic Drugs Prescribed by < 250 Physicians : {len(GenericDrugsbyCount_LowFreq)}\")\n",
    "\n",
    "GenericDrugsbyCount_LowFreqList = list(GenericDrugsbyCount_LowFreq ['Generic Name'])\n"
   ]
  },
  {
   "cell_type": "code",
   "execution_count": null,
   "metadata": {},
   "outputs": [],
   "source": [
    "df2.Gnrc_Name = np.where(df2.Gnrc_Name.isin(GenericDrugsbyCount_LowFreqList), \"Rare\", df2.Gnrc_Name)"
   ]
  },
  {
   "cell_type": "code",
   "execution_count": null,
   "metadata": {},
   "outputs": [],
   "source": [
    "fig11_data = fig10_data.groupby([\"Prscrbr_Type\"])[\"Tot_Clms\"].sum().sort_values(ascending=True)\n",
    "\n",
    "plt.figure(figsize=(5,10))\n",
    "fig11_data.plot.barh()\n",
    "plt.xlabel('# of Claims')\n",
    "plt.ylabel('Provider Specialty Type')\n",
    "plt.title('Aggregate Sum of Claims by Provider Specialty',fontweight='bold')\n",
    "plt.savefig('Figure 11 - Aggregate Sum of Claims by Provider Specialty.png', dpi=1200,bbox_inches=\"tight\")\n",
    "plt.show()\n"
   ]
  },
  {
   "cell_type": "markdown",
   "metadata": {},
   "source": [
    "##### Number of Unique Brand Name Drugs"
   ]
  },
  {
   "cell_type": "code",
   "execution_count": null,
   "metadata": {},
   "outputs": [],
   "source": [
    "uniqueBrandNameDrugs = df2.Brnd_Name.unique()\n",
    "print(f'Number of unique brand name drugs: {len(uniqueBrandNameDrugs)}')\n",
    "print()\n",
    "df2['Brnd_Name'].value_counts()"
   ]
  },
  {
   "cell_type": "code",
   "execution_count": null,
   "metadata": {},
   "outputs": [],
   "source": [
    "BrandDrugsCountbyNPI = pd.DataFrame(df2.groupby('Brnd_Name')['Prscrbr_NPI'].nunique())\n",
    "BrandDrugsCountbyNPI.reset_index(inplace=True)\n",
    "BrandDrugsCountbyNPI.columns = ['Brand Name', '# of NPIs']\n",
    "BrandDrugsCountbyNPI = BrandDrugsCountbyNPI.sort_values(by=['# of NPIs'], ascending=False)\n",
    "\n",
    "BrandDrugsCountbyNPI.head()"
   ]
  },
  {
   "cell_type": "code",
   "execution_count": null,
   "metadata": {},
   "outputs": [],
   "source": [
    "BrandDrugsbyCount_HighFreq = BrandDrugsCountbyNPI[BrandDrugsCountbyNPI['# of NPIs'] >= 250]\n",
    "\n",
    "BrandDrugsbyCount_HighFreq.head()\n",
    "\n",
    "print(f\"Number of Brand Name Drugs Prescribed by >= 250 Physicians : {len(BrandDrugsbyCount_HighFreq)}\")\n",
    "\n",
    "df2.Brnd_Name = np.where(df2.Brnd_Name.isin(BrandDrugsbyCount_LowFreqList), \"Rare\", df2.Gnrc_Name)"
   ]
  },
  {
   "cell_type": "code",
   "execution_count": null,
   "metadata": {},
   "outputs": [],
   "source": [
    "# Replace \"rare drugs\" that occur < 250 times with string \"Rare\"\n",
    "\n",
    "BrandDrugsbyCount_LowFreq = BrandDrugsCountbyNPI[BrandDrugsCountbyNPI['# of NPIs'] < 250]\n",
    "\n",
    "print(f\"Number of Brand Name Drugs Prescribed by < 250 Physicians : {len(BrandDrugsbyCount_LowFreq)}\")\n",
    "\n",
    "BrandDrugsbyCount_LowFreqList = list(BrandDrugsbyCount_LowFreq ['Brand Name'])"
   ]
  },
  {
   "cell_type": "code",
   "execution_count": null,
   "metadata": {},
   "outputs": [],
   "source": [
    "df2.Brnd_Name = np.where(df2.Brnd_Name.isin(BrandDrugsbyCount_LowFreqList), \"Rare\", df2.Brnd_Name)"
   ]
  },
  {
   "cell_type": "markdown",
   "metadata": {},
   "source": [
    "##### City and State of the Provdider"
   ]
  },
  {
   "cell_type": "code",
   "execution_count": null,
   "metadata": {},
   "outputs": [],
   "source": [
    "uniqueStates = df2.Prscrbr_State_Abrvtn.unique()\n",
    "\n",
    "print(f'Number of unique states: {len(uniqueStates)}')"
   ]
  },
  {
   "cell_type": "code",
   "execution_count": null,
   "metadata": {},
   "outputs": [],
   "source": [
    "print(uniqueStates)"
   ]
  },
  {
   "cell_type": "markdown",
   "metadata": {},
   "source": [
    "#### Visualizing Features vs Target Variable"
   ]
  },
  {
   "cell_type": "markdown",
   "metadata": {},
   "source": [
    "##### Average Total Claims by Specialty"
   ]
  },
  {
   "cell_type": "code",
   "execution_count": null,
   "metadata": {},
   "outputs": [],
   "source": [
    "AvgTotClaimsbySpec = pd.DataFrame(df2.groupby('Prscrbr_Type')['Tot_Clms'].mean())\n",
    "#DrugCostbySpec.reset_index(inplace=True)\n",
    "AvgTotClaimsbySpec.columns = ['Mean Total Claims']\n",
    "AvgTotClaimsbySpec = AvgTotClaimsbySpec.sort_values(by=['Mean Total Claims'], ascending=False)\n",
    "\n",
    "plt.figure(figsize=(5,10))\n",
    "AvgTotClaimsbySpec.sort_values(by = ['Mean Total Claims'], ascending=True).plot.barh()\n",
    "plt.xlabel('Count')\n",
    "plt.ylabel('Provider Specialty Type')\n",
    "plt.title('Mean Total Claims by Specialty',fontweight='bold')\n",
    "plt.show()"
   ]
  },
  {
   "cell_type": "markdown",
   "metadata": {},
   "source": [
    "##### Total Claims per Specialty"
   ]
  },
  {
   "cell_type": "code",
   "execution_count": null,
   "metadata": {},
   "outputs": [],
   "source": [
    "TotClaimsbySpec = pd.DataFrame(df2.groupby('Prscrbr_Type')['Tot_Clms'].sum())\n",
    "#DrugCostbySpec.reset_index(inplace=True)\n",
    "TotClaimsbySpec.columns = ['Total Claims']\n",
    "TotClaimsbySpec = TotClaimsbySpec.sort_values(by=['Total Claims'], ascending=False)\n",
    "\n",
    "plt.figure(figsize=(5,10))\n",
    "TotClaimsbySpec.sort_values(by = ['Total Claims'], ascending=True).plot.barh()\n",
    "plt.xlabel('Count')\n",
    "plt.ylabel('Provider Specialty Type')\n",
    "plt.title('Total Claims by Specialty',fontweight='bold')\n",
    "plt.show()"
   ]
  },
  {
   "cell_type": "markdown",
   "metadata": {},
   "source": [
    "##### Average Aggregate Drug Cost for All Claims by Specialty"
   ]
  },
  {
   "cell_type": "code",
   "execution_count": null,
   "metadata": {},
   "outputs": [],
   "source": [
    "DrugCostbySpec = pd.DataFrame(df2.groupby('Prscrbr_Type')['Tot_Drug_Cst'].mean())\n",
    "#DrugCostbySpec.reset_index(inplace=True)\n",
    "DrugCostbySpec.columns = ['Mean Aggregate Drug Cost']\n",
    "DrugCostbySpec = DrugCostbySpec.sort_values(by=['Mean Aggregate Drug Cost'], ascending=False)\n",
    "\n",
    "plt.figure(figsize=(5,10))\n",
    "DrugCostbySpec.sort_values(by = ['Mean Aggregate Drug Cost'], ascending=True).plot.barh()\n",
    "plt.xlabel('Cost [$]')\n",
    "plt.ylabel('Provider Specialty Type')\n",
    "plt.title('Average Aggregate Drug Cost for All Claims by Specialty',fontweight='bold')\n",
    "plt.show()"
   ]
  },
  {
   "cell_type": "code",
   "execution_count": null,
   "metadata": {},
   "outputs": [],
   "source": []
  },
  {
   "cell_type": "code",
   "execution_count": null,
   "metadata": {},
   "outputs": [],
   "source": []
  },
  {
   "cell_type": "markdown",
   "metadata": {},
   "source": [
    "##### "
   ]
  },
  {
   "cell_type": "markdown",
   "metadata": {},
   "source": [
    "## II. Splitting Data into Train, Validation, and Test Sets"
   ]
  },
  {
   "cell_type": "markdown",
   "metadata": {},
   "source": [
    "**- Since multiple rows can fall under the same NPI, Stratified Group KFold will be used on the data to split by NPI.**"
   ]
  },
  {
   "cell_type": "markdown",
   "metadata": {},
   "source": [
    "##### Check Dataset Dimensions Before Splitting"
   ]
  },
  {
   "cell_type": "code",
   "execution_count": 12,
   "metadata": {},
   "outputs": [
    {
     "name": "stdout",
     "output_type": "stream",
     "text": [
      "Rows: 17972550\n",
      "Columns: 16\n"
     ]
    }
   ],
   "source": [
    "rows, columns = df2.shape\n",
    "\n",
    "print(f'Rows: {rows}')\n",
    "print(f'Columns: {columns}')"
   ]
  },
  {
   "cell_type": "markdown",
   "metadata": {},
   "source": [
    "##### Separate Feature and Target Variables"
   ]
  },
  {
   "cell_type": "code",
   "execution_count": 14,
   "metadata": {},
   "outputs": [
    {
     "name": "stdout",
     "output_type": "stream",
     "text": [
      "Number of features: 14\n"
     ]
    }
   ],
   "source": [
    "X = df2.drop(['Prscrbr_Type', 'Prscrbr_NPI'], axis=1)\n",
    "\n",
    "y = df2.Prscrbr_Type\n",
    "\n",
    "groups = df2.Prscrbr_NPI\n",
    "\n",
    "print(f'Number of features: {X.shape[1]}')"
   ]
  },
  {
   "cell_type": "code",
   "execution_count": 37,
   "metadata": {},
   "outputs": [
    {
     "data": {
      "text/plain": [
       "598684"
      ]
     },
     "execution_count": 37,
     "metadata": {},
     "output_type": "execute_result"
    }
   ],
   "source": [
    "len(groups.unique())"
   ]
  },
  {
   "cell_type": "markdown",
   "metadata": {},
   "source": [
    "##### Store Feature Weights in a DataFrame"
   ]
  },
  {
   "cell_type": "code",
   "execution_count": 71,
   "metadata": {},
   "outputs": [],
   "source": [
    "classes, counts = np.unique(y,return_counts=True)\n",
    "balance_df =pd.DataFrame({'Classes':classes, 'counts':counts})\n",
    "balance_df[\"Raw Data\"] = (balance_df[\"counts\"]/len(y))*100\n",
    "balance_df = balance_df.drop([\"counts\"], axis=1)"
   ]
  },
  {
   "cell_type": "code",
   "execution_count": 72,
   "metadata": {},
   "outputs": [],
   "source": [
    "balance_df = balance_df.T"
   ]
  },
  {
   "cell_type": "code",
   "execution_count": 73,
   "metadata": {},
   "outputs": [],
   "source": [
    "balance_df = balance_df.rename(columns=balance_df.iloc[0])\n",
    "balance_df = balance_df.iloc[1: , :]\n"
   ]
  },
  {
   "cell_type": "code",
   "execution_count": 74,
   "metadata": {},
   "outputs": [
    {
     "data": {
      "text/html": [
       "<div>\n",
       "<style scoped>\n",
       "    .dataframe tbody tr th:only-of-type {\n",
       "        vertical-align: middle;\n",
       "    }\n",
       "\n",
       "    .dataframe tbody tr th {\n",
       "        vertical-align: top;\n",
       "    }\n",
       "\n",
       "    .dataframe thead th {\n",
       "        text-align: right;\n",
       "    }\n",
       "</style>\n",
       "<table border=\"1\" class=\"dataframe\">\n",
       "  <thead>\n",
       "    <tr style=\"text-align: right;\">\n",
       "      <th></th>\n",
       "      <th>Cardiology</th>\n",
       "      <th>Dentist</th>\n",
       "      <th>Dermatology</th>\n",
       "      <th>Emergency Medicine</th>\n",
       "      <th>Endocrinology</th>\n",
       "      <th>Family Practice</th>\n",
       "      <th>Gastroenterology</th>\n",
       "      <th>General Practice</th>\n",
       "      <th>General Surgery</th>\n",
       "      <th>Hematology-Oncology</th>\n",
       "      <th>...</th>\n",
       "      <th>Ophthalmology</th>\n",
       "      <th>Oral Surgery (Dentist only)</th>\n",
       "      <th>Orthopedic Surgery</th>\n",
       "      <th>Otolaryngology</th>\n",
       "      <th>Physical Medicine and Rehabilitation</th>\n",
       "      <th>Podiatry</th>\n",
       "      <th>Psychiatry</th>\n",
       "      <th>Psychiatry &amp; Neurology</th>\n",
       "      <th>Pulmonary Disease</th>\n",
       "      <th>Urology</th>\n",
       "    </tr>\n",
       "  </thead>\n",
       "  <tbody>\n",
       "    <tr>\n",
       "      <th>Raw Data</th>\n",
       "      <td>4.112099</td>\n",
       "      <td>1.187845</td>\n",
       "      <td>0.970163</td>\n",
       "      <td>1.133378</td>\n",
       "      <td>1.511093</td>\n",
       "      <td>37.630041</td>\n",
       "      <td>1.217445</td>\n",
       "      <td>2.386406</td>\n",
       "      <td>0.353495</td>\n",
       "      <td>1.012238</td>\n",
       "      <td>...</td>\n",
       "      <td>1.517536</td>\n",
       "      <td>0.13051</td>\n",
       "      <td>0.620107</td>\n",
       "      <td>0.482948</td>\n",
       "      <td>0.559509</td>\n",
       "      <td>0.458427</td>\n",
       "      <td>3.325655</td>\n",
       "      <td>0.661542</td>\n",
       "      <td>1.312924</td>\n",
       "      <td>0.917026</td>\n",
       "    </tr>\n",
       "  </tbody>\n",
       "</table>\n",
       "<p>1 rows × 26 columns</p>\n",
       "</div>"
      ],
      "text/plain": [
       "         Cardiology   Dentist Dermatology Emergency Medicine Endocrinology  \\\n",
       "Raw Data   4.112099  1.187845    0.970163           1.133378      1.511093   \n",
       "\n",
       "         Family Practice Gastroenterology General Practice General Surgery  \\\n",
       "Raw Data       37.630041         1.217445         2.386406        0.353495   \n",
       "\n",
       "         Hematology-Oncology  ... Ophthalmology Oral Surgery (Dentist only)  \\\n",
       "Raw Data            1.012238  ...      1.517536                     0.13051   \n",
       "\n",
       "         Orthopedic Surgery Otolaryngology  \\\n",
       "Raw Data           0.620107       0.482948   \n",
       "\n",
       "         Physical Medicine and Rehabilitation  Podiatry Psychiatry  \\\n",
       "Raw Data                             0.559509  0.458427   3.325655   \n",
       "\n",
       "         Psychiatry & Neurology Pulmonary Disease   Urology  \n",
       "Raw Data               0.661542          1.312924  0.917026  \n",
       "\n",
       "[1 rows x 26 columns]"
      ]
     },
     "execution_count": 74,
     "metadata": {},
     "output_type": "execute_result"
    }
   ],
   "source": [
    "balance_df"
   ]
  },
  {
   "cell_type": "markdown",
   "metadata": {},
   "source": [
    "##### Use StratifiedGroupKFold"
   ]
  },
  {
   "cell_type": "code",
   "execution_count": 29,
   "metadata": {},
   "outputs": [],
   "source": [
    "from sklearn.model_selection import GroupShuffleSplit\n",
    "from sklearn.model_selection import train_test_split \n",
    "from sklearn.model_selection import StratifiedGroupKFold\n",
    "\n",
    "np.random.seed(42)"
   ]
  },
  {
   "cell_type": "code",
   "execution_count": 91,
   "metadata": {},
   "outputs": [
    {
     "name": "stdout",
     "output_type": "stream",
     "text": [
      "*** SPLIT DATA INTO TEST SET AND 'OTHER' SET ***\n",
      "\n",
      "Size of OTHER: 11981699\n",
      "Size of OTHER: 0.6666666110262595\n",
      "\n",
      "Size of TEST: 5990851\n",
      "Size of TEST: 0.3333333889737405\n",
      "\n",
      "Unique groups in test: 199564\n",
      "Unique groups in other: 399120\n",
      "\n",
      "Size of OTHER: 11981701\n",
      "Size of OTHER: 0.6666667223070738\n",
      "\n",
      "Size of TEST: 5990849\n",
      "Size of TEST: 0.33333327769292614\n",
      "\n",
      "Unique groups in test: 199559\n",
      "Unique groups in other: 399125\n",
      "\n",
      "Size of OTHER: 11981700\n",
      "Size of OTHER: 0.6666666666666666\n",
      "\n",
      "Size of TEST: 5990850\n",
      "Size of TEST: 0.3333333333333333\n",
      "\n",
      "Unique groups in test: 199561\n",
      "Unique groups in other: 399123\n",
      "\n",
      "CPU times: user 2min 54s, sys: 33.5 s, total: 3min 27s\n",
      "Wall time: 3min 47s\n"
     ]
    }
   ],
   "source": [
    "%%time\n",
    "\n",
    "stratGroupKFold = StratifiedGroupKFold(n_splits=3)\n",
    "print(\"*** SPLIT DATA INTO TEST SET AND 'OTHER' SET ***\")\n",
    "print()\n",
    "\n",
    "for i_other,i_test in stratGroupKFold.split(X, y, groups):\n",
    "    X_other, y_other, groups_other = X.iloc[i_other], y.iloc[i_other], groups.iloc[i_other]\n",
    "    X_test, y_test, groups_test = X.iloc[i_test], y.iloc[i_test], groups.iloc[i_test]\n",
    "    \n",
    "    #print(\"OTHER:\", i_other)\n",
    "    print(\"Size of OTHER:\", len(y_other))\n",
    "    print(\"Size of OTHER:\", len(y_other)/len(y))\n",
    "    print()\n",
    "\n",
    "    #print(\"TEST:\", i_test)\n",
    "    print(\"Size of TEST:\", len(y_test))\n",
    "    print(\"Size of TEST:\", len(y_test)/len(y))\n",
    "    \n",
    "    # check the split\n",
    "    print()\n",
    "    print(f'Unique groups in test: {len(pd.unique(groups_test))}')\n",
    "    print(f'Unique groups in other: {len(pd.unique(groups_other))}')\n",
    "    print()"
   ]
  },
  {
   "cell_type": "code",
   "execution_count": 92,
   "metadata": {},
   "outputs": [
    {
     "name": "stdout",
     "output_type": "stream",
     "text": [
      "*** SPLIT 'OTHER' SET INTO TRAIN AND VALIDATION SETS ***\n",
      "\n",
      "Size of TRAIN: 7987799\n",
      "% TRAIN: 0.6666665832060559\n",
      "\n",
      "Size of VALIDATION: 3993901\n",
      "% VALIDATION: 0.33333341679394407\n",
      "\n",
      "Unique groups in test: 266081\n",
      "Unique groups in other: 133042\n",
      "\n",
      "Size of TRAIN: 7987800\n",
      "% TRAIN: 0.6666666666666666\n",
      "\n",
      "Size of VALIDATION: 3993900\n",
      "% VALIDATION: 0.3333333333333333\n",
      "\n",
      "Unique groups in test: 266084\n",
      "Unique groups in other: 133039\n",
      "\n",
      "Size of TRAIN: 7987801\n",
      "% TRAIN: 0.6666667501272774\n",
      "\n",
      "Size of VALIDATION: 3993899\n",
      "% VALIDATION: 0.33333324987272256\n",
      "\n",
      "Unique groups in test: 266081\n",
      "Unique groups in other: 133042\n",
      "\n",
      "CPU times: user 1min 54s, sys: 14.5 s, total: 2min 9s\n",
      "Wall time: 2min 17s\n"
     ]
    }
   ],
   "source": [
    "%%time\n",
    "# splitter for the other set into train and test set\n",
    "\n",
    "stratGroupKFold2 = StratifiedGroupKFold(n_splits=3)\n",
    "                                       \n",
    "print(\"*** SPLIT 'OTHER' SET INTO TRAIN AND VALIDATION SETS ***\")\n",
    "print()\n",
    "for i_train, i_validation in stratGroupKFold2.split(X_other, y_other, groups_other):\n",
    "    X_train, y_train, groups_train = X_other.iloc[i_train], y_other.iloc[i_train], groups_other.iloc[i_train]\n",
    "    X_validation, y_validation , groups_validation = X_other.iloc[i_validation], y_other.iloc[i_validation], groups_other.iloc[i_validation]\n",
    "    \n",
    "    #print(\"OTHER:\", i_other)\n",
    "    print(\"Size of TRAIN:\", len(y_train))\n",
    "    print(\"% TRAIN:\", len(y_train)/len(y_other))\n",
    "    print()\n",
    "\n",
    "    #print(\"TEST:\", i_test)\n",
    "    print(\"Size of VALIDATION:\", len(y_validation))\n",
    "    print(\"% VALIDATION:\", len(y_validation)/len(y_other))\n",
    "    \n",
    "    # check the split\n",
    "    print()\n",
    "    print(f'Unique groups in test: {len(pd.unique(groups_train))}')\n",
    "    print(f'Unique groups in other: {len(pd.unique(groups_validation))}')\n",
    "    print()"
   ]
  },
  {
   "cell_type": "code",
   "execution_count": 99,
   "metadata": {},
   "outputs": [
    {
     "name": "stdout",
     "output_type": "stream",
     "text": [
      "Test 0.3333333333333333\n",
      "\n",
      "Train 0.44444450008485165\n",
      "\n",
      "Validation 0.22222216658181504\n"
     ]
    }
   ],
   "source": [
    "print(\"Test\", len(y_test)/len(y))\n",
    "print()\n",
    "print(\"Train\", len(y_train)/len(y))\n",
    "print()\n",
    "print(\"Validation\", len(y_validation)/len(y))"
   ]
  },
  {
   "cell_type": "markdown",
   "metadata": {},
   "source": [
    "###### 2nd Iteration"
   ]
  },
  {
   "cell_type": "code",
   "execution_count": 100,
   "metadata": {},
   "outputs": [
    {
     "name": "stdout",
     "output_type": "stream",
     "text": [
      "*** SPLIT DATA INTO TEST SET AND 'OTHER' SET ***\n",
      "\n",
      "Size of OTHER: 14378040\n",
      "Size of OTHER: 0.8\n",
      "\n",
      "Size of TEST: 3594510\n",
      "Size of TEST: 0.2\n",
      "\n",
      "Unique groups in test: 119738\n",
      "Unique groups in other: 478946\n",
      "\n",
      "Size of OTHER: 14378039\n",
      "Size of OTHER: 0.7999999443595929\n",
      "\n",
      "Size of TEST: 3594511\n",
      "Size of TEST: 0.20000005564040718\n",
      "\n",
      "Unique groups in test: 119740\n",
      "Unique groups in other: 478944\n",
      "\n",
      "Size of OTHER: 14378040\n",
      "Size of OTHER: 0.8\n",
      "\n",
      "Size of TEST: 3594510\n",
      "Size of TEST: 0.2\n",
      "\n",
      "Unique groups in test: 119737\n",
      "Unique groups in other: 478947\n",
      "\n",
      "Size of OTHER: 14378041\n",
      "Size of OTHER: 0.8000000556404072\n",
      "\n",
      "Size of TEST: 3594509\n",
      "Size of TEST: 0.1999999443595928\n",
      "\n",
      "Unique groups in test: 119734\n",
      "Unique groups in other: 478950\n",
      "\n",
      "Size of OTHER: 14378040\n",
      "Size of OTHER: 0.8\n",
      "\n",
      "Size of TEST: 3594510\n",
      "Size of TEST: 0.2\n",
      "\n",
      "Unique groups in test: 119735\n",
      "Unique groups in other: 478949\n",
      "\n",
      "CPU times: user 4min 35s, sys: 42.5 s, total: 5min 18s\n",
      "Wall time: 5min 37s\n"
     ]
    }
   ],
   "source": [
    "%%time\n",
    "\n",
    "stratGroupKFold = StratifiedGroupKFold(n_splits=5)\n",
    "print(\"*** SPLIT DATA INTO TEST SET AND 'OTHER' SET ***\")\n",
    "print()\n",
    "\n",
    "for i_other,i_test in stratGroupKFold.split(X, y, groups):\n",
    "    X_other, y_other, groups_other = X.iloc[i_other], y.iloc[i_other], groups.iloc[i_other]\n",
    "    X_test, y_test, groups_test = X.iloc[i_test], y.iloc[i_test], groups.iloc[i_test]\n",
    "    \n",
    "    #print(\"OTHER:\", i_other)\n",
    "    print(\"Size of OTHER:\", len(y_other))\n",
    "    print(\"Size of OTHER:\", len(y_other)/len(y))\n",
    "    print()\n",
    "\n",
    "    #print(\"TEST:\", i_test)\n",
    "    print(\"Size of TEST:\", len(y_test))\n",
    "    print(\"Size of TEST:\", len(y_test)/len(y))\n",
    "    \n",
    "    # check the split\n",
    "    print()\n",
    "    print(f'Unique groups in test: {len(pd.unique(groups_test))}')\n",
    "    print(f'Unique groups in other: {len(pd.unique(groups_other))}')\n",
    "    print()"
   ]
  },
  {
   "cell_type": "code",
   "execution_count": 101,
   "metadata": {},
   "outputs": [
    {
     "name": "stdout",
     "output_type": "stream",
     "text": [
      "*** SPLIT 'OTHER' SET INTO TRAIN AND VALIDATION SETS ***\n",
      "\n",
      "Size of TRAIN: 10783530\n",
      "% TRAIN: 0.75\n",
      "\n",
      "Size of VALIDATION: 3594510\n",
      "% VALIDATION: 0.25\n",
      "\n",
      "Unique groups in test: 359211\n",
      "Unique groups in other: 119738\n",
      "\n",
      "Size of TRAIN: 10783530\n",
      "% TRAIN: 0.75\n",
      "\n",
      "Size of VALIDATION: 3594510\n",
      "% VALIDATION: 0.25\n",
      "\n",
      "Unique groups in test: 359214\n",
      "Unique groups in other: 119735\n",
      "\n",
      "Size of TRAIN: 10783529\n",
      "% TRAIN: 0.749999930449491\n",
      "\n",
      "Size of VALIDATION: 3594511\n",
      "% VALIDATION: 0.25000006955050896\n",
      "\n",
      "Unique groups in test: 359209\n",
      "Unique groups in other: 119740\n",
      "\n",
      "Size of TRAIN: 10783531\n",
      "% TRAIN: 0.750000069550509\n",
      "\n",
      "Size of VALIDATION: 3594509\n",
      "% VALIDATION: 0.24999993044949104\n",
      "\n",
      "Unique groups in test: 359213\n",
      "Unique groups in other: 119736\n",
      "\n",
      "CPU times: user 2min 54s, sys: 24.5 s, total: 3min 18s\n",
      "Wall time: 3min 30s\n"
     ]
    }
   ],
   "source": [
    "%%time\n",
    "# splitter for the other set into train and test set\n",
    "\n",
    "stratGroupKFold2 = StratifiedGroupKFold(n_splits=4)\n",
    "                                       \n",
    "print(\"*** SPLIT 'OTHER' SET INTO TRAIN AND VALIDATION SETS ***\")\n",
    "print()\n",
    "for i_train, i_validation in stratGroupKFold2.split(X_other, y_other, groups_other):\n",
    "    X_train, y_train, groups_train = X_other.iloc[i_train], y_other.iloc[i_train], groups_other.iloc[i_train]\n",
    "    X_validation, y_validation , groups_validation = X_other.iloc[i_validation], y_other.iloc[i_validation], groups_other.iloc[i_validation]\n",
    "    \n",
    "    #print(\"OTHER:\", i_other)\n",
    "    print(\"Size of TRAIN:\", len(y_train))\n",
    "    print(\"% TRAIN:\", len(y_train)/len(y_other))\n",
    "    print()\n",
    "\n",
    "    #print(\"TEST:\", i_test)\n",
    "    print(\"Size of VALIDATION:\", len(y_validation))\n",
    "    print(\"% VALIDATION:\", len(y_validation)/len(y_other))\n",
    "    \n",
    "    # check the split\n",
    "    print()\n",
    "    print(f'Unique groups in test: {len(pd.unique(groups_train))}')\n",
    "    print(f'Unique groups in other: {len(pd.unique(groups_validation))}')\n",
    "    print()"
   ]
  },
  {
   "cell_type": "code",
   "execution_count": 102,
   "metadata": {},
   "outputs": [
    {
     "name": "stdout",
     "output_type": "stream",
     "text": [
      "Test 0.2\n",
      "\n",
      "Train 0.6000000556404071\n",
      "\n",
      "Validation 0.1999999443595928\n"
     ]
    }
   ],
   "source": [
    "print(\"Test\", len(y_test)/len(y))\n",
    "print()\n",
    "print(\"Train\", len(y_train)/len(y))\n",
    "print()\n",
    "print(\"Validation\", len(y_validation)/len(y))"
   ]
  },
  {
   "cell_type": "markdown",
   "metadata": {},
   "source": [
    "##### 3rd Iteration"
   ]
  },
  {
   "cell_type": "code",
   "execution_count": 103,
   "metadata": {},
   "outputs": [
    {
     "name": "stdout",
     "output_type": "stream",
     "text": [
      "*** SPLIT DATA INTO TEST SET AND 'OTHER' SET ***\n",
      "\n",
      "Size of OTHER: 16175295\n",
      "Size of OTHER: 0.9\n",
      "\n",
      "Size of TEST: 1797255\n",
      "Size of TEST: 0.1\n",
      "\n",
      "Unique groups in test: 59869\n",
      "Unique groups in other: 538815\n",
      "\n",
      "Size of OTHER: 16175295\n",
      "Size of OTHER: 0.9\n",
      "\n",
      "Size of TEST: 1797255\n",
      "Size of TEST: 0.1\n",
      "\n",
      "Unique groups in test: 59871\n",
      "Unique groups in other: 538813\n",
      "\n",
      "Size of OTHER: 16175294\n",
      "Size of OTHER: 0.8999999443595929\n",
      "\n",
      "Size of TEST: 1797256\n",
      "Size of TEST: 0.10000005564040718\n",
      "\n",
      "Unique groups in test: 59870\n",
      "Unique groups in other: 538814\n",
      "\n",
      "Size of OTHER: 16175295\n",
      "Size of OTHER: 0.9\n",
      "\n",
      "Size of TEST: 1797255\n",
      "Size of TEST: 0.1\n",
      "\n",
      "Unique groups in test: 59870\n",
      "Unique groups in other: 538814\n",
      "\n",
      "Size of OTHER: 16175295\n",
      "Size of OTHER: 0.9\n",
      "\n",
      "Size of TEST: 1797255\n",
      "Size of TEST: 0.1\n",
      "\n",
      "Unique groups in test: 59869\n",
      "Unique groups in other: 538815\n",
      "\n",
      "Size of OTHER: 16175295\n",
      "Size of OTHER: 0.9\n",
      "\n",
      "Size of TEST: 1797255\n",
      "Size of TEST: 0.1\n",
      "\n",
      "Unique groups in test: 59867\n",
      "Unique groups in other: 538817\n",
      "\n",
      "Size of OTHER: 16175295\n",
      "Size of OTHER: 0.9\n",
      "\n",
      "Size of TEST: 1797255\n",
      "Size of TEST: 0.1\n",
      "\n",
      "Unique groups in test: 59866\n",
      "Unique groups in other: 538818\n",
      "\n",
      "Size of OTHER: 16175295\n",
      "Size of OTHER: 0.9\n",
      "\n",
      "Size of TEST: 1797255\n",
      "Size of TEST: 0.1\n",
      "\n",
      "Unique groups in test: 59869\n",
      "Unique groups in other: 538815\n",
      "\n",
      "Size of OTHER: 16175295\n",
      "Size of OTHER: 0.9\n",
      "\n",
      "Size of TEST: 1797255\n",
      "Size of TEST: 0.1\n",
      "\n",
      "Unique groups in test: 59868\n",
      "Unique groups in other: 538816\n",
      "\n",
      "Size of OTHER: 16175296\n",
      "Size of OTHER: 0.9000000556404072\n",
      "\n",
      "Size of TEST: 1797254\n",
      "Size of TEST: 0.09999994435959282\n",
      "\n",
      "Unique groups in test: 59865\n",
      "Unique groups in other: 538819\n",
      "\n",
      "CPU times: user 9min 22s, sys: 1min 23s, total: 10min 45s\n",
      "Wall time: 11min 27s\n"
     ]
    }
   ],
   "source": [
    "%%time\n",
    "\n",
    "stratGroupKFold = StratifiedGroupKFold(n_splits=10)\n",
    "print(\"*** SPLIT DATA INTO TEST SET AND 'OTHER' SET ***\")\n",
    "print()\n",
    "\n",
    "for i_other,i_test in stratGroupKFold.split(X, y, groups):\n",
    "    X_other, y_other, groups_other = X.iloc[i_other], y.iloc[i_other], groups.iloc[i_other]\n",
    "    X_test, y_test, groups_test = X.iloc[i_test], y.iloc[i_test], groups.iloc[i_test]\n",
    "    \n",
    "    #print(\"OTHER:\", i_other)\n",
    "    print(\"Size of OTHER:\", len(y_other))\n",
    "    print(\"Size of OTHER:\", len(y_other)/len(y))\n",
    "    print()\n",
    "\n",
    "    #print(\"TEST:\", i_test)\n",
    "    print(\"Size of TEST:\", len(y_test))\n",
    "    print(\"Size of TEST:\", len(y_test)/len(y))\n",
    "    \n",
    "    # check the split\n",
    "    print()\n",
    "    print(f'Unique groups in test: {len(pd.unique(groups_test))}')\n",
    "    print(f'Unique groups in other: {len(pd.unique(groups_other))}')\n",
    "    print()"
   ]
  },
  {
   "cell_type": "code",
   "execution_count": 104,
   "metadata": {},
   "outputs": [
    {
     "name": "stdout",
     "output_type": "stream",
     "text": [
      "*** SPLIT 'OTHER' SET INTO TRAIN AND VALIDATION SETS ***\n",
      "\n",
      "Size of TRAIN: 14378041\n",
      "% TRAIN: 0.8888888957580745\n",
      "\n",
      "Size of VALIDATION: 1797255\n",
      "% VALIDATION: 0.11111110424192547\n",
      "\n",
      "Unique groups in test: 478950\n",
      "Unique groups in other: 59869\n",
      "\n",
      "Size of TRAIN: 14378041\n",
      "% TRAIN: 0.8888888957580745\n",
      "\n",
      "Size of VALIDATION: 1797255\n",
      "% VALIDATION: 0.11111110424192547\n",
      "\n",
      "Unique groups in test: 478948\n",
      "Unique groups in other: 59871\n",
      "\n",
      "Size of TRAIN: 14378040\n",
      "% TRAIN: 0.8888888339354037\n",
      "\n",
      "Size of VALIDATION: 1797256\n",
      "% VALIDATION: 0.11111116606459628\n",
      "\n",
      "Unique groups in test: 478948\n",
      "Unique groups in other: 59871\n",
      "\n",
      "Size of TRAIN: 14378041\n",
      "% TRAIN: 0.8888888957580745\n",
      "\n",
      "Size of VALIDATION: 1797255\n",
      "% VALIDATION: 0.11111110424192547\n",
      "\n",
      "Unique groups in test: 478951\n",
      "Unique groups in other: 59868\n",
      "\n",
      "Size of TRAIN: 14378041\n",
      "% TRAIN: 0.8888888957580745\n",
      "\n",
      "Size of VALIDATION: 1797255\n",
      "% VALIDATION: 0.11111110424192547\n",
      "\n",
      "Unique groups in test: 478948\n",
      "Unique groups in other: 59871\n",
      "\n",
      "Size of TRAIN: 14378041\n",
      "% TRAIN: 0.8888888957580745\n",
      "\n",
      "Size of VALIDATION: 1797255\n",
      "% VALIDATION: 0.11111110424192547\n",
      "\n",
      "Unique groups in test: 478953\n",
      "Unique groups in other: 59866\n",
      "\n",
      "Size of TRAIN: 14378041\n",
      "% TRAIN: 0.8888888957580745\n",
      "\n",
      "Size of VALIDATION: 1797255\n",
      "% VALIDATION: 0.11111110424192547\n",
      "\n",
      "Unique groups in test: 478951\n",
      "Unique groups in other: 59868\n",
      "\n",
      "Size of TRAIN: 14378041\n",
      "% TRAIN: 0.8888888957580745\n",
      "\n",
      "Size of VALIDATION: 1797255\n",
      "% VALIDATION: 0.11111110424192547\n",
      "\n",
      "Unique groups in test: 478952\n",
      "Unique groups in other: 59867\n",
      "\n",
      "Size of TRAIN: 14378041\n",
      "% TRAIN: 0.8888888957580745\n",
      "\n",
      "Size of VALIDATION: 1797255\n",
      "% VALIDATION: 0.11111110424192547\n",
      "\n",
      "Unique groups in test: 478951\n",
      "Unique groups in other: 59868\n",
      "\n",
      "CPU times: user 7min 27s, sys: 1min 10s, total: 8min 38s\n",
      "Wall time: 9min 14s\n"
     ]
    }
   ],
   "source": [
    "%%time\n",
    "# splitter for the other set into train and test set\n",
    "\n",
    "stratGroupKFold2 = StratifiedGroupKFold(n_splits=9)\n",
    "                                       \n",
    "print(\"*** SPLIT 'OTHER' SET INTO TRAIN AND VALIDATION SETS ***\")\n",
    "print()\n",
    "for i_train, i_validation in stratGroupKFold2.split(X_other, y_other, groups_other):\n",
    "    X_train, y_train, groups_train = X_other.iloc[i_train], y_other.iloc[i_train], groups_other.iloc[i_train]\n",
    "    X_validation, y_validation , groups_validation = X_other.iloc[i_validation], y_other.iloc[i_validation], groups_other.iloc[i_validation]\n",
    "    \n",
    "    #print(\"OTHER:\", i_other)\n",
    "    print(\"Size of TRAIN:\", len(y_train))\n",
    "    print(\"% TRAIN:\", len(y_train)/len(y_other))\n",
    "    print()\n",
    "\n",
    "    #print(\"TEST:\", i_test)\n",
    "    print(\"Size of VALIDATION:\", len(y_validation))\n",
    "    print(\"% VALIDATION:\", len(y_validation)/len(y_other))\n",
    "    \n",
    "    # check the split\n",
    "    print()\n",
    "    print(f'Unique groups in test: {len(pd.unique(groups_train))}')\n",
    "    print(f'Unique groups in other: {len(pd.unique(groups_validation))}')\n",
    "    print()"
   ]
  },
  {
   "cell_type": "code",
   "execution_count": 105,
   "metadata": {},
   "outputs": [
    {
     "name": "stdout",
     "output_type": "stream",
     "text": [
      "Test 0.09999994435959282\n",
      "\n",
      "Train 0.8000000556404072\n",
      "\n",
      "Validation 0.1\n"
     ]
    }
   ],
   "source": [
    "print(\"Test\", len(y_test)/len(y))\n",
    "print()\n",
    "print(\"Train\", len(y_train)/len(y))\n",
    "print()\n",
    "print(\"Validation\", len(y_validation)/len(y))"
   ]
  },
  {
   "cell_type": "markdown",
   "metadata": {},
   "source": [
    "##### Checking distribution of classes for each set"
   ]
  },
  {
   "cell_type": "code",
   "execution_count": 106,
   "metadata": {},
   "outputs": [],
   "source": [
    "classes_test, count_test = np.unique(y_test,return_counts=True)\n",
    "classes_train, count_train = np.unique(y_train,return_counts=True)\n",
    "classes_val, count_val = np.unique(y_validation,return_counts=True)\n",
    "\n",
    "\n",
    "balance_df_test =pd.DataFrame({'Classes':classes_test, 'counts':count_test})\n",
    "balance_df_train =pd.DataFrame({'Classes':classes_train, 'counts':count_train})\n",
    "balance_df_val =pd.DataFrame({'Classes':classes_val, 'counts':count_val})\n",
    "\n",
    "balance_df_test[\"Test Set\"] = (balance_df_test[\"counts\"]/len(y_test))*100\n",
    "balance_df_train[\"Train Set\"] = (balance_df_train[\"counts\"]/len(y_train))*100\n",
    "balance_df_val[\"Validation Set\"] = (balance_df_val[\"counts\"]/len(y_validation))*100\n",
    "\n",
    "balance_df_test= balance_df_test.drop([\"counts\"], axis=1)\n",
    "balance_df_train= balance_df_train.drop([\"counts\"], axis=1)\n",
    "balance_df_val= balance_df_val.drop([\"counts\"], axis=1)\n",
    "\n",
    "balance_df_test = balance_df_test.T\n",
    "balance_df_train = balance_df_train.T\n",
    "balance_df_val = balance_df_val.T\n",
    "\n",
    "balance_df_test = balance_df_test.rename(columns=balance_df_test.iloc[0])\n",
    "balance_df_test = balance_df_test.iloc[1: , :]\n",
    "balance_df_train = balance_df_train.rename(columns=balance_df_train.iloc[0])\n",
    "balance_df_train = balance_df_train.iloc[1: , :]\n",
    "balance_df_val = balance_df_val.rename(columns=balance_df_val.iloc[0])\n",
    "balance_df_val = balance_df_val.iloc[1: , :]\n",
    "\n",
    "\n",
    "balance_allSets = pd.concat([balance_df, balance_df_test,balance_df_train,balance_df_val], axis=0)"
   ]
  },
  {
   "cell_type": "code",
   "execution_count": 107,
   "metadata": {
    "scrolled": true
   },
   "outputs": [
    {
     "data": {
      "text/html": [
       "<div>\n",
       "<style scoped>\n",
       "    .dataframe tbody tr th:only-of-type {\n",
       "        vertical-align: middle;\n",
       "    }\n",
       "\n",
       "    .dataframe tbody tr th {\n",
       "        vertical-align: top;\n",
       "    }\n",
       "\n",
       "    .dataframe thead th {\n",
       "        text-align: right;\n",
       "    }\n",
       "</style>\n",
       "<table border=\"1\" class=\"dataframe\">\n",
       "  <thead>\n",
       "    <tr style=\"text-align: right;\">\n",
       "      <th></th>\n",
       "      <th>Cardiology</th>\n",
       "      <th>Dentist</th>\n",
       "      <th>Dermatology</th>\n",
       "      <th>Emergency Medicine</th>\n",
       "      <th>Endocrinology</th>\n",
       "      <th>Family Practice</th>\n",
       "      <th>Gastroenterology</th>\n",
       "      <th>General Practice</th>\n",
       "      <th>General Surgery</th>\n",
       "      <th>Hematology-Oncology</th>\n",
       "      <th>...</th>\n",
       "      <th>Ophthalmology</th>\n",
       "      <th>Oral Surgery (Dentist only)</th>\n",
       "      <th>Orthopedic Surgery</th>\n",
       "      <th>Otolaryngology</th>\n",
       "      <th>Physical Medicine and Rehabilitation</th>\n",
       "      <th>Podiatry</th>\n",
       "      <th>Psychiatry</th>\n",
       "      <th>Psychiatry &amp; Neurology</th>\n",
       "      <th>Pulmonary Disease</th>\n",
       "      <th>Urology</th>\n",
       "    </tr>\n",
       "  </thead>\n",
       "  <tbody>\n",
       "    <tr>\n",
       "      <th>Raw Data</th>\n",
       "      <td>4.112099</td>\n",
       "      <td>1.187845</td>\n",
       "      <td>0.970163</td>\n",
       "      <td>1.133378</td>\n",
       "      <td>1.511093</td>\n",
       "      <td>37.630041</td>\n",
       "      <td>1.217445</td>\n",
       "      <td>2.386406</td>\n",
       "      <td>0.353495</td>\n",
       "      <td>1.012238</td>\n",
       "      <td>...</td>\n",
       "      <td>1.517536</td>\n",
       "      <td>0.13051</td>\n",
       "      <td>0.620107</td>\n",
       "      <td>0.482948</td>\n",
       "      <td>0.559509</td>\n",
       "      <td>0.458427</td>\n",
       "      <td>3.325655</td>\n",
       "      <td>0.661542</td>\n",
       "      <td>1.312924</td>\n",
       "      <td>0.917026</td>\n",
       "    </tr>\n",
       "    <tr>\n",
       "      <th>Test Set</th>\n",
       "      <td>4.112107</td>\n",
       "      <td>1.187812</td>\n",
       "      <td>0.970147</td>\n",
       "      <td>1.13334</td>\n",
       "      <td>1.511083</td>\n",
       "      <td>37.630129</td>\n",
       "      <td>1.217413</td>\n",
       "      <td>2.386363</td>\n",
       "      <td>0.353484</td>\n",
       "      <td>1.012211</td>\n",
       "      <td>...</td>\n",
       "      <td>1.517537</td>\n",
       "      <td>0.130477</td>\n",
       "      <td>0.620113</td>\n",
       "      <td>0.482903</td>\n",
       "      <td>0.55952</td>\n",
       "      <td>0.458422</td>\n",
       "      <td>3.325685</td>\n",
       "      <td>0.661565</td>\n",
       "      <td>1.312892</td>\n",
       "      <td>0.91701</td>\n",
       "    </tr>\n",
       "    <tr>\n",
       "      <th>Train Set</th>\n",
       "      <td>4.112097</td>\n",
       "      <td>1.187846</td>\n",
       "      <td>0.97016</td>\n",
       "      <td>1.133381</td>\n",
       "      <td>1.511096</td>\n",
       "      <td>37.630029</td>\n",
       "      <td>1.217447</td>\n",
       "      <td>2.386417</td>\n",
       "      <td>0.353497</td>\n",
       "      <td>1.012245</td>\n",
       "      <td>...</td>\n",
       "      <td>1.517536</td>\n",
       "      <td>0.130518</td>\n",
       "      <td>0.620105</td>\n",
       "      <td>0.482952</td>\n",
       "      <td>0.559513</td>\n",
       "      <td>0.458428</td>\n",
       "      <td>3.325655</td>\n",
       "      <td>0.661544</td>\n",
       "      <td>1.312933</td>\n",
       "      <td>0.91703</td>\n",
       "    </tr>\n",
       "    <tr>\n",
       "      <th>Validation Set</th>\n",
       "      <td>4.112104</td>\n",
       "      <td>1.187867</td>\n",
       "      <td>0.970202</td>\n",
       "      <td>1.133395</td>\n",
       "      <td>1.511082</td>\n",
       "      <td>37.630052</td>\n",
       "      <td>1.217468</td>\n",
       "      <td>2.386361</td>\n",
       "      <td>0.353484</td>\n",
       "      <td>1.01221</td>\n",
       "      <td>...</td>\n",
       "      <td>1.517536</td>\n",
       "      <td>0.130477</td>\n",
       "      <td>0.620112</td>\n",
       "      <td>0.482959</td>\n",
       "      <td>0.559464</td>\n",
       "      <td>0.458421</td>\n",
       "      <td>3.325627</td>\n",
       "      <td>0.661509</td>\n",
       "      <td>1.312891</td>\n",
       "      <td>0.91701</td>\n",
       "    </tr>\n",
       "  </tbody>\n",
       "</table>\n",
       "<p>4 rows × 26 columns</p>\n",
       "</div>"
      ],
      "text/plain": [
       "               Cardiology   Dentist Dermatology Emergency Medicine  \\\n",
       "Raw Data         4.112099  1.187845    0.970163           1.133378   \n",
       "Test Set         4.112107  1.187812    0.970147            1.13334   \n",
       "Train Set        4.112097  1.187846     0.97016           1.133381   \n",
       "Validation Set   4.112104  1.187867    0.970202           1.133395   \n",
       "\n",
       "               Endocrinology Family Practice Gastroenterology  \\\n",
       "Raw Data            1.511093       37.630041         1.217445   \n",
       "Test Set            1.511083       37.630129         1.217413   \n",
       "Train Set           1.511096       37.630029         1.217447   \n",
       "Validation Set      1.511082       37.630052         1.217468   \n",
       "\n",
       "               General Practice General Surgery Hematology-Oncology  ...  \\\n",
       "Raw Data               2.386406        0.353495            1.012238  ...   \n",
       "Test Set               2.386363        0.353484            1.012211  ...   \n",
       "Train Set              2.386417        0.353497            1.012245  ...   \n",
       "Validation Set         2.386361        0.353484             1.01221  ...   \n",
       "\n",
       "               Ophthalmology Oral Surgery (Dentist only) Orthopedic Surgery  \\\n",
       "Raw Data            1.517536                     0.13051           0.620107   \n",
       "Test Set            1.517537                    0.130477           0.620113   \n",
       "Train Set           1.517536                    0.130518           0.620105   \n",
       "Validation Set      1.517536                    0.130477           0.620112   \n",
       "\n",
       "               Otolaryngology Physical Medicine and Rehabilitation  Podiatry  \\\n",
       "Raw Data             0.482948                             0.559509  0.458427   \n",
       "Test Set             0.482903                              0.55952  0.458422   \n",
       "Train Set            0.482952                             0.559513  0.458428   \n",
       "Validation Set       0.482959                             0.559464  0.458421   \n",
       "\n",
       "               Psychiatry Psychiatry & Neurology Pulmonary Disease   Urology  \n",
       "Raw Data         3.325655               0.661542          1.312924  0.917026  \n",
       "Test Set         3.325685               0.661565          1.312892   0.91701  \n",
       "Train Set        3.325655               0.661544          1.312933   0.91703  \n",
       "Validation Set   3.325627               0.661509          1.312891   0.91701  \n",
       "\n",
       "[4 rows x 26 columns]"
      ]
     },
     "execution_count": 107,
     "metadata": {},
     "output_type": "execute_result"
    }
   ],
   "source": [
    "balance_allSets"
   ]
  },
  {
   "cell_type": "markdown",
   "metadata": {},
   "source": [
    "https://www.kaggle.com/code/realsid/stratifiedgroupkfold-using-sklearn"
   ]
  },
  {
   "cell_type": "code",
   "execution_count": null,
   "metadata": {},
   "outputs": [],
   "source": []
  },
  {
   "cell_type": "markdown",
   "metadata": {},
   "source": [
    "## III. Data Pre-Processing"
   ]
  },
  {
   "cell_type": "markdown",
   "metadata": {},
   "source": [
    "#### Handling NaN Values"
   ]
  },
  {
   "cell_type": "markdown",
   "metadata": {},
   "source": [
    "##### Total Beneficiaries"
   ]
  },
  {
   "cell_type": "markdown",
   "metadata": {},
   "source": [
    "According to the data dictionary, **counts fewer than 11 are suppressed and are indicated by a blank.**"
   ]
  },
  {
   "cell_type": "code",
   "execution_count": null,
   "metadata": {},
   "outputs": [],
   "source": [
    "# Strategy: fill NaNs with constant value\n",
    "# df2['Tot_Benes'] = df['Tot_Benes'].fillna(10)"
   ]
  },
  {
   "cell_type": "markdown",
   "metadata": {},
   "source": [
    "##### Number of Claims for Beneficiaries 65+ "
   ]
  },
  {
   "cell_type": "markdown",
   "metadata": {},
   "source": [
    " According to the data dictionary, **a blank indicates the value is suppressed. See GE65_Sprsn_Flag regarding suppression of data.**\n",
    "\n",
    "**\\*** = Primary suppressed due to GE65_Tot_Clms between 1 and 10.  \n",
    "**#** = Counter suppressed because the “less than 65 year old” group (not explicitly displayed) contains a beneficiary count between 1 and 10, which can be mathematically determined from GE65_Tot_Clms and Tot_Clms."
   ]
  },
  {
   "cell_type": "code",
   "execution_count": null,
   "metadata": {},
   "outputs": [],
   "source": [
    "df2_GE65_Sprsn = df2[df2.GE65_Sprsn_Flag == '#']"
   ]
  },
  {
   "cell_type": "markdown",
   "metadata": {},
   "source": [
    "#### Standard Scaler for Continuous Features"
   ]
  },
  {
   "cell_type": "code",
   "execution_count": null,
   "metadata": {},
   "outputs": [],
   "source": []
  },
  {
   "cell_type": "markdown",
   "metadata": {},
   "source": [
    "#### One-Hot Encoding for Categorical Variables"
   ]
  },
  {
   "cell_type": "code",
   "execution_count": null,
   "metadata": {},
   "outputs": [],
   "source": []
  }
 ],
 "metadata": {
  "kernelspec": {
   "display_name": "Python 3 (ipykernel)",
   "language": "python",
   "name": "python3"
  },
  "language_info": {
   "codemirror_mode": {
    "name": "ipython",
    "version": 3
   },
   "file_extension": ".py",
   "mimetype": "text/x-python",
   "name": "python",
   "nbconvert_exporter": "python",
   "pygments_lexer": "ipython3",
   "version": "3.10.5"
  },
  "vscode": {
   "interpreter": {
    "hash": "397704579725e15f5c7cb49fe5f0341eb7531c82d19f2c29d197e8b64ab5776b"
   }
  }
 },
 "nbformat": 4,
 "nbformat_minor": 4
}
