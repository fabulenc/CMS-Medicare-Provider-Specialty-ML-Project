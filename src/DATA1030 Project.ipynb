{
 "cells": [
  {
   "cell_type": "markdown",
   "metadata": {},
   "source": [
    "# Predicting Physician Specialty from CMS Medicare Drug Prescription Data"
   ]
  },
  {
   "cell_type": "markdown",
   "metadata": {},
   "source": [
    "The Medicare Part D Prescribers - by Provider and Drug dataset includes data for providers that had a valid NPI and were identified on Medicare Part D prescription drug events submitted by plans for the benefit year. The data reflect prescribing to beneficiaries enrolled in Medicare Part D, who comprise approximately 70% of the total Medicare population.\n",
    "\n",
    "Each record in the dataset represents a distinct combination of NPI, drug (brand) name, and generic name. There can be multiple records for a given NPI based on the number of distinct drugs that were filled. For each prescriber and drug, the dataset includes the total number of prescriptions that were dispensed (including original prescriptions and any refills), total 30-day standardized fill counts, total day’s supply for these prescriptions, and the total drug cost. "
   ]
  },
  {
   "cell_type": "markdown",
   "metadata": {},
   "source": [
    "## Data Dictionary\n",
    "\n",
    "| Term Name      | Variable Name |  Description  |  |\n",
    "| ----------- | ----------- || ----------- |\n",
    "| Prescriber NPI      | Prscrbr_NPI       | National Provider Identifier (NPI) for the performing provider on the claim.\n",
    "| Prescriber Last Name / Organization Name | Prscrbr_Last_Org_Name|When the provider is registered in NPPES as an individual (Prscrbr_Ent_Cd = “I”), this is the provider’s last name. When the provider is registered as an organization (Prscrbr_Ent_Cd = “O”), this is the organization name.\n",
    "| Prescriber First Name   | Prscrbr_First_Name  |When the provider is registered in NPPES as an individual (Prscrbr_Ent_Cd = “I”), this is the provider’s first name. When the provider is registered as an organization (Prscrbr_Ent_Cd = “O”), this will be blank.\n",
    "| Prescriber City   | Prscrbr_City | The city where the provider is located, as reported in NPPES.\n",
    "| Prescriber State   | Prscrbr_State_Abrvtn   |The state where the provider is located, as reported in NPPES. The fifty U.S. states and the District of Columbia are reported by the state postal abbreviation.\n",
    "| Prescriber State FIPS Code   | Prscrbr_State_FIPS |FIPS code for referring providers state.\n",
    "| Provider Specialty Type   | Prscrbr_Type | Derived from the Medicare provider/supplier specialty code reported on the NPI’s Part B claims. For providers that have more than one Medicare specialty code reported on their claims, the Medicare specialty code associated with the largest number of services is reported.\n",
    "| Source of Provider Specialty   | Prscrbr_Type_Src |A flag that indicates the source of the Prscrbr_Type.\n",
    "| Brand Name   | Brnd_Name |Brand name (trademarked name) of the drug filled.\n",
    "| USAN Generic Name - Short Version  | Gnrc_Name |A term referring to the chemical ingredient of a drug rather than the trademarked brand name under which the drug is sold.\n",
    "| Number of Medicare Part D Claims, Including Refills   | Tot_Clms    |The number of Medicare Part D claims. This includes original prescriptions and refills.\n",
    "| Number of Standardized 30-Day Fills, Including Refills   | Tot_30day_Fills    |The aggregate number of Medicare Part D standardized 30-day fills. The standardized 30-day fill is derived from the number of days supplied on each Part D claim divided by 30.\n",
    "| Number of Day’s Supply for All Claims | Tot_Day_Suply        |The aggregate number of day’s supply for which this drug was dispensed.\n",
    "| Aggregate Cost Paid for All Claims   | Tot_Drug_Cst  |The aggregate drug cost paid for all associated claims. This amount includes ingredient cost, dispensing fee, sales tax, and any applicable vaccine administration fees and is based on the amounts paid by the Part D plan, Medicare beneficiary, government subsidies, and any other third-party payers.v\n",
    "| Number of Medicare Beneficiaries   | Tot_Benes |The total number of unique Medicare Part D beneficiaries with at least one claim for the drug.\n",
    "| Reason for Suppression of GE65_Tot_Clms, GE65_Tot_30day_Fills, GE65_Tot_Drug_Cst and GE65_Tot_Day_Suply   | GE65_Sprsn_Flag |A flag that indicates the reason the GE65_Tot_Clms, GE65_Tot_30day_Fills, GE65_Tot_Drug_Cst and GE65_Tot_Day_Suply variables are suppressed\n",
    "| Number of Claims, Including Refills, for Beneficiaries Age 65+   | GE65_Tot_Clms        |The number of Medicare Part D claims for beneficiaries age 65 and older. This includes original prescriptions and refills.\n",
    "| Number of Standardized 30-Day Fills, Including Refills, for Beneficiaries Age 65+   | GE65_Tot_30day_Fills  |The number of Medicare Part D standardized 30-day fills for beneficiaries age 65 and older. The standardized 30-day fill is derived from the number of days supplied on each Part D claim divided by 30.\n",
    "| Aggregate Cost Paid for All Claims for Beneficiaries Age 65+   | GE65_Tot_Drug_Cst  |The aggregate total drug cost paid for all associated claims for beneficiaries age 65 and older. This amount includes ingredient cost, dispensing fee, sales tax, and any applicable vaccine administration fees and is based on the amounts paid by the Part D plan, Medicare beneficiary, government subsidies, and any other third-party payers.\n",
    "| Number of Day’s Supply for All Claims for Beneficaries Age 65+   | GE65_Tot_Day_Suply       |The aggregate number of day’s supply for which this drug was dispensed, for beneficiaries age 65 and older. \n",
    "| Reason for Suppression of GE65_Tot_Benes   | GE65_Bene_Sprsn_Flag |A flag indicating the reason the GE65_Tot_Benes variable is suppressed.\n",
    "| Number of Medicare Beneficiaries Age 65+   | GE65_Tot_Benes        |The total number of unique Medicare Part D beneficiaries age 65 and older with at least one claim for the drug."
   ]
  },
  {
   "cell_type": "code",
   "execution_count": 2,
   "metadata": {},
   "outputs": [],
   "source": [
    "%%capture\n",
    "\n",
    "#Verify conda environment\n",
    "import os\n",
    "print (os.environ['CONDA_DEFAULT_ENV'])\n",
    "\n",
    "#!pip install fastparquet\n",
    "#!pip install pyarrow\n",
    "#!pip install plotly-geo\n",
    "#!pip install geopandas\n",
    "#!pip install pyshp\n",
    "#!pip install shapely\n",
    "#!pip install dataframe_image\n",
    "\n",
    "#Import libraries\n",
    "import pandas as pd\n",
    "import numpy as np\n",
    "import matplotlib.pyplot as plt\n",
    "import seaborn as sns\n",
    "import dataframe_image as dfi\n",
    "from sklearn.compose import ColumnTransformer\n",
    "from sklearn.pipeline import Pipeline\n",
    "from sklearn.preprocessing import StandardScaler, OneHotEncoder, OrdinalEncoder, MinMaxScaler\n",
    "\n",
    "os.chdir('../data')"
   ]
  },
  {
   "cell_type": "markdown",
   "metadata": {},
   "source": [
    "## Loading the Dataset\n",
    "\n",
    "Sources:  \n",
    "[1] https://data.cms.gov/provider-summary-by-type-of-service/medicare-part-d-prescribers/medicare-part-d-prescribers-by-provider-and-drug    \n",
    "[2] https://data.cms.gov/provider-summary-by-type-of-service/medicare-physician-other-practitioners/medicare-physician-other-practitioners-by-provider-and-service  \n",
    "[3] https://www.ncbi.nlm.nih.gov/pmc/articles/PMC7358033/#b20-0180334  \n",
    "[4] https://www.ncbi.nlm.nih.gov/pmc/articles/PMC9507660/"
   ]
  },
  {
   "cell_type": "markdown",
   "metadata": {},
   "source": [
    "### Converting .gzip to .parquet file type\n"
   ]
  },
  {
   "cell_type": "code",
   "execution_count": null,
   "metadata": {},
   "outputs": [],
   "source": [
    "%%time\n",
    "\n",
    "filename = 'MUP_DPR_RY22_P04_V10_DY20_NPIBN.csv.gz'\n",
    "gzip_file = pd.read_csv(filename, compression='gzip', encoding = 'latin-1', low_memory=False)"
   ]
  },
  {
   "cell_type": "code",
   "execution_count": null,
   "metadata": {},
   "outputs": [],
   "source": [
    "gzip_file.to_parquet('df.parquet', compression='snappy')"
   ]
  },
  {
   "cell_type": "code",
   "execution_count": 3,
   "metadata": {},
   "outputs": [
    {
     "name": "stdout",
     "output_type": "stream",
     "text": [
      "CPU times: user 9.49 s, sys: 4.54 s, total: 14 s\n",
      "Wall time: 15 s\n"
     ]
    }
   ],
   "source": [
    "%%time\n",
    "\n",
    "df = pd.read_parquet('df.parquet', engine='fastparquet')"
   ]
  },
  {
   "cell_type": "markdown",
   "metadata": {},
   "source": [
    "**By converting gzip to csv, the time to read the ~25 million rows improved from 15 min to 15 seconds**"
   ]
  },
  {
   "cell_type": "markdown",
   "metadata": {},
   "source": [
    "## I. Exploratory Data Analysis"
   ]
  },
  {
   "cell_type": "code",
   "execution_count": 111,
   "metadata": {},
   "outputs": [
    {
     "data": {
      "text/html": [
       "<div>\n",
       "<style scoped>\n",
       "    .dataframe tbody tr th:only-of-type {\n",
       "        vertical-align: middle;\n",
       "    }\n",
       "\n",
       "    .dataframe tbody tr th {\n",
       "        vertical-align: top;\n",
       "    }\n",
       "\n",
       "    .dataframe thead th {\n",
       "        text-align: right;\n",
       "    }\n",
       "</style>\n",
       "<table border=\"1\" class=\"dataframe\">\n",
       "  <thead>\n",
       "    <tr style=\"text-align: right;\">\n",
       "      <th></th>\n",
       "      <th>Prscrbr_NPI</th>\n",
       "      <th>Prscrbr_Last_Org_Name</th>\n",
       "      <th>Prscrbr_First_Name</th>\n",
       "      <th>Prscrbr_City</th>\n",
       "      <th>Prscrbr_State_Abrvtn</th>\n",
       "      <th>Prscrbr_State_FIPS</th>\n",
       "      <th>Prscrbr_Type</th>\n",
       "      <th>Prscrbr_Type_Src</th>\n",
       "      <th>Brnd_Name</th>\n",
       "      <th>Gnrc_Name</th>\n",
       "      <th>...</th>\n",
       "      <th>Tot_Day_Suply</th>\n",
       "      <th>Tot_Drug_Cst</th>\n",
       "      <th>Tot_Benes</th>\n",
       "      <th>GE65_Sprsn_Flag</th>\n",
       "      <th>GE65_Tot_Clms</th>\n",
       "      <th>GE65_Tot_30day_Fills</th>\n",
       "      <th>GE65_Tot_Drug_Cst</th>\n",
       "      <th>GE65_Tot_Day_Suply</th>\n",
       "      <th>GE65_Bene_Sprsn_Flag</th>\n",
       "      <th>GE65_Tot_Benes</th>\n",
       "    </tr>\n",
       "  </thead>\n",
       "  <tbody>\n",
       "    <tr>\n",
       "      <th>0</th>\n",
       "      <td>1003000126</td>\n",
       "      <td>Enkeshafi</td>\n",
       "      <td>Ardalan</td>\n",
       "      <td>Bethesda</td>\n",
       "      <td>MD</td>\n",
       "      <td>24</td>\n",
       "      <td>Internal Medicine</td>\n",
       "      <td>S</td>\n",
       "      <td>Amiodarone Hcl</td>\n",
       "      <td>Amiodarone Hcl</td>\n",
       "      <td>...</td>\n",
       "      <td>399</td>\n",
       "      <td>135.38</td>\n",
       "      <td>NaN</td>\n",
       "      <td>None</td>\n",
       "      <td>13.0</td>\n",
       "      <td>13.8</td>\n",
       "      <td>135.38</td>\n",
       "      <td>399.0</td>\n",
       "      <td>*</td>\n",
       "      <td>NaN</td>\n",
       "    </tr>\n",
       "    <tr>\n",
       "      <th>1</th>\n",
       "      <td>1003000126</td>\n",
       "      <td>Enkeshafi</td>\n",
       "      <td>Ardalan</td>\n",
       "      <td>Bethesda</td>\n",
       "      <td>MD</td>\n",
       "      <td>24</td>\n",
       "      <td>Internal Medicine</td>\n",
       "      <td>S</td>\n",
       "      <td>Amlodipine Besylate</td>\n",
       "      <td>Amlodipine Besylate</td>\n",
       "      <td>...</td>\n",
       "      <td>570</td>\n",
       "      <td>42.47</td>\n",
       "      <td>NaN</td>\n",
       "      <td>*</td>\n",
       "      <td>NaN</td>\n",
       "      <td>NaN</td>\n",
       "      <td>NaN</td>\n",
       "      <td>NaN</td>\n",
       "      <td>*</td>\n",
       "      <td>NaN</td>\n",
       "    </tr>\n",
       "    <tr>\n",
       "      <th>2</th>\n",
       "      <td>1003000126</td>\n",
       "      <td>Enkeshafi</td>\n",
       "      <td>Ardalan</td>\n",
       "      <td>Bethesda</td>\n",
       "      <td>MD</td>\n",
       "      <td>24</td>\n",
       "      <td>Internal Medicine</td>\n",
       "      <td>S</td>\n",
       "      <td>Bumetanide</td>\n",
       "      <td>Bumetanide</td>\n",
       "      <td>...</td>\n",
       "      <td>540</td>\n",
       "      <td>494.38</td>\n",
       "      <td>NaN</td>\n",
       "      <td>None</td>\n",
       "      <td>16.0</td>\n",
       "      <td>18.0</td>\n",
       "      <td>494.38</td>\n",
       "      <td>540.0</td>\n",
       "      <td>*</td>\n",
       "      <td>NaN</td>\n",
       "    </tr>\n",
       "    <tr>\n",
       "      <th>3</th>\n",
       "      <td>1003000126</td>\n",
       "      <td>Enkeshafi</td>\n",
       "      <td>Ardalan</td>\n",
       "      <td>Bethesda</td>\n",
       "      <td>MD</td>\n",
       "      <td>24</td>\n",
       "      <td>Internal Medicine</td>\n",
       "      <td>S</td>\n",
       "      <td>Eliquis</td>\n",
       "      <td>Apixaban</td>\n",
       "      <td>...</td>\n",
       "      <td>323</td>\n",
       "      <td>4792.85</td>\n",
       "      <td>NaN</td>\n",
       "      <td>*</td>\n",
       "      <td>NaN</td>\n",
       "      <td>NaN</td>\n",
       "      <td>NaN</td>\n",
       "      <td>NaN</td>\n",
       "      <td>*</td>\n",
       "      <td>NaN</td>\n",
       "    </tr>\n",
       "    <tr>\n",
       "      <th>4</th>\n",
       "      <td>1003000126</td>\n",
       "      <td>Enkeshafi</td>\n",
       "      <td>Ardalan</td>\n",
       "      <td>Bethesda</td>\n",
       "      <td>MD</td>\n",
       "      <td>24</td>\n",
       "      <td>Internal Medicine</td>\n",
       "      <td>S</td>\n",
       "      <td>Hydralazine Hcl</td>\n",
       "      <td>Hydralazine Hcl</td>\n",
       "      <td>...</td>\n",
       "      <td>523</td>\n",
       "      <td>162.09</td>\n",
       "      <td>NaN</td>\n",
       "      <td>#</td>\n",
       "      <td>NaN</td>\n",
       "      <td>NaN</td>\n",
       "      <td>NaN</td>\n",
       "      <td>NaN</td>\n",
       "      <td>*</td>\n",
       "      <td>NaN</td>\n",
       "    </tr>\n",
       "  </tbody>\n",
       "</table>\n",
       "<p>5 rows × 22 columns</p>\n",
       "</div>"
      ],
      "text/plain": [
       "   Prscrbr_NPI Prscrbr_Last_Org_Name Prscrbr_First_Name Prscrbr_City  \\\n",
       "0   1003000126             Enkeshafi            Ardalan     Bethesda   \n",
       "1   1003000126             Enkeshafi            Ardalan     Bethesda   \n",
       "2   1003000126             Enkeshafi            Ardalan     Bethesda   \n",
       "3   1003000126             Enkeshafi            Ardalan     Bethesda   \n",
       "4   1003000126             Enkeshafi            Ardalan     Bethesda   \n",
       "\n",
       "  Prscrbr_State_Abrvtn Prscrbr_State_FIPS       Prscrbr_Type Prscrbr_Type_Src  \\\n",
       "0                   MD                 24  Internal Medicine                S   \n",
       "1                   MD                 24  Internal Medicine                S   \n",
       "2                   MD                 24  Internal Medicine                S   \n",
       "3                   MD                 24  Internal Medicine                S   \n",
       "4                   MD                 24  Internal Medicine                S   \n",
       "\n",
       "             Brnd_Name            Gnrc_Name  ...  Tot_Day_Suply  Tot_Drug_Cst  \\\n",
       "0       Amiodarone Hcl       Amiodarone Hcl  ...            399        135.38   \n",
       "1  Amlodipine Besylate  Amlodipine Besylate  ...            570         42.47   \n",
       "2           Bumetanide           Bumetanide  ...            540        494.38   \n",
       "3              Eliquis             Apixaban  ...            323       4792.85   \n",
       "4      Hydralazine Hcl      Hydralazine Hcl  ...            523        162.09   \n",
       "\n",
       "   Tot_Benes  GE65_Sprsn_Flag  GE65_Tot_Clms GE65_Tot_30day_Fills  \\\n",
       "0        NaN             None           13.0                 13.8   \n",
       "1        NaN                *            NaN                  NaN   \n",
       "2        NaN             None           16.0                 18.0   \n",
       "3        NaN                *            NaN                  NaN   \n",
       "4        NaN                #            NaN                  NaN   \n",
       "\n",
       "   GE65_Tot_Drug_Cst  GE65_Tot_Day_Suply  GE65_Bene_Sprsn_Flag  GE65_Tot_Benes  \n",
       "0             135.38               399.0                     *             NaN  \n",
       "1                NaN                 NaN                     *             NaN  \n",
       "2             494.38               540.0                     *             NaN  \n",
       "3                NaN                 NaN                     *             NaN  \n",
       "4                NaN                 NaN                     *             NaN  \n",
       "\n",
       "[5 rows x 22 columns]"
      ]
     },
     "execution_count": 111,
     "metadata": {},
     "output_type": "execute_result"
    }
   ],
   "source": [
    "df.head(5)"
   ]
  },
  {
   "cell_type": "code",
   "execution_count": null,
   "metadata": {},
   "outputs": [],
   "source": [
    "def render_mpl_table(data, col_width=3.0, row_height=0.625, font_size=10,\n",
    "                     header_color='#40466e', row_colors=['#f1f1f2', 'w'], edge_color='w',\n",
    "                     bbox=[0, 0, 1, 1], header_columns=0,\n",
    "                     ax=None, **kwargs):\n",
    "    if ax is None:\n",
    "        size = (np.array(data.shape[::-1]) + np.array([0, 1])) * np.array([col_width, row_height])\n",
    "        fig, ax = plt.subplots(figsize=size)\n",
    "        ax.axis('off')\n",
    "    mpl_table = ax.table(cellText=data.values, bbox=bbox, colLabels=data.columns, **kwargs)\n",
    "    mpl_table.auto_set_font_size(False)\n",
    "    mpl_table.set_fontsize(font_size)\n",
    "\n",
    "    for k, cell in mpl_table._cells.items():\n",
    "        cell.set_edgecolor(edge_color)\n",
    "        if k[0] == 0 or k[1] < header_columns:\n",
    "            cell.set_text_props(weight='bold', color='w')\n",
    "            cell.set_facecolor(header_color)\n",
    "        else:\n",
    "            cell.set_facecolor(row_colors[k[0]%len(row_colors) ])\n",
    "    return ax.get_figure(), ax\n",
    "\n",
    "fig,ax = render_mpl_table(Range, header_columns=0, col_width=4.0)\n",
    "fig.savefig(\"Table 2 - Order of Magnitude for the Range of Data.png\", dpi = 1200)"
   ]
  },
  {
   "cell_type": "code",
   "execution_count": null,
   "metadata": {},
   "outputs": [],
   "source": [
    "def render_mpl_table(data, col_width=3.0, row_height=0.625, font_size=10,\n",
    "                     header_color='#40466e', row_colors=['#f1f1f2', 'w'], edge_color='w',\n",
    "                     bbox=[0, 0, 1, 1], header_columns=0,\n",
    "                     ax=None, **kwargs):\n",
    "    if ax is None:\n",
    "        size = (np.array(data.shape[::-1]) + np.array([0, 1])) * np.array([col_width, row_height])\n",
    "        fig, ax = plt.subplots(figsize=size)\n",
    "        ax.axis('off')\n",
    "    mpl_table = ax.table(cellText=data.values, bbox=bbox, colLabels=data.columns, **kwargs)\n",
    "    mpl_table.auto_set_font_size(False)\n",
    "    mpl_table.set_fontsize(font_size)\n",
    "\n",
    "    for k, cell in mpl_table._cells.items():\n",
    "        cell.set_edgecolor(edge_color)\n",
    "        if k[0] == 0 or k[1] < header_columns:\n",
    "            cell.set_text_props(weight='bold', color='w')\n",
    "            cell.set_facecolor(header_color)\n",
    "        else:\n",
    "            cell.set_facecolor(row_colors[k[0]%len(row_colors) ])\n",
    "    return ax.get_figure(), ax\n",
    "\n",
    "fig,ax = render_mpl_table(uniqueDf, header_columns=0, col_width=2.0)\n",
    "fig.savefig(\"Table 1 - Unique Counts of Categorical Features.png\", dpi = 1200)"
   ]
  },
  {
   "cell_type": "markdown",
   "metadata": {},
   "source": [
    "#### Dimensions of the Raw Dataset"
   ]
  },
  {
   "cell_type": "code",
   "execution_count": 4,
   "metadata": {},
   "outputs": [
    {
     "name": "stdout",
     "output_type": "stream",
     "text": [
      "Rows: 25209729\n",
      "Columns: 22\n"
     ]
    }
   ],
   "source": [
    "rows, columns = df.shape\n",
    "\n",
    "print(f'Rows: {rows}')\n",
    "print(f'Columns: {columns}')"
   ]
  },
  {
   "cell_type": "markdown",
   "metadata": {},
   "source": [
    "#### Dropping Columns with Redundant or Unnecessary Information"
   ]
  },
  {
   "cell_type": "markdown",
   "metadata": {},
   "source": [
    "| Variable Name      |  Reason  ||\n",
    "| ------------------ | ---------------- ||\n",
    "| Prscrbr_Last_Org_Name | info captured under NPI ||\n",
    "| Prscrbr_First_Name | info captured under NPI ||\n",
    "| Prscrbr_Type_Src | this is the source where info on provider specialty was acquired ||\n",
    "| Prscrbr_State_FIPS | unique two digit code associated with the existing state column ||\n",
    "| GE65_Sprsn_Flag | flag indicating why GE65_Tot_Clms, GE65_Tot_30day_Fills, <br>  GE65_Tot_Drug_Cst and GE65_Tot_Day_Suply are suppressed \t ||\n",
    "| GE65_Bene_Sprsn_Flag | flag indicating why GE65_Tot_Benes variable is suppressed ||"
   ]
  },
  {
   "cell_type": "code",
   "execution_count": 5,
   "metadata": {
    "scrolled": true
   },
   "outputs": [],
   "source": [
    "# Delete columns that identify prescriber first and last name since this data is captured in prescriber NPI\n",
    "\n",
    "df = df.drop(columns=['Prscrbr_Last_Org_Name',\n",
    "                      'Prscrbr_First_Name',\n",
    "                      'Prscrbr_Type_Src',\n",
    "                      'Prscrbr_State_FIPS',\n",
    "                      'GE65_Sprsn_Flag', \n",
    "                      'GE65_Bene_Sprsn_Flag'])"
   ]
  },
  {
   "cell_type": "markdown",
   "metadata": {},
   "source": [
    "##### Create Dataframe containing unique value counts"
   ]
  },
  {
   "cell_type": "code",
   "execution_count": 114,
   "metadata": {},
   "outputs": [
    {
     "ename": "NameError",
     "evalue": "name 'uniqueDf' is not defined",
     "output_type": "error",
     "traceback": [
      "\u001b[0;31m---------------------------------------------------------------------------\u001b[0m",
      "\u001b[0;31mNameError\u001b[0m                                 Traceback (most recent call last)",
      "Cell \u001b[0;32mIn [114], line 1\u001b[0m\n\u001b[0;32m----> 1\u001b[0m \u001b[43muniqueDf\u001b[49m\u001b[38;5;241m.\u001b[39mset_index(\u001b[38;5;124m'\u001b[39m\u001b[38;5;124mColumn\u001b[39m\u001b[38;5;124m'\u001b[39m)\n",
      "\u001b[0;31mNameError\u001b[0m: name 'uniqueDf' is not defined"
     ]
    }
   ],
   "source": [
    "uniqueDf.set_index('Column')"
   ]
  },
  {
   "cell_type": "markdown",
   "metadata": {},
   "source": [
    "#### Exploring the Target Variable"
   ]
  },
  {
   "cell_type": "markdown",
   "metadata": {},
   "source": [
    "##### Provider Specialty Types"
   ]
  },
  {
   "cell_type": "code",
   "execution_count": 6,
   "metadata": {
    "scrolled": true
   },
   "outputs": [
    {
     "name": "stdout",
     "output_type": "stream",
     "text": [
      "Number of Unique Specialties: 184\n"
     ]
    },
    {
     "data": {
      "text/html": [
       "<div>\n",
       "<style scoped>\n",
       "    .dataframe tbody tr th:only-of-type {\n",
       "        vertical-align: middle;\n",
       "    }\n",
       "\n",
       "    .dataframe tbody tr th {\n",
       "        vertical-align: top;\n",
       "    }\n",
       "\n",
       "    .dataframe thead th {\n",
       "        text-align: right;\n",
       "    }\n",
       "</style>\n",
       "<table border=\"1\" class=\"dataframe\">\n",
       "  <thead>\n",
       "    <tr style=\"text-align: right;\">\n",
       "      <th></th>\n",
       "      <th>Prscrbr_Type</th>\n",
       "      <th># of NPIs</th>\n",
       "    </tr>\n",
       "  </thead>\n",
       "  <tbody>\n",
       "    <tr>\n",
       "      <th>105</th>\n",
       "      <td>Nurse Practitioner</td>\n",
       "      <td>159441</td>\n",
       "    </tr>\n",
       "    <tr>\n",
       "      <th>74</th>\n",
       "      <td>Internal Medicine</td>\n",
       "      <td>100522</td>\n",
       "    </tr>\n",
       "    <tr>\n",
       "      <th>51</th>\n",
       "      <td>Family Practice</td>\n",
       "      <td>100509</td>\n",
       "    </tr>\n",
       "    <tr>\n",
       "      <th>38</th>\n",
       "      <td>Dentist</td>\n",
       "      <td>99779</td>\n",
       "    </tr>\n",
       "    <tr>\n",
       "      <th>136</th>\n",
       "      <td>Physician Assistant</td>\n",
       "      <td>84655</td>\n",
       "    </tr>\n",
       "  </tbody>\n",
       "</table>\n",
       "</div>"
      ],
      "text/plain": [
       "            Prscrbr_Type  # of NPIs\n",
       "105   Nurse Practitioner     159441\n",
       "74     Internal Medicine     100522\n",
       "51       Family Practice     100509\n",
       "38               Dentist      99779\n",
       "136  Physician Assistant      84655"
      ]
     },
     "execution_count": 6,
     "metadata": {},
     "output_type": "execute_result"
    }
   ],
   "source": [
    "uniqueSpecialties = df.Prscrbr_Type.unique()\n",
    "\n",
    "print(f'Number of Unique Specialties: {len(uniqueSpecialties)}')\n",
    "\n",
    "SpecialtyByNPI = pd.DataFrame(df.groupby('Prscrbr_Type')['Prscrbr_NPI'].nunique())\n",
    "SpecialtyByNPI.reset_index(inplace=True)\n",
    "SpecialtyByNPI.columns = ['Prscrbr_Type', '# of NPIs']\n",
    "SpecialtyByNPI = SpecialtyByNPI.sort_values(by=['# of NPIs'], ascending=False)\n",
    "\n",
    "SpecialtyByNPI.head()"
   ]
  },
  {
   "cell_type": "markdown",
   "metadata": {},
   "source": [
    "##### Exclude Physician Assistants (PAs), Nurse Practitioners (NPs), and Other Non-Physicians"
   ]
  },
  {
   "cell_type": "code",
   "execution_count": 7,
   "metadata": {},
   "outputs": [],
   "source": [
    "#Excluding rows that are nonphysicians, physician assistants (PAs), nurse practitioners (NPs) acc. to paper\n",
    "\n",
    "excludedSpecialties = ['Nurse Practitioner',\n",
    "                       'Optometry',\n",
    "                       'Physician Assistant',\n",
    "                       'Student in an Organized Health Care Education/Training Program',\n",
    "                       'Pharmacist',\n",
    "                       'Certified Clinical Nurse Specialist',\n",
    "                       'Specialist']\n",
    "                       #'Family Practice', 'Internal Medicine', 'Dentist']\n",
    "\n",
    "\n",
    "SpecialtyByNPI = SpecialtyByNPI[~SpecialtyByNPI.Prscrbr_Type.isin(excludedSpecialties)]"
   ]
  },
  {
   "cell_type": "markdown",
   "metadata": {},
   "source": [
    "##### Include Specialties with > 5000 Providers"
   ]
  },
  {
   "cell_type": "code",
   "execution_count": 10,
   "metadata": {},
   "outputs": [
    {
     "data": {
      "text/html": [
       "<div>\n",
       "<style scoped>\n",
       "    .dataframe tbody tr th:only-of-type {\n",
       "        vertical-align: middle;\n",
       "    }\n",
       "\n",
       "    .dataframe tbody tr th {\n",
       "        vertical-align: top;\n",
       "    }\n",
       "\n",
       "    .dataframe thead th {\n",
       "        text-align: right;\n",
       "    }\n",
       "</style>\n",
       "<table border=\"1\" class=\"dataframe\">\n",
       "  <thead>\n",
       "    <tr style=\"text-align: right;\">\n",
       "      <th></th>\n",
       "      <th>Prscrbr_Type</th>\n",
       "      <th># of NPIs</th>\n",
       "    </tr>\n",
       "  </thead>\n",
       "  <tbody>\n",
       "    <tr>\n",
       "      <th>74</th>\n",
       "      <td>Internal Medicine</td>\n",
       "      <td>100522</td>\n",
       "    </tr>\n",
       "    <tr>\n",
       "      <th>51</th>\n",
       "      <td>Family Practice</td>\n",
       "      <td>100509</td>\n",
       "    </tr>\n",
       "    <tr>\n",
       "      <th>38</th>\n",
       "      <td>Dentist</td>\n",
       "      <td>99779</td>\n",
       "    </tr>\n",
       "    <tr>\n",
       "      <th>46</th>\n",
       "      <td>Emergency Medicine</td>\n",
       "      <td>31845</td>\n",
       "    </tr>\n",
       "    <tr>\n",
       "      <th>106</th>\n",
       "      <td>Obstetrics &amp; Gynecology</td>\n",
       "      <td>23356</td>\n",
       "    </tr>\n",
       "  </tbody>\n",
       "</table>\n",
       "</div>"
      ],
      "text/plain": [
       "                Prscrbr_Type  # of NPIs\n",
       "74         Internal Medicine     100522\n",
       "51           Family Practice     100509\n",
       "38                   Dentist      99779\n",
       "46        Emergency Medicine      31845\n",
       "106  Obstetrics & Gynecology      23356"
      ]
     },
     "execution_count": 10,
     "metadata": {},
     "output_type": "execute_result"
    }
   ],
   "source": [
    "SpecialtyByNPI_HighFreq = SpecialtyByNPI[SpecialtyByNPI['# of NPIs'] > 5000]\n",
    "\n",
    "SpecialtyByNPI_HighFreq.head()"
   ]
  },
  {
   "cell_type": "code",
   "execution_count": 11,
   "metadata": {},
   "outputs": [
    {
     "name": "stdout",
     "output_type": "stream",
     "text": [
      "Number of Specialties with > 20000 Physicians: 26\n",
      "\n",
      "New dataframe dimension: (17972550, 16)\n",
      "\n",
      "Rows excluded from raw dataset: 7237179\n"
     ]
    }
   ],
   "source": [
    "print(f\"Number of Specialties with > 20000 Physicians: {len(SpecialtyByNPI_HighFreq)}\")\n",
    "print()\n",
    "\n",
    "# Include specialties that have > 20000 physicians and save to a new dataframe\n",
    "SpecialtyByNPI_HighFreqList = list(SpecialtyByNPI_HighFreq.Prscrbr_Type)\n",
    "\n",
    "df2 = df[df.Prscrbr_Type.isin(SpecialtyByNPI_HighFreqList)]\n",
    "\n",
    "print(f'New dataframe dimension: {df2.shape}')\n",
    "print()\n",
    "\n",
    "rowsExcluded = df.shape[0]-df2.shape[0]\n",
    "print(f'Rows excluded from raw dataset: {rowsExcluded}')\n",
    "\n",
    "# delete original df to release memory\n"
   ]
  },
  {
   "cell_type": "code",
   "execution_count": 80,
   "metadata": {},
   "outputs": [],
   "source": [
    "#del df"
   ]
  },
  {
   "cell_type": "markdown",
   "metadata": {},
   "source": [
    "##### Plotting Frequency of Specialty by Number of Unique Provider"
   ]
  },
  {
   "cell_type": "code",
   "execution_count": 204,
   "metadata": {},
   "outputs": [
    {
     "data": {
      "text/plain": [
       "76932"
      ]
     },
     "execution_count": 204,
     "metadata": {},
     "output_type": "execute_result"
    }
   ],
   "source": [
    "df2.groupby('Prscrbr_Type')['Prscrbr_NPI'].nunique().sum()"
   ]
  },
  {
   "cell_type": "code",
   "execution_count": 205,
   "metadata": {},
   "outputs": [],
   "source": [
    "uniqueSpecialtyCount = len(df2.Prscrbr_Type.unique())\n",
    "uniqueNPICount = len(df2.Prscrbr_NPI.unique())\n",
    "uniqueBrndNameCount = len(df2.Brnd_Name.unique())\n",
    "uniqueGnrcNameCount = len(df2.Gnrc_Name.unique())\n",
    "uniqueCityCount = len(df2.Prscrbr_City.unique())\n",
    "uniqueStateCount = len(df2.Prscrbr_State_Abrvtn.unique())\n",
    "\n",
    "Vals = [uniqueSpecialtyCount, \n",
    "        uniqueNPICount,\n",
    "        uniqueCityCount, \n",
    "        uniqueStateCount,\n",
    "        uniqueBrndNameCount, \n",
    "        uniqueGnrcNameCount]\n",
    "\n",
    "Cols = [\"Specialty\", \"NPI\", \"Physician City\", \"Physician State\", \"Brand Name Drug\", \"Generic Drug\"]\n",
    "\n",
    "uniqueDf2 = pd.DataFrame([Cols, Vals]).T\n",
    "uniqueDf2.columns =['Column', 'Unique Counts']"
   ]
  },
  {
   "cell_type": "code",
   "execution_count": 206,
   "metadata": {},
   "outputs": [
    {
     "data": {
      "text/html": [
       "<div>\n",
       "<style scoped>\n",
       "    .dataframe tbody tr th:only-of-type {\n",
       "        vertical-align: middle;\n",
       "    }\n",
       "\n",
       "    .dataframe tbody tr th {\n",
       "        vertical-align: top;\n",
       "    }\n",
       "\n",
       "    .dataframe thead th {\n",
       "        text-align: right;\n",
       "    }\n",
       "</style>\n",
       "<table border=\"1\" class=\"dataframe\">\n",
       "  <thead>\n",
       "    <tr style=\"text-align: right;\">\n",
       "      <th></th>\n",
       "      <th>Column</th>\n",
       "      <th>Unique Counts</th>\n",
       "    </tr>\n",
       "  </thead>\n",
       "  <tbody>\n",
       "    <tr>\n",
       "      <th>0</th>\n",
       "      <td>Specialty</td>\n",
       "      <td>3</td>\n",
       "    </tr>\n",
       "    <tr>\n",
       "      <th>1</th>\n",
       "      <td>NPI</td>\n",
       "      <td>76932</td>\n",
       "    </tr>\n",
       "    <tr>\n",
       "      <th>2</th>\n",
       "      <td>Physician City</td>\n",
       "      <td>4552</td>\n",
       "    </tr>\n",
       "    <tr>\n",
       "      <th>3</th>\n",
       "      <td>Physician State</td>\n",
       "      <td>57</td>\n",
       "    </tr>\n",
       "    <tr>\n",
       "      <th>4</th>\n",
       "      <td>Brand Name Drug</td>\n",
       "      <td>1609</td>\n",
       "    </tr>\n",
       "    <tr>\n",
       "      <th>5</th>\n",
       "      <td>Generic Drug</td>\n",
       "      <td>1012</td>\n",
       "    </tr>\n",
       "  </tbody>\n",
       "</table>\n",
       "</div>"
      ],
      "text/plain": [
       "            Column Unique Counts\n",
       "0        Specialty             3\n",
       "1              NPI         76932\n",
       "2   Physician City          4552\n",
       "3  Physician State            57\n",
       "4  Brand Name Drug          1609\n",
       "5     Generic Drug          1012"
      ]
     },
     "execution_count": 206,
     "metadata": {},
     "output_type": "execute_result"
    }
   ],
   "source": [
    "uniqueDf2"
   ]
  },
  {
   "cell_type": "code",
   "execution_count": 207,
   "metadata": {},
   "outputs": [],
   "source": [
    "fig1_data = (df2.groupby('Prscrbr_Type')['Prscrbr_NPI'].nunique()/df2.groupby('Prscrbr_Type')['Prscrbr_NPI'].nunique().sum()).sort_values(ascending=True)"
   ]
  },
  {
   "cell_type": "code",
   "execution_count": 208,
   "metadata": {},
   "outputs": [
    {
     "data": {
      "image/png": "[encoded data removed]",
      "text/plain": [
       "<Figure size 500x1000 with 1 Axes>"
      ]
     },
     "metadata": {},
     "output_type": "display_data"
    }
   ],
   "source": [
    "plt.figure(figsize=(5,10))\n",
    "fig1_data.plot.barh()\n",
    "plt.xlabel('Frequency')\n",
    "plt.ylabel('Provider Specialty Type')\n",
    "plt.title('Frequency of Specialty by Number of Unique Provider',fontweight='bold')\n",
    "#plt.savefig('Figure 1 - Frequency of Specialy by Number of Unique NPI (New).png', dpi=1200,bbox_inches=\"tight\")\n",
    "plt.show()\n",
    "\n",
    "#median drug price per specialty"
   ]
  },
  {
   "cell_type": "markdown",
   "metadata": {},
   "source": [
    "##### Plotting Frequency of Specialty by Number of Unique Provider (Top 5 and Bottom 5)"
   ]
  },
  {
   "cell_type": "code",
   "execution_count": 22,
   "metadata": {},
   "outputs": [
    {
     "data": {
      "image/png": "[encoded data removed]",
      "text/plain": [
       "<Figure size 500x500 with 1 Axes>"
      ]
     },
     "metadata": {},
     "output_type": "display_data"
    }
   ],
   "source": [
    "\n",
    "fig2_data = pd.concat([fig1_data.nlargest(5), fig1_data.nsmallest(5)]).sort_values(ascending=True)\n",
    "\n",
    "plt.figure(figsize=(5,5))\n",
    "\n",
    "c = ['steelblue','steelblue','steelblue','steelblue','steelblue',\n",
    "    'cornflowerblue','cornflowerblue','cornflowerblue','cornflowerblue','cornflowerblue']\n",
    "\n",
    "fig2_data.plot.barh(color = c)\n",
    "\n",
    "plt.xlabel('Frequency')\n",
    "plt.ylabel('Provider Specialty Type')\n",
    "plt.title('Frequency of Top and Bottom 5 Specialties by Number of Unique Provider',fontweight='bold')\n",
    "plt.savefig('Figure 2 - Frequency of Top and Bottom 5 Specialties by Number of Unique Provider (New).png', dpi=1200,bbox_inches=\"tight\")\n",
    "plt.show()\n",
    "\n",
    "#median drug price per specialty"
   ]
  },
  {
   "cell_type": "markdown",
   "metadata": {},
   "source": [
    "#### Fraction of Missing Values per Feature"
   ]
  },
  {
   "cell_type": "code",
   "execution_count": 209,
   "metadata": {},
   "outputs": [
    {
     "data": {
      "image/png": "[encoded data removed]",
      "text/plain": [
       "<Figure size 100x500 with 2 Axes>"
      ]
     },
     "metadata": {},
     "output_type": "display_data"
    }
   ],
   "source": [
    "missing_per_ftr = df2.isnull().sum(axis=0)/df2.shape[0]\n",
    "\n",
    "#remove NPI & prescriber type since those will not be included in the feature matrix; one is needed for the group structure and the other is the target variable\n",
    "fig3_data = missing_per_ftr.to_frame().reset_index()\n",
    "\n",
    "fig3_data = fig3_data.drop([0, 3])\n",
    "\n",
    "fig3_data = fig3_data.reset_index(drop=True)\n",
    "\n",
    "plt.figure(figsize=(1,5))\n",
    "\n",
    "y_axis_labels = fig3_data.iloc[:,0]\n",
    "fig3_data = np.asarray(fig3_data.iloc[:,1]).reshape(14,1)\n",
    "ax = sns.heatmap(fig3_data ,linewidth=0.5,yticklabels = y_axis_labels,cmap=\"viridis\",vmin=0, vmax=1,annot=True)\n",
    "plt.title(\"Fraction of Missing Values per Feature\",fontweight='bold')\n",
    "#plt.savefig('Figure 3 - Fraction of Missing Values per Feature (New).png', dpi=1200,bbox_inches=\"tight\")\n",
    "\n",
    "plt.show()"
   ]
  },
  {
   "cell_type": "markdown",
   "metadata": {},
   "source": [
    "#### Fraction of Rows with Missing Data"
   ]
  },
  {
   "cell_type": "code",
   "execution_count": 210,
   "metadata": {},
   "outputs": [
    {
     "name": "stdout",
     "output_type": "stream",
     "text": [
      "Fraction of Rows with Missing Data: 0.375\n"
     ]
    }
   ],
   "source": [
    "missing = missing_per_ftr[missing_per_ftr > 0]\n",
    "print (f'Fraction of Rows with Missing Data: {len(missing)/df2.shape[1]}')"
   ]
  },
  {
   "cell_type": "markdown",
   "metadata": {},
   "source": [
    "#### Determining Categorical, Ordinal, and Continuous Features"
   ]
  },
  {
   "cell_type": "code",
   "execution_count": 88,
   "metadata": {},
   "outputs": [
    {
     "name": "stdout",
     "output_type": "stream",
     "text": [
      "Prscrbr_NPI               int64\n",
      "Prscrbr_City             object\n",
      "Prscrbr_State_Abrvtn     object\n",
      "Prscrbr_Type             object\n",
      "Brnd_Name                object\n",
      "Gnrc_Name                object\n",
      "Tot_Clms                  int64\n",
      "Tot_30day_Fills         float64\n",
      "Tot_Day_Suply             int64\n",
      "Tot_Drug_Cst            float64\n",
      "Tot_Benes               float64\n",
      "GE65_Tot_Clms           float64\n",
      "GE65_Tot_30day_Fills    float64\n",
      "GE65_Tot_Drug_Cst       float64\n",
      "GE65_Tot_Day_Suply      float64\n",
      "GE65_Tot_Benes          float64\n",
      "dtype: object\n"
     ]
    }
   ],
   "source": [
    "print(df2.dtypes)"
   ]
  },
  {
   "cell_type": "code",
   "execution_count": 13,
   "metadata": {},
   "outputs": [],
   "source": [
    "target = ['Prscrbr_Type']\n",
    "\n",
    "categorical_ftrs = ['Prscrbr_City',\n",
    "                    'Prscrbr_State_Abrvtn',\n",
    "                    'Brnd_Name',\n",
    "                    'Gnrc_Name']\n",
    "\n",
    "ordinal_ftrs = []\n",
    "\n",
    "std_ftrs = ['Tot_Clms', \n",
    "            'Tot_30day_Fills', \n",
    "            'Tot_Day_Suply', \n",
    "            'Tot_Drug_Cst', \n",
    "            'Tot_Benes', \n",
    "            'GE65_Tot_Clms',\n",
    "            'GE65_Tot_30day_Fills',\n",
    "            'GE65_Tot_Drug_Cst',\n",
    "            'GE65_Tot_Day_Suply',\n",
    "            'GE65_Tot_Benes']\n",
    "\n",
    "labelType = [\"Categorical\", \"Continuous\"]"
   ]
  },
  {
   "cell_type": "code",
   "execution_count": null,
   "metadata": {},
   "outputs": [],
   "source": [
    "categoricalLen = len(categorical_ftrs)\n",
    "continuousLen = len(std_ftrs)\n",
    "Len = [categoricalLen, continuousLen]\n",
    "colors = sns.color_palette(\"Paired\", 9)\n",
    "\n",
    "def my_fmt(x):\n",
    "    print(x)\n",
    "    return '{:.2f}%\\n({:.0f})'.format(x, x*sum(Len)/100)\n",
    "\n",
    "\n",
    "plt.pie(Len, labels = labelType, colors = colors, autopct=my_fmt)\n",
    "plt.title(\"Fraction of Feature Types\",fontweight='bold')\n",
    "plt.savefig('Figure 20 - Fraction of Feature Types.png', dpi=1200,bbox_inches=\"tight\")\n",
    "\n",
    "plt.show()"
   ]
  },
  {
   "cell_type": "code",
   "execution_count": null,
   "metadata": {},
   "outputs": [],
   "source": []
  },
  {
   "cell_type": "markdown",
   "metadata": {},
   "source": [
    "##### Aggregate Drug Cost"
   ]
  },
  {
   "cell_type": "code",
   "execution_count": null,
   "metadata": {},
   "outputs": [],
   "source": [
    "plt.figure(figsize=(6,2))\n",
    "df2.Tot_Drug_Cst.plot.hist(log=True, bins = np.logspace(np.log10(1),np.log10(np.max(df2['Tot_Drug_Cst'])),50))\n",
    "plt.semilogy()\n",
    "plt.semilogx()\n",
    "plt.xlabel('Total Drug Cost')\n",
    "plt.ylabel('Count')\n",
    "plt.title('Drug Costs Paid for All Associated Claims',fontweight='bold')\n",
    "plt.savefig('Figure 4 - Distribution of Drug Costs Paid for All Associated Claims.png', dpi=1200,bbox_inches=\"tight\")\n",
    "\n",
    "#plt.xlim([10**1, 10**5])\n",
    "plt.show()\n"
   ]
  },
  {
   "cell_type": "markdown",
   "metadata": {},
   "source": [
    "##### Total Number of Medicare Beneficiaries with > 1 Claim for a Drug"
   ]
  },
  {
   "cell_type": "code",
   "execution_count": null,
   "metadata": {},
   "outputs": [],
   "source": [
    "plt.figure(figsize=(6,2))\n",
    "df2.Tot_Benes.plot.hist(log=True, bins = np.logspace(np.log10(1),np.log10(np.max(df2['Tot_Benes'])),50))\n",
    "plt.semilogy()\n",
    "plt.semilogx()\n",
    "plt.xlabel('Total Beneficiaries')\n",
    "plt.ylabel('Count')\n",
    "plt.title('Distribution of Total Beneficiaries for a Drug',fontweight='bold')\n",
    "plt.savefig('Figure 5 - Distribution of Total Beneficiaries for a Drug.png', dpi=1200,bbox_inches=\"tight\")\n",
    "\n",
    "#plt.xlim([10**1, 10**5])\n",
    "plt.show()\n"
   ]
  },
  {
   "cell_type": "markdown",
   "metadata": {},
   "source": [
    "##### Total Day Supply for which a drug was dispensed"
   ]
  },
  {
   "cell_type": "code",
   "execution_count": null,
   "metadata": {},
   "outputs": [],
   "source": [
    "plt.figure(figsize=(6,2))\n",
    "df2.Tot_Day_Suply.plot.hist(log=True, bins = np.logspace(np.log10(1),np.log10(np.max(df2['Tot_Benes'])),50))\n",
    "plt.semilogy()\n",
    "plt.semilogx()\n",
    "plt.xlabel('Total Day Supply')\n",
    "plt.ylabel('Count')\n",
    "plt.title('Distribution of Total Day Supply for a Drug',fontweight='bold')\n",
    "plt.savefig('Figure 6 - Distribution of Total Day Supply for a Drug.png', dpi=1200,bbox_inches=\"tight\")\n",
    "\n",
    "#plt.xlim([10**1, 10**5])\n",
    "plt.show()\n"
   ]
  },
  {
   "cell_type": "markdown",
   "metadata": {},
   "source": [
    "##### Aggregate Number of Standardized 30-Day Drug Filla"
   ]
  },
  {
   "cell_type": "code",
   "execution_count": null,
   "metadata": {},
   "outputs": [],
   "source": [
    "plt.figure(figsize=(6,2))\n",
    "df2.Tot_30day_Fills.plot.hist(log=True, bins = np.logspace(np.log10(1),np.log10(np.max(df2['Tot_30day_Fills'])),50))\n",
    "plt.semilogy()\n",
    "plt.semilogx()\n",
    "plt.xlabel('Total 30 Day Fills')\n",
    "plt.ylabel('Count')\n",
    "plt.title('Distribution of Total 30 Day Fills for a Drug',fontweight='bold')\n",
    "plt.savefig('Figure 7 - Distribution of Total 30 Day Fills for a Drug.png', dpi=1200,bbox_inches=\"tight\")\n",
    "\n",
    "#plt.xlim([10**1, 10**5])\n",
    "plt.show()\n",
    "\n"
   ]
  },
  {
   "cell_type": "markdown",
   "metadata": {},
   "source": [
    "##### Number of Medicare Part D Claims"
   ]
  },
  {
   "cell_type": "code",
   "execution_count": null,
   "metadata": {},
   "outputs": [],
   "source": [
    "plt.figure(figsize=(6,2))\n",
    "df2.Tot_Clms.plot.hist(log=True, bins = np.logspace(np.log10(1),np.log10(np.max(df2['Tot_Clms'])),50))\n",
    "plt.semilogy()\n",
    "plt.semilogx()\n",
    "plt.xlabel('Total Claims')\n",
    "plt.ylabel('Count')\n",
    "plt.title('Distribution of Total Claims for a Drug',fontweight='bold')\n",
    "plt.savefig('Figure 8 - Distribution of Total Claims for a Drug.png', dpi=1200,bbox_inches=\"tight\")\n",
    "\n",
    "#plt.xlim([10**1, 10**5])\n",
    "plt.show()\n"
   ]
  },
  {
   "cell_type": "markdown",
   "metadata": {},
   "source": [
    "##### Cost per Claim: Total Drug Cost / Total Claims"
   ]
  },
  {
   "cell_type": "code",
   "execution_count": null,
   "metadata": {},
   "outputs": [],
   "source": [
    "fig9_data = df2.Tot_Drug_Cst/df2.Tot_Clms\n",
    "\n",
    "plt.figure(figsize=(6,2))\n",
    "fig9_data.plot.hist(log=True, bins = np.logspace(np.log10(1),np.log10(np.max(fig9_data)),50))\n",
    "plt.semilogy()\n",
    "plt.semilogx()\n",
    "plt.xlabel('Dollar [$]')\n",
    "plt.ylabel('Count')\n",
    "plt.title('Distribution of Drug Cost per Claim (Total Drug Cost/Total Claims)',fontweight='bold')\n",
    "plt.savefig('Figure 9 - Distribution of Drug Cost per Claim.png', dpi=1200,bbox_inches=\"tight\")\n",
    "\n",
    "#plt.xlim([10**1, 10**5])\n",
    "plt.show()\n"
   ]
  },
  {
   "cell_type": "markdown",
   "metadata": {},
   "source": [
    "##### Median Cost per Claim by Specialty"
   ]
  },
  {
   "cell_type": "code",
   "execution_count": null,
   "metadata": {},
   "outputs": [],
   "source": [
    "fig10_data = df2[[\"Prscrbr_NPI\", \"Prscrbr_Type\", \"Tot_Clms\", 'Tot_Drug_Cst']]\n",
    "\n",
    "fig10_data[\"Cst_per_Clm\"] = fig10_data[\"Tot_Drug_Cst\"]/fig10_data[\"Tot_Clms\"]\n"
   ]
  },
  {
   "cell_type": "code",
   "execution_count": null,
   "metadata": {},
   "outputs": [],
   "source": [
    "fig10_data2 = fig10_data.groupby([\"Prscrbr_Type\"])[\"Cst_per_Clm\"].median().sort_values(ascending=True)\n",
    "\n",
    "plt.figure(figsize=(5,10))\n",
    "fig10_data2.plot.barh()\n",
    "plt.xlabel('Dollar [$]')\n",
    "plt.ylabel('Provider Specialty Type')\n",
    "plt.title('Median Cost per Claim by Provider Specialty',fontweight='bold')\n",
    "plt.savefig('Figure 10 - Median Cost per Claim by Provider Specialty.png', dpi=1200,bbox_inches=\"tight\")\n",
    "plt.show()\n",
    "\n",
    "#median drug price per specialty"
   ]
  },
  {
   "cell_type": "markdown",
   "metadata": {},
   "source": [
    "##### Total Claim per Specialty"
   ]
  },
  {
   "cell_type": "code",
   "execution_count": null,
   "metadata": {},
   "outputs": [],
   "source": [
    "plt.figure(figsize=(6,2))\n",
    "fig9_data.plot.hist(log=True, bins = np.logspace(np.log10(1),np.log10(np.max(fig9_data)),50))\n",
    "plt.semilogy()\n",
    "plt.semilogx()\n",
    "plt.xlabel('Dollar [$]')\n",
    "plt.ylabel('Count')\n",
    "plt.title('Distribution of Drug Cost per Claim (Total Drug Cost/Total Claims)',fontweight='bold')\n",
    "plt.savefig('Figure 9 - Distribution of Drug Cost per Claim.png', dpi=1200,bbox_inches=\"tight\")\n",
    "\n",
    "#plt.xlim([10**1, 10**5])\n",
    "plt.show()\n"
   ]
  },
  {
   "cell_type": "markdown",
   "metadata": {},
   "source": [
    "##### Median # of Claims per Specialty"
   ]
  },
  {
   "cell_type": "code",
   "execution_count": null,
   "metadata": {},
   "outputs": [],
   "source": [
    "fig17_data = df2.groupby([\"Prscrbr_Type\"])[\"Tot_Clms\"].median().sort_values(ascending=True)\n",
    "\n",
    "plt.figure(figsize=(5,10))\n",
    "fig17_data.plot.barh()\n",
    "plt.xlabel('Count')\n",
    "plt.ylabel('Provider Specialty Type')\n",
    "plt.title('Median # of Claims per Drug by Provider Specialty',fontweight='bold')\n",
    "plt.savefig('Figure 17 - Median # of Claims per Drug by Provider Specialty.png', dpi=1200,bbox_inches=\"tight\")\n",
    "plt.show()\n"
   ]
  },
  {
   "cell_type": "code",
   "execution_count": null,
   "metadata": {},
   "outputs": [],
   "source": [
    "df3 = df2[(df2[\"Prscrbr_Type\"] == 'Cardiology') |\n",
    "          (df2[\"Prscrbr_Type\"] == 'Ophthalmology') |\n",
    "          (df2[\"Prscrbr_Type\"] == 'Oral Surgery (Dentist only)')|\n",
    "          (df2[\"Prscrbr_Type\"] == 'Emergency Medicine')|\n",
    "          (df2[\"Prscrbr_Type\"] == 'Obstetrics & Gynecology')|\n",
    "          (df2[\"Prscrbr_Type\"] == 'Hospitalist')]"
   ]
  },
  {
   "cell_type": "markdown",
   "metadata": {},
   "source": [
    "##### Ridge Plot: Distribution of Total Claims by Specialty (Top and Bottom 3 Median Total Claims)"
   ]
  },
  {
   "cell_type": "code",
   "execution_count": null,
   "metadata": {},
   "outputs": [],
   "source": [
    "# plot\n",
    "# Initialize the FacetGrid object\n",
    "\n",
    "pal = sns.cubehelix_palette(len(df3.Prscrbr_Type.unique()), rot=-.25, light=.7)\n",
    "g = sns.FacetGrid(df3, row=\"Prscrbr_Type\", hue=\"Prscrbr_Type\", aspect=9, height=0.8, palette=pal, \n",
    "                  row_order=[\"Cardiology\", \"Ophthalmology\", \n",
    "                             \"Oral Surgery (Dentist only)\", \n",
    "                             \"Emergency Medicine\", \"Obstetrics & Gynecology\", \"Hospitalist\"],\n",
    "                 hue_order=[\"Cardiology\", \"Ophthalmology\", \n",
    "                             \"Oral Surgery (Dentist only)\", \n",
    "                             \"Emergency Medicine\", \"Obstetrics & Gynecology\", \"Hospitalist\"])\n",
    "\n",
    "# Draw the densities in a few steps\n",
    "g.map(sns.kdeplot, \"Tot_Clms\", bw_adjust=.5, clip_on=False, fill=True, alpha=1, linewidth=1.5,log_scale=True)\n",
    "#g.map(sns.kdeplot, \"Tot_Clms\", clip_on=False, color=\"w\", lw=2, bw_adjust=.5,log_scale=True)\n",
    "g.map(plt.axhline, y=0, lw=2, clip_on=False)\n",
    "\n",
    "# Define and use a simple function to label the plot in axes coordinates\n",
    "def label(x, color, label):\n",
    "    ax = plt.gca()\n",
    "    ax.text(1, 0.8, label, fontweight=\"bold\", color=color, ha=\"right\", va=\"center\", transform=ax.transAxes)\n",
    "\n",
    "g.map(label, \"Prscrbr_Type\")\n",
    "\n",
    "# Set the subplots to overlap\n",
    "g.fig.subplots_adjust(hspace=-.25)\n",
    "\n",
    "# Remove axes details that don't play well with overlap\n",
    "\n",
    "g.set(yticks=[])\n",
    "g.set(xlabel=None)\n",
    "g.set(ylabel= None)\n",
    "g.set_titles(\"\")\n",
    "g.despine(bottom=True, left=True)\n",
    "g.fig.tight_layout()\n",
    "g.set_axis_labels(\"Count\", \"Density\")\n",
    "g.figure.suptitle(\"Total Claim Distributions for Specialties with the Highest & Lowest Median Claim\", \n",
    "                  size=14,fontweight='bold')\n",
    "g.figure.subplots_adjust(top=.9)\n",
    "g.savefig(\"Figure 18 - Ridge Plot for Total Claims.png\", dpi=1200,bbox_inches=\"tight\")"
   ]
  },
  {
   "cell_type": "code",
   "execution_count": null,
   "metadata": {},
   "outputs": [],
   "source": [
    "sns.kdeplot(\n",
    "   data=df3, x=\"Tot_Clms\", hue=\"Prscrbr_Type\",\n",
    "   fill=True, common_norm=False, palette=\"mako\",\n",
    "   alpha=.5, linewidth=0,log_scale=True)"
   ]
  },
  {
   "cell_type": "markdown",
   "metadata": {},
   "source": [
    "##### Distribution of Cost per Claim by Specialty"
   ]
  },
  {
   "cell_type": "code",
   "execution_count": null,
   "metadata": {},
   "outputs": [],
   "source": [
    "categories = fig10_data['Prscrbr_Type'].unique()\n",
    "bin_range = np.logspace(np.log10(1),np.log10(282651),50)\n",
    "\n",
    "for c in categories[0:5]:\n",
    "    plt.hist(fig10_data[fig10_data['Prscrbr_Type']==c]['Cst_per_Clm'],log=True,alpha=0.5,label=c,bins=500,density=True)\n",
    "plt.legend()\n",
    "plt.semilogy()\n",
    "plt.semilogx()\n",
    "plt.ylabel('fraction')\n",
    "plt.xlabel('Cst_per_Clm')\n",
    "plt.show()"
   ]
  },
  {
   "cell_type": "code",
   "execution_count": null,
   "metadata": {},
   "outputs": [],
   "source": [
    "fig, ax = plt.subplots(figsize=(8,6))\n",
    "sns.scatterplot(x='x', y='y', hue='Prscrbr_Type', data=fig10_data) \n",
    "plt.show()"
   ]
  },
  {
   "cell_type": "markdown",
   "metadata": {},
   "source": [
    "##### Aggregate Sum of Drug Claims per Specialty"
   ]
  },
  {
   "cell_type": "code",
   "execution_count": null,
   "metadata": {},
   "outputs": [],
   "source": [
    "fig11_data = df2.groupby([\"Prscrbr_Type\"])[\"Tot_Clms\"].sum().sort_values(ascending=True)\n",
    "\n",
    "plt.figure(figsize=(5,10))\n",
    "fig11_data.plot.barh()\n",
    "plt.xlabel('# of Claims')\n",
    "plt.ylabel('Provider Specialty Type')\n",
    "\n",
    "plt.title('Aggregate Sum of Claims by Provider Specialty',fontweight='bold')\n",
    "plt.savefig('Figure 11 - Aggregate Sum of Claims by Provider Specialty.png', dpi=1200,bbox_inches=\"tight\")\n",
    "plt.show()\n"
   ]
  },
  {
   "cell_type": "markdown",
   "metadata": {},
   "source": [
    "##### Distribution of Drug Claims per Specialty"
   ]
  },
  {
   "cell_type": "markdown",
   "metadata": {},
   "source": [
    "##### Total Cost vs Total Claim"
   ]
  },
  {
   "cell_type": "code",
   "execution_count": null,
   "metadata": {},
   "outputs": [],
   "source": [
    "fig, ax = plt.subplots(figsize = (9, 6))\n",
    "ax.scatter(df2.Tot_Clms, df2.Tot_Drug_Cst, s=60, alpha=0.7, edgecolors=\"k\")\n",
    "\n",
    "ax.set_xscale(\"log\")\n",
    "ax.set_yscale(\"log\")\n",
    "\n",
    "\n",
    "plt.title(\"Total Cost vs Total Claim\",fontweight='bold')\n",
    "\n",
    "plt.xlabel('# of Claims')\n",
    "plt.ylabel('Total Drug Cost [$]')\n",
    "plt.savefig('Figure 12 - Total Cost vs Total Claim Scatterplot.png', dpi=1200,bbox_inches=\"tight\")\n",
    "plt.show()"
   ]
  },
  {
   "cell_type": "code",
   "execution_count": null,
   "metadata": {},
   "outputs": [],
   "source": [
    "fig16_data = df2[(df2[\"Prscrbr_Type\"] == 'Ophthalmology') |\n",
    "                 (df2[\"Prscrbr_Type\"] == 'Pulmonary Disease') | \n",
    "                 (df2[\"Prscrbr_Type\"] == 'Endocrinology') | \n",
    "                (df2[\"Prscrbr_Type\"] == 'Emergency Medicine' )|\n",
    "                (df2[\"Prscrbr_Type\"] == 'Oral Surgery (Dentist only)' )|\n",
    "                (df2[\"Prscrbr_Type\"] == 'Dentist')]\n"
   ]
  },
  {
   "cell_type": "code",
   "execution_count": null,
   "metadata": {},
   "outputs": [],
   "source": [
    "hue_order = [\"Pulmonary Disease\", \"Endocrinology\", \"Ophthalmology\",\n",
    "            \"Emergency Medicine\", \"Oral Surgery (Dentist only)\", \"Dentist\"]\n",
    "\n",
    "fig, ax = plt.subplots(figsize=(5,5))\n",
    "g = sns.scatterplot(x='Tot_Clms', y='Tot_Drug_Cst', hue='Prscrbr_Type', \n",
    "                    data=fig16_data, palette=\"coolwarm\", hue_order = hue_order)\n",
    "g.legend(loc='lower right') #, bbox_to_anchor=(1, 0.5), ncol=1\n",
    "\n",
    "ax.set_xscale(\"log\")\n",
    "ax.set_yscale(\"log\")\n",
    "\n",
    "plt.xlabel('# of Claims')\n",
    "plt.ylabel('Total Drug Cost [$]')\n",
    "\n",
    "plt.title(\"Total Drug Cost vs Total # of Claim for Select Specialties\",fontweight='bold')\n",
    "plt.savefig('Figure 13 - Total Cost vs Total Claim for Select Specialties.png', dpi=1200,bbox_inches=\"tight\")\n",
    "\n",
    "plt.show()"
   ]
  },
  {
   "cell_type": "markdown",
   "metadata": {},
   "source": [
    "#### Exploring Categorical Features"
   ]
  },
  {
   "cell_type": "markdown",
   "metadata": {},
   "source": [
    "##### Number of Unique Providers in the Dataset"
   ]
  },
  {
   "cell_type": "code",
   "execution_count": 172,
   "metadata": {},
   "outputs": [
    {
     "name": "stdout",
     "output_type": "stream",
     "text": [
      "Number of Unique Providers: 377742\n"
     ]
    }
   ],
   "source": [
    "uniqueNPIs = df2.Prscrbr_NPI.unique()\n",
    "\n",
    "print(f'Number of Unique Providers: {len(uniqueNPIs)}')"
   ]
  },
  {
   "cell_type": "markdown",
   "metadata": {},
   "source": [
    "##### Number of Unique Generic Drugs"
   ]
  },
  {
   "cell_type": "code",
   "execution_count": 173,
   "metadata": {},
   "outputs": [
    {
     "name": "stdout",
     "output_type": "stream",
     "text": [
      "Number of unique generic name drugs:1551\n"
     ]
    }
   ],
   "source": [
    "uniqueGenericDrugs = df2.Gnrc_Name.unique()\n",
    "print(f'Number of unique generic name drugs:{len(uniqueGenericDrugs)}')\n",
    "#replace rare drugs w/string 'rare' <100"
   ]
  },
  {
   "cell_type": "markdown",
   "metadata": {},
   "source": [
    "##### Number of Unique Generic Drugs per Specialty"
   ]
  },
  {
   "cell_type": "code",
   "execution_count": 211,
   "metadata": {},
   "outputs": [
    {
     "data": {
      "image/png": "[encoded data removed]",
      "text/plain": [
       "<Figure size 500x1000 with 1 Axes>"
      ]
     },
     "metadata": {},
     "output_type": "display_data"
    }
   ],
   "source": [
    "fig14_data = df2.groupby('Prscrbr_Type')['Gnrc_Name'].nunique().sort_values(ascending=True)\n",
    "\n",
    "plt.figure(figsize=(5,10))\n",
    "fig14_data.plot.barh()\n",
    "plt.xlabel('Count')\n",
    "plt.ylabel('Provider Specialty Type')\n",
    "plt.title('Unique Generic Drugs by Specialty',fontweight='bold')\n",
    "#plt.savefig('Figure 14 - Unique Generic Drugs by Specialty.png', dpi=1200,bbox_inches=\"tight\")\n",
    "plt.show()\n"
   ]
  },
  {
   "cell_type": "code",
   "execution_count": null,
   "metadata": {},
   "outputs": [],
   "source": [
    "\n",
    "fig15_data = pd.concat([fig14_data.nlargest(5), fig14_data.nsmallest(5)]).sort_values(ascending=True)\n",
    "\n",
    "plt.figure(figsize=(5,5))\n",
    "\n",
    "c = ['steelblue','steelblue','steelblue','steelblue','steelblue',\n",
    "    'cornflowerblue','cornflowerblue','cornflowerblue','cornflowerblue','cornflowerblue']\n",
    "\n",
    "fig15_data.plot.barh(color = c)\n",
    "\n",
    "plt.xlabel('Count')\n",
    "plt.ylabel('Provider Specialty Type')\n",
    "plt.title('Number of Unique Generic Drugs by Specialty (Top and Bottom 5)',fontweight='bold')\n",
    "plt.savefig('Figure 15 - Unique Generic Drugs by Specialty (Top and Bottom 5).png', dpi=1200,bbox_inches=\"tight\")\n",
    "plt.show()\n",
    "\n",
    "#median drug price per specialty"
   ]
  },
  {
   "cell_type": "code",
   "execution_count": 212,
   "metadata": {},
   "outputs": [
    {
     "data": {
      "text/html": [
       "<div>\n",
       "<style scoped>\n",
       "    .dataframe tbody tr th:only-of-type {\n",
       "        vertical-align: middle;\n",
       "    }\n",
       "\n",
       "    .dataframe tbody tr th {\n",
       "        vertical-align: top;\n",
       "    }\n",
       "\n",
       "    .dataframe thead th {\n",
       "        text-align: right;\n",
       "    }\n",
       "</style>\n",
       "<table border=\"1\" class=\"dataframe\">\n",
       "  <thead>\n",
       "    <tr style=\"text-align: right;\">\n",
       "      <th></th>\n",
       "      <th>Generic Name</th>\n",
       "      <th># of NPIs</th>\n",
       "    </tr>\n",
       "  </thead>\n",
       "  <tbody>\n",
       "    <tr>\n",
       "      <th>172</th>\n",
       "      <td>Cephalexin</td>\n",
       "      <td>18133</td>\n",
       "    </tr>\n",
       "    <tr>\n",
       "      <th>964</th>\n",
       "      <td>Trazodone Hcl</td>\n",
       "      <td>17746</td>\n",
       "    </tr>\n",
       "    <tr>\n",
       "      <th>344</th>\n",
       "      <td>Estradiol</td>\n",
       "      <td>17708</td>\n",
       "    </tr>\n",
       "    <tr>\n",
       "      <th>817</th>\n",
       "      <td>Quetiapine Fumarate</td>\n",
       "      <td>17033</td>\n",
       "    </tr>\n",
       "    <tr>\n",
       "      <th>866</th>\n",
       "      <td>Sertraline Hcl</td>\n",
       "      <td>16582</td>\n",
       "    </tr>\n",
       "  </tbody>\n",
       "</table>\n",
       "</div>"
      ],
      "text/plain": [
       "            Generic Name  # of NPIs\n",
       "172           Cephalexin      18133\n",
       "964        Trazodone Hcl      17746\n",
       "344            Estradiol      17708\n",
       "817  Quetiapine Fumarate      17033\n",
       "866       Sertraline Hcl      16582"
      ]
     },
     "execution_count": 212,
     "metadata": {},
     "output_type": "execute_result"
    }
   ],
   "source": [
    "GenericDrugsCountbyNPI = pd.DataFrame(df2.groupby('Gnrc_Name')['Prscrbr_NPI'].nunique())\n",
    "GenericDrugsCountbyNPI.reset_index(inplace=True)\n",
    "GenericDrugsCountbyNPI.columns = ['Generic Name', '# of NPIs']\n",
    "GenericDrugsCountbyNPI = GenericDrugsCountbyNPI.sort_values(by=['# of NPIs'], ascending=False)\n",
    "\n",
    "GenericDrugsCountbyNPI.head()"
   ]
  },
  {
   "cell_type": "code",
   "execution_count": 216,
   "metadata": {},
   "outputs": [
    {
     "name": "stdout",
     "output_type": "stream",
     "text": [
      "                  Generic Name  # of NPIs\n",
      "172                 Cephalexin      18133\n",
      "964              Trazodone Hcl      17746\n",
      "344                  Estradiol      17708\n",
      "817        Quetiapine Fumarate      17033\n",
      "866             Sertraline Hcl      16582\n",
      "202                 Clonazepam      16113\n",
      "457  Hydrocodone/Acetaminophen      15825\n",
      "129              Bupropion Hcl      15369\n",
      "339       Escitalopram Oxalate      15015\n",
      "403             Fluoxetine Hcl      14707\n",
      "303             Duloxetine Hcl      14569\n",
      "798                 Prednisone      14385\n",
      "63                Aripiprazole      14332\n",
      "423                 Gabapentin      14145\n",
      "570                  Lorazepam      14027\n",
      "Number of Generic Drugs Prescribed by >= 10000 Physicians : 353\n"
     ]
    }
   ],
   "source": [
    "GenericDrugsbyCount_HighFreq = GenericDrugsCountbyNPI[GenericDrugsCountbyNPI['# of NPIs'] >= 100]\n",
    "\n",
    "print(GenericDrugsbyCount_HighFreq.head(15))\n",
    "\n",
    "print(f\"Number of Generic Drugs Prescribed by >= 10000 Physicians : {len(GenericDrugsbyCount_HighFreq)}\")"
   ]
  },
  {
   "cell_type": "code",
   "execution_count": 217,
   "metadata": {},
   "outputs": [
    {
     "name": "stdout",
     "output_type": "stream",
     "text": [
      "Number of Generic Drugs Prescribed by < 10000 Physicians : 659\n"
     ]
    }
   ],
   "source": [
    "# Replace \"rare drugs\" that occur < 250 times with string \"Rare\"\n",
    "\n",
    "GenericDrugsbyCount_LowFreq = GenericDrugsCountbyNPI[GenericDrugsCountbyNPI['# of NPIs'] < 100]\n",
    "\n",
    "print(f\"Number of Generic Drugs Prescribed by < 10000 Physicians : {len(GenericDrugsbyCount_LowFreq)}\")\n",
    "\n",
    "GenericDrugsbyCount_LowFreqList = list(GenericDrugsbyCount_LowFreq ['Generic Name'])\n"
   ]
  },
  {
   "cell_type": "code",
   "execution_count": 32,
   "metadata": {},
   "outputs": [],
   "source": [
    "#df2.Gnrc_Name = np.where(df2.Gnrc_Name.isin(GenericDrugsbyCount_LowFreqList), \"Rare\", df2.Gnrc_Name)"
   ]
  },
  {
   "cell_type": "code",
   "execution_count": 135,
   "metadata": {},
   "outputs": [],
   "source": [
    "df2 = df2[~df2.Gnrc_Name.isin(GenericDrugsbyCount_LowFreqList)]"
   ]
  },
  {
   "cell_type": "code",
   "execution_count": 136,
   "metadata": {},
   "outputs": [
    {
     "data": {
      "text/plain": [
       "(12687230, 16)"
      ]
     },
     "execution_count": 136,
     "metadata": {},
     "output_type": "execute_result"
    }
   ],
   "source": [
    "df2.shape"
   ]
  },
  {
   "cell_type": "code",
   "execution_count": null,
   "metadata": {},
   "outputs": [],
   "source": [
    "fig11_data = fig10_data.groupby([\"Prscrbr_Type\"])[\"Tot_Clms\"].sum().sort_values(ascending=True)\n",
    "\n",
    "plt.figure(figsize=(5,10))\n",
    "fig11_data.plot.barh()\n",
    "plt.xlabel('# of Claims')\n",
    "plt.ylabel('Provider Specialty Type')\n",
    "plt.title('Aggregate Sum of Claims by Provider Specialty',fontweight='bold')\n",
    "plt.savefig('Figure 11 - Aggregate Sum of Claims by Provider Specialty.png', dpi=1200,bbox_inches=\"tight\")\n",
    "plt.show()\n"
   ]
  },
  {
   "cell_type": "markdown",
   "metadata": {},
   "source": [
    "##### Number of Unique Brand Name Drugs"
   ]
  },
  {
   "cell_type": "code",
   "execution_count": 137,
   "metadata": {},
   "outputs": [
    {
     "name": "stdout",
     "output_type": "stream",
     "text": [
      "Number of unique brand name drugs: 730\n",
      "\n"
     ]
    },
    {
     "data": {
      "text/plain": [
       "Atorvastatin Calcium    162705\n",
       "Amlodipine Besylate     154711\n",
       "Lisinopril              150776\n",
       "Gabapentin              147351\n",
       "Levothyroxine Sodium    143994\n",
       "                         ...  \n",
       "Anusol-Hc                    1\n",
       "Maxi-Comfort                 1\n",
       "Doryx Mpc                    1\n",
       "Bd Insulin Syringe           1\n",
       "Xolegel                      1\n",
       "Name: Brnd_Name, Length: 730, dtype: int64"
      ]
     },
     "execution_count": 137,
     "metadata": {},
     "output_type": "execute_result"
    }
   ],
   "source": [
    "uniqueBrandNameDrugs = df2.Brnd_Name.unique()\n",
    "print(f'Number of unique brand name drugs: {len(uniqueBrandNameDrugs)}')\n",
    "print()\n",
    "df2['Brnd_Name'].value_counts()"
   ]
  },
  {
   "cell_type": "code",
   "execution_count": 138,
   "metadata": {},
   "outputs": [
    {
     "data": {
      "text/html": [
       "<div>\n",
       "<style scoped>\n",
       "    .dataframe tbody tr th:only-of-type {\n",
       "        vertical-align: middle;\n",
       "    }\n",
       "\n",
       "    .dataframe tbody tr th {\n",
       "        vertical-align: top;\n",
       "    }\n",
       "\n",
       "    .dataframe thead th {\n",
       "        text-align: right;\n",
       "    }\n",
       "</style>\n",
       "<table border=\"1\" class=\"dataframe\">\n",
       "  <thead>\n",
       "    <tr style=\"text-align: right;\">\n",
       "      <th></th>\n",
       "      <th>Brand Name</th>\n",
       "      <th># of NPIs</th>\n",
       "    </tr>\n",
       "  </thead>\n",
       "  <tbody>\n",
       "    <tr>\n",
       "      <th>58</th>\n",
       "      <td>Atorvastatin Calcium</td>\n",
       "      <td>162705</td>\n",
       "    </tr>\n",
       "    <tr>\n",
       "      <th>41</th>\n",
       "      <td>Amlodipine Besylate</td>\n",
       "      <td>154711</td>\n",
       "    </tr>\n",
       "    <tr>\n",
       "      <th>366</th>\n",
       "      <td>Lisinopril</td>\n",
       "      <td>150776</td>\n",
       "    </tr>\n",
       "    <tr>\n",
       "      <th>253</th>\n",
       "      <td>Gabapentin</td>\n",
       "      <td>147351</td>\n",
       "    </tr>\n",
       "    <tr>\n",
       "      <th>357</th>\n",
       "      <td>Levothyroxine Sodium</td>\n",
       "      <td>143994</td>\n",
       "    </tr>\n",
       "  </tbody>\n",
       "</table>\n",
       "</div>"
      ],
      "text/plain": [
       "               Brand Name  # of NPIs\n",
       "58   Atorvastatin Calcium     162705\n",
       "41    Amlodipine Besylate     154711\n",
       "366            Lisinopril     150776\n",
       "253            Gabapentin     147351\n",
       "357  Levothyroxine Sodium     143994"
      ]
     },
     "execution_count": 138,
     "metadata": {},
     "output_type": "execute_result"
    }
   ],
   "source": [
    "BrandDrugsCountbyNPI = pd.DataFrame(df2.groupby('Brnd_Name')['Prscrbr_NPI'].nunique())\n",
    "BrandDrugsCountbyNPI.reset_index(inplace=True)\n",
    "BrandDrugsCountbyNPI.columns = ['Brand Name', '# of NPIs']\n",
    "BrandDrugsCountbyNPI = BrandDrugsCountbyNPI.sort_values(by=['# of NPIs'], ascending=False)\n",
    "\n",
    "BrandDrugsCountbyNPI.head()"
   ]
  },
  {
   "cell_type": "code",
   "execution_count": 218,
   "metadata": {},
   "outputs": [
    {
     "name": "stdout",
     "output_type": "stream",
     "text": [
      "Number of Brand Name Drugs Prescribed by >= 15000 Physicians : 487\n"
     ]
    }
   ],
   "source": [
    "BrandDrugsbyCount_HighFreq = BrandDrugsCountbyNPI[BrandDrugsCountbyNPI['# of NPIs'] >= 100]\n",
    "\n",
    "BrandDrugsbyCount_HighFreq.head()\n",
    "\n",
    "print(f\"Number of Brand Name Drugs Prescribed by >= 15000 Physicians : {len(BrandDrugsbyCount_HighFreq)}\")\n",
    "\n",
    "#df2.Brnd_Name = np.where(df2.Brnd_Name.isin(BrandDrugsbyCount_LowFreqList), \"Rare\", df2.Gnrc_Name)"
   ]
  },
  {
   "cell_type": "code",
   "execution_count": 219,
   "metadata": {},
   "outputs": [
    {
     "name": "stdout",
     "output_type": "stream",
     "text": [
      "Number of Brand Name Drugs Prescribed by < 250 Physicians : 243\n"
     ]
    }
   ],
   "source": [
    "# Replace \"rare drugs\" that occur < 250 times with string \"Rare\"\n",
    "\n",
    "BrandDrugsbyCount_LowFreq = BrandDrugsCountbyNPI[BrandDrugsCountbyNPI['# of NPIs'] < 100]\n",
    "\n",
    "print(f\"Number of Brand Name Drugs Prescribed by < 250 Physicians : {len(BrandDrugsbyCount_LowFreq)}\")\n",
    "\n",
    "BrandDrugsbyCount_LowFreqList = list(BrandDrugsbyCount_LowFreq ['Brand Name'])"
   ]
  },
  {
   "cell_type": "code",
   "execution_count": null,
   "metadata": {},
   "outputs": [],
   "source": [
    "#df2.Brnd_Name = np.where(df2.Brnd_Name.isin(BrandDrugsbyCount_LowFreqList), \"Rare\", df2.Brnd_Name)"
   ]
  },
  {
   "cell_type": "code",
   "execution_count": 141,
   "metadata": {},
   "outputs": [],
   "source": [
    "df2 = df2[~df2.Brnd_Name.isin(BrandDrugsbyCount_LowFreqList)]"
   ]
  },
  {
   "cell_type": "markdown",
   "metadata": {},
   "source": [
    "### Number of Drugs by Specialty Type After Discarding 'Rare Drugs'"
   ]
  },
  {
   "cell_type": "code",
   "execution_count": 220,
   "metadata": {},
   "outputs": [
    {
     "data": {
      "image/png": "[encoded data removed]",
      "text/plain": [
       "<Figure size 500x1000 with 1 Axes>"
      ]
     },
     "metadata": {},
     "output_type": "display_data"
    }
   ],
   "source": [
    "fig14_data = df2.groupby('Prscrbr_Type')['Gnrc_Name'].nunique().sort_values(ascending=True)\n",
    "\n",
    "plt.figure(figsize=(5,10))\n",
    "fig14_data.plot.barh()\n",
    "plt.xlabel('Count')\n",
    "plt.ylabel('Provider Specialty Type')\n",
    "plt.title('Unique Generic Drugs by Specialty',fontweight='bold')\n",
    "#plt.savefig('Figure 14 - Unique Generic Drugs by Specialty.png', dpi=1200,bbox_inches=\"tight\")\n",
    "plt.show()\n"
   ]
  },
  {
   "cell_type": "code",
   "execution_count": 145,
   "metadata": {},
   "outputs": [
    {
     "data": {
      "text/html": [
       "<div>\n",
       "<style scoped>\n",
       "    .dataframe tbody tr th:only-of-type {\n",
       "        vertical-align: middle;\n",
       "    }\n",
       "\n",
       "    .dataframe tbody tr th {\n",
       "        vertical-align: top;\n",
       "    }\n",
       "\n",
       "    .dataframe thead th {\n",
       "        text-align: right;\n",
       "    }\n",
       "</style>\n",
       "<table border=\"1\" class=\"dataframe\">\n",
       "  <thead>\n",
       "    <tr style=\"text-align: right;\">\n",
       "      <th></th>\n",
       "      <th>Prscrbr_NPI</th>\n",
       "      <th>Prscrbr_City</th>\n",
       "      <th>Prscrbr_State_Abrvtn</th>\n",
       "      <th>Prscrbr_Type</th>\n",
       "      <th>Brnd_Name</th>\n",
       "      <th>Gnrc_Name</th>\n",
       "      <th>Tot_Clms</th>\n",
       "      <th>Tot_30day_Fills</th>\n",
       "      <th>Tot_Day_Suply</th>\n",
       "      <th>Tot_Drug_Cst</th>\n",
       "      <th>Tot_Benes</th>\n",
       "      <th>GE65_Tot_Clms</th>\n",
       "      <th>GE65_Tot_30day_Fills</th>\n",
       "      <th>GE65_Tot_Drug_Cst</th>\n",
       "      <th>GE65_Tot_Day_Suply</th>\n",
       "      <th>GE65_Tot_Benes</th>\n",
       "    </tr>\n",
       "  </thead>\n",
       "  <tbody>\n",
       "    <tr>\n",
       "      <th>0</th>\n",
       "      <td>1003000126</td>\n",
       "      <td>Bethesda</td>\n",
       "      <td>MD</td>\n",
       "      <td>Internal Medicine</td>\n",
       "      <td>Amiodarone Hcl</td>\n",
       "      <td>Amiodarone Hcl</td>\n",
       "      <td>13</td>\n",
       "      <td>13.8</td>\n",
       "      <td>399</td>\n",
       "      <td>135.38</td>\n",
       "      <td>NaN</td>\n",
       "      <td>13.0</td>\n",
       "      <td>13.8</td>\n",
       "      <td>135.38</td>\n",
       "      <td>399.0</td>\n",
       "      <td>NaN</td>\n",
       "    </tr>\n",
       "    <tr>\n",
       "      <th>1</th>\n",
       "      <td>1003000126</td>\n",
       "      <td>Bethesda</td>\n",
       "      <td>MD</td>\n",
       "      <td>Internal Medicine</td>\n",
       "      <td>Amlodipine Besylate</td>\n",
       "      <td>Amlodipine Besylate</td>\n",
       "      <td>13</td>\n",
       "      <td>19.0</td>\n",
       "      <td>570</td>\n",
       "      <td>42.47</td>\n",
       "      <td>NaN</td>\n",
       "      <td>NaN</td>\n",
       "      <td>NaN</td>\n",
       "      <td>NaN</td>\n",
       "      <td>NaN</td>\n",
       "      <td>NaN</td>\n",
       "    </tr>\n",
       "    <tr>\n",
       "      <th>2</th>\n",
       "      <td>1003000126</td>\n",
       "      <td>Bethesda</td>\n",
       "      <td>MD</td>\n",
       "      <td>Internal Medicine</td>\n",
       "      <td>Bumetanide</td>\n",
       "      <td>Bumetanide</td>\n",
       "      <td>16</td>\n",
       "      <td>18.0</td>\n",
       "      <td>540</td>\n",
       "      <td>494.38</td>\n",
       "      <td>NaN</td>\n",
       "      <td>16.0</td>\n",
       "      <td>18.0</td>\n",
       "      <td>494.38</td>\n",
       "      <td>540.0</td>\n",
       "      <td>NaN</td>\n",
       "    </tr>\n",
       "    <tr>\n",
       "      <th>3</th>\n",
       "      <td>1003000126</td>\n",
       "      <td>Bethesda</td>\n",
       "      <td>MD</td>\n",
       "      <td>Internal Medicine</td>\n",
       "      <td>Eliquis</td>\n",
       "      <td>Apixaban</td>\n",
       "      <td>11</td>\n",
       "      <td>12.0</td>\n",
       "      <td>323</td>\n",
       "      <td>4792.85</td>\n",
       "      <td>NaN</td>\n",
       "      <td>NaN</td>\n",
       "      <td>NaN</td>\n",
       "      <td>NaN</td>\n",
       "      <td>NaN</td>\n",
       "      <td>NaN</td>\n",
       "    </tr>\n",
       "    <tr>\n",
       "      <th>4</th>\n",
       "      <td>1003000126</td>\n",
       "      <td>Bethesda</td>\n",
       "      <td>MD</td>\n",
       "      <td>Internal Medicine</td>\n",
       "      <td>Hydralazine Hcl</td>\n",
       "      <td>Hydralazine Hcl</td>\n",
       "      <td>16</td>\n",
       "      <td>18.0</td>\n",
       "      <td>523</td>\n",
       "      <td>162.09</td>\n",
       "      <td>NaN</td>\n",
       "      <td>NaN</td>\n",
       "      <td>NaN</td>\n",
       "      <td>NaN</td>\n",
       "      <td>NaN</td>\n",
       "      <td>NaN</td>\n",
       "    </tr>\n",
       "    <tr>\n",
       "      <th>...</th>\n",
       "      <td>...</td>\n",
       "      <td>...</td>\n",
       "      <td>...</td>\n",
       "      <td>...</td>\n",
       "      <td>...</td>\n",
       "      <td>...</td>\n",
       "      <td>...</td>\n",
       "      <td>...</td>\n",
       "      <td>...</td>\n",
       "      <td>...</td>\n",
       "      <td>...</td>\n",
       "      <td>...</td>\n",
       "      <td>...</td>\n",
       "      <td>...</td>\n",
       "      <td>...</td>\n",
       "      <td>...</td>\n",
       "    </tr>\n",
       "    <tr>\n",
       "      <th>25209716</th>\n",
       "      <td>1992999650</td>\n",
       "      <td>Boston</td>\n",
       "      <td>MA</td>\n",
       "      <td>Dentist</td>\n",
       "      <td>Chlorhexidine Gluconate</td>\n",
       "      <td>Chlorhexidine Gluconate</td>\n",
       "      <td>39</td>\n",
       "      <td>40.2</td>\n",
       "      <td>798</td>\n",
       "      <td>200.68</td>\n",
       "      <td>17.0</td>\n",
       "      <td>39.0</td>\n",
       "      <td>40.2</td>\n",
       "      <td>200.68</td>\n",
       "      <td>798.0</td>\n",
       "      <td>17.0</td>\n",
       "    </tr>\n",
       "    <tr>\n",
       "      <th>25209724</th>\n",
       "      <td>1992999874</td>\n",
       "      <td>Richmond</td>\n",
       "      <td>VA</td>\n",
       "      <td>Internal Medicine</td>\n",
       "      <td>Escitalopram Oxalate</td>\n",
       "      <td>Escitalopram Oxalate</td>\n",
       "      <td>15</td>\n",
       "      <td>15.0</td>\n",
       "      <td>451</td>\n",
       "      <td>217.30</td>\n",
       "      <td>NaN</td>\n",
       "      <td>NaN</td>\n",
       "      <td>NaN</td>\n",
       "      <td>NaN</td>\n",
       "      <td>NaN</td>\n",
       "      <td>NaN</td>\n",
       "    </tr>\n",
       "    <tr>\n",
       "      <th>25209726</th>\n",
       "      <td>1992999874</td>\n",
       "      <td>Richmond</td>\n",
       "      <td>VA</td>\n",
       "      <td>Internal Medicine</td>\n",
       "      <td>Lantus Solostar</td>\n",
       "      <td>Insulin Glargine,hum.Rec.Anlog</td>\n",
       "      <td>13</td>\n",
       "      <td>13.7</td>\n",
       "      <td>388</td>\n",
       "      <td>2001.88</td>\n",
       "      <td>NaN</td>\n",
       "      <td>NaN</td>\n",
       "      <td>NaN</td>\n",
       "      <td>NaN</td>\n",
       "      <td>NaN</td>\n",
       "      <td>NaN</td>\n",
       "    </tr>\n",
       "    <tr>\n",
       "      <th>25209727</th>\n",
       "      <td>1992999874</td>\n",
       "      <td>Richmond</td>\n",
       "      <td>VA</td>\n",
       "      <td>Internal Medicine</td>\n",
       "      <td>Metoprolol Succinate</td>\n",
       "      <td>Metoprolol Succinate</td>\n",
       "      <td>14</td>\n",
       "      <td>14.0</td>\n",
       "      <td>420</td>\n",
       "      <td>222.03</td>\n",
       "      <td>NaN</td>\n",
       "      <td>14.0</td>\n",
       "      <td>14.0</td>\n",
       "      <td>222.03</td>\n",
       "      <td>420.0</td>\n",
       "      <td>NaN</td>\n",
       "    </tr>\n",
       "    <tr>\n",
       "      <th>25209728</th>\n",
       "      <td>1992999874</td>\n",
       "      <td>Richmond</td>\n",
       "      <td>VA</td>\n",
       "      <td>Internal Medicine</td>\n",
       "      <td>Prednisone</td>\n",
       "      <td>Prednisone</td>\n",
       "      <td>14</td>\n",
       "      <td>14.0</td>\n",
       "      <td>184</td>\n",
       "      <td>140.83</td>\n",
       "      <td>12.0</td>\n",
       "      <td>NaN</td>\n",
       "      <td>NaN</td>\n",
       "      <td>NaN</td>\n",
       "      <td>NaN</td>\n",
       "      <td>NaN</td>\n",
       "    </tr>\n",
       "  </tbody>\n",
       "</table>\n",
       "<p>12316343 rows × 16 columns</p>\n",
       "</div>"
      ],
      "text/plain": [
       "          Prscrbr_NPI Prscrbr_City Prscrbr_State_Abrvtn       Prscrbr_Type  \\\n",
       "0          1003000126     Bethesda                   MD  Internal Medicine   \n",
       "1          1003000126     Bethesda                   MD  Internal Medicine   \n",
       "2          1003000126     Bethesda                   MD  Internal Medicine   \n",
       "3          1003000126     Bethesda                   MD  Internal Medicine   \n",
       "4          1003000126     Bethesda                   MD  Internal Medicine   \n",
       "...               ...          ...                  ...                ...   \n",
       "25209716   1992999650       Boston                   MA            Dentist   \n",
       "25209724   1992999874     Richmond                   VA  Internal Medicine   \n",
       "25209726   1992999874     Richmond                   VA  Internal Medicine   \n",
       "25209727   1992999874     Richmond                   VA  Internal Medicine   \n",
       "25209728   1992999874     Richmond                   VA  Internal Medicine   \n",
       "\n",
       "                        Brnd_Name                       Gnrc_Name  Tot_Clms  \\\n",
       "0                  Amiodarone Hcl                  Amiodarone Hcl        13   \n",
       "1             Amlodipine Besylate             Amlodipine Besylate        13   \n",
       "2                      Bumetanide                      Bumetanide        16   \n",
       "3                         Eliquis                        Apixaban        11   \n",
       "4                 Hydralazine Hcl                 Hydralazine Hcl        16   \n",
       "...                           ...                             ...       ...   \n",
       "25209716  Chlorhexidine Gluconate         Chlorhexidine Gluconate        39   \n",
       "25209724     Escitalopram Oxalate            Escitalopram Oxalate        15   \n",
       "25209726          Lantus Solostar  Insulin Glargine,hum.Rec.Anlog        13   \n",
       "25209727     Metoprolol Succinate            Metoprolol Succinate        14   \n",
       "25209728               Prednisone                      Prednisone        14   \n",
       "\n",
       "          Tot_30day_Fills  Tot_Day_Suply  Tot_Drug_Cst  Tot_Benes  \\\n",
       "0                    13.8            399        135.38        NaN   \n",
       "1                    19.0            570         42.47        NaN   \n",
       "2                    18.0            540        494.38        NaN   \n",
       "3                    12.0            323       4792.85        NaN   \n",
       "4                    18.0            523        162.09        NaN   \n",
       "...                   ...            ...           ...        ...   \n",
       "25209716             40.2            798        200.68       17.0   \n",
       "25209724             15.0            451        217.30        NaN   \n",
       "25209726             13.7            388       2001.88        NaN   \n",
       "25209727             14.0            420        222.03        NaN   \n",
       "25209728             14.0            184        140.83       12.0   \n",
       "\n",
       "          GE65_Tot_Clms  GE65_Tot_30day_Fills  GE65_Tot_Drug_Cst  \\\n",
       "0                  13.0                  13.8             135.38   \n",
       "1                   NaN                   NaN                NaN   \n",
       "2                  16.0                  18.0             494.38   \n",
       "3                   NaN                   NaN                NaN   \n",
       "4                   NaN                   NaN                NaN   \n",
       "...                 ...                   ...                ...   \n",
       "25209716           39.0                  40.2             200.68   \n",
       "25209724            NaN                   NaN                NaN   \n",
       "25209726            NaN                   NaN                NaN   \n",
       "25209727           14.0                  14.0             222.03   \n",
       "25209728            NaN                   NaN                NaN   \n",
       "\n",
       "          GE65_Tot_Day_Suply  GE65_Tot_Benes  \n",
       "0                      399.0             NaN  \n",
       "1                        NaN             NaN  \n",
       "2                      540.0             NaN  \n",
       "3                        NaN             NaN  \n",
       "4                        NaN             NaN  \n",
       "...                      ...             ...  \n",
       "25209716               798.0            17.0  \n",
       "25209724                 NaN             NaN  \n",
       "25209726                 NaN             NaN  \n",
       "25209727               420.0             NaN  \n",
       "25209728                 NaN             NaN  \n",
       "\n",
       "[12316343 rows x 16 columns]"
      ]
     },
     "execution_count": 145,
     "metadata": {},
     "output_type": "execute_result"
    }
   ],
   "source": [
    "df2"
   ]
  },
  {
   "cell_type": "code",
   "execution_count": 62,
   "metadata": {},
   "outputs": [
    {
     "data": {
      "text/plain": [
       "749"
      ]
     },
     "execution_count": 62,
     "metadata": {},
     "output_type": "execute_result"
    }
   ],
   "source": [
    "list1 = df2[df2[\"Prscrbr_Type\"] == \"Endocrinology\"][\"Gnrc_Name\"]\n",
    "list1 = list1.unique()\n",
    "len(list1)"
   ]
  },
  {
   "cell_type": "code",
   "execution_count": 63,
   "metadata": {},
   "outputs": [
    {
     "data": {
      "text/plain": [
       "884"
      ]
     },
     "execution_count": 63,
     "metadata": {},
     "output_type": "execute_result"
    }
   ],
   "source": [
    "list2 = df2[df2[\"Prscrbr_Type\"] == \"Pulmonary Disease\"][\"Gnrc_Name\"]\n",
    "list2 = list2.unique()\n",
    "len(list2)"
   ]
  },
  {
   "cell_type": "code",
   "execution_count": 64,
   "metadata": {},
   "outputs": [],
   "source": [
    "def intersection(lst1, lst2):\n",
    "    lst3 = [value for value in lst1 if value in lst2]\n",
    "    return lst3"
   ]
  },
  {
   "cell_type": "code",
   "execution_count": 65,
   "metadata": {},
   "outputs": [
    {
     "data": {
      "text/plain": [
       "624"
      ]
     },
     "execution_count": 65,
     "metadata": {},
     "output_type": "execute_result"
    }
   ],
   "source": [
    "len(intersection(list1, list2))"
   ]
  },
  {
   "cell_type": "markdown",
   "metadata": {},
   "source": [
    "##### City and State of the Provdider"
   ]
  },
  {
   "cell_type": "code",
   "execution_count": null,
   "metadata": {},
   "outputs": [],
   "source": [
    "uniqueStates = df2.Prscrbr_State_Abrvtn.unique()\n",
    "\n",
    "print(f'Number of unique states: {len(uniqueStates)}')"
   ]
  },
  {
   "cell_type": "code",
   "execution_count": null,
   "metadata": {},
   "outputs": [],
   "source": [
    "print(uniqueStates)"
   ]
  },
  {
   "cell_type": "markdown",
   "metadata": {},
   "source": [
    "#### Visualizing Features vs Target Variable"
   ]
  },
  {
   "cell_type": "markdown",
   "metadata": {},
   "source": [
    "##### Average Total Claims by Specialty"
   ]
  },
  {
   "cell_type": "code",
   "execution_count": null,
   "metadata": {},
   "outputs": [],
   "source": [
    "AvgTotClaimsbySpec = pd.DataFrame(df2.groupby('Prscrbr_Type')['Tot_Clms'].mean())\n",
    "#DrugCostbySpec.reset_index(inplace=True)\n",
    "AvgTotClaimsbySpec.columns = ['Mean Total Claims']\n",
    "AvgTotClaimsbySpec = AvgTotClaimsbySpec.sort_values(by=['Mean Total Claims'], ascending=False)\n",
    "\n",
    "plt.figure(figsize=(5,10))\n",
    "AvgTotClaimsbySpec.sort_values(by = ['Mean Total Claims'], ascending=True).plot.barh()\n",
    "plt.xlabel('Count')\n",
    "plt.ylabel('Provider Specialty Type')\n",
    "plt.title('Mean Total Claims by Specialty',fontweight='bold')\n",
    "plt.show()"
   ]
  },
  {
   "cell_type": "markdown",
   "metadata": {},
   "source": [
    "##### Total Claims per Specialty"
   ]
  },
  {
   "cell_type": "code",
   "execution_count": null,
   "metadata": {},
   "outputs": [],
   "source": [
    "TotClaimsbySpec = pd.DataFrame(df2.groupby('Prscrbr_Type')['Tot_Clms'].sum())\n",
    "#DrugCostbySpec.reset_index(inplace=True)\n",
    "TotClaimsbySpec.columns = ['Total Claims']\n",
    "TotClaimsbySpec = TotClaimsbySpec.sort_values(by=['Total Claims'], ascending=False)\n",
    "\n",
    "plt.figure(figsize=(5,10))\n",
    "TotClaimsbySpec.sort_values(by = ['Total Claims'], ascending=True).plot.barh()\n",
    "plt.xlabel('Count')\n",
    "plt.ylabel('Provider Specialty Type')\n",
    "plt.title('Total Claims by Specialty',fontweight='bold')\n",
    "plt.show()"
   ]
  },
  {
   "cell_type": "markdown",
   "metadata": {},
   "source": [
    "##### Average Aggregate Drug Cost for All Claims by Specialty"
   ]
  },
  {
   "cell_type": "code",
   "execution_count": null,
   "metadata": {},
   "outputs": [],
   "source": [
    "DrugCostbySpec = pd.DataFrame(df2.groupby('Prscrbr_Type')['Tot_Drug_Cst'].mean())\n",
    "#DrugCostbySpec.reset_index(inplace=True)\n",
    "DrugCostbySpec.columns = ['Mean Aggregate Drug Cost']\n",
    "DrugCostbySpec = DrugCostbySpec.sort_values(by=['Mean Aggregate Drug Cost'], ascending=False)\n",
    "\n",
    "plt.figure(figsize=(5,10))\n",
    "DrugCostbySpec.sort_values(by = ['Mean Aggregate Drug Cost'], ascending=True).plot.barh()\n",
    "plt.xlabel('Cost [$]')\n",
    "plt.ylabel('Provider Specialty Type')\n",
    "plt.title('Average Aggregate Drug Cost for All Claims by Specialty',fontweight='bold')\n",
    "plt.show()"
   ]
  },
  {
   "cell_type": "markdown",
   "metadata": {},
   "source": [
    "##### "
   ]
  },
  {
   "cell_type": "markdown",
   "metadata": {},
   "source": [
    "## II. Splitting Data into Train, Validation, and Test Sets"
   ]
  },
  {
   "cell_type": "markdown",
   "metadata": {},
   "source": [
    "**- Since multiple rows can fall under the same NPI, Stratified Group KFold will be used on the data to split by NPI.**"
   ]
  },
  {
   "cell_type": "markdown",
   "metadata": {},
   "source": [
    "##### Check Dataset Dimensions Before Splitting"
   ]
  },
  {
   "cell_type": "code",
   "execution_count": 185,
   "metadata": {},
   "outputs": [
    {
     "name": "stdout",
     "output_type": "stream",
     "text": [
      "Rows: 13818419\n",
      "Columns: 16\n"
     ]
    }
   ],
   "source": [
    "rows, columns = df2.shape\n",
    "\n",
    "print(f'Rows: {rows}')\n",
    "print(f'Columns: {columns}')"
   ]
  },
  {
   "cell_type": "markdown",
   "metadata": {},
   "source": [
    "##### Separate Feature and Target Variables"
   ]
  },
  {
   "cell_type": "code",
   "execution_count": 12,
   "metadata": {},
   "outputs": [
    {
     "name": "stdout",
     "output_type": "stream",
     "text": [
      "Number of features: 14\n"
     ]
    }
   ],
   "source": [
    "X = df2.drop(['Prscrbr_Type', 'Prscrbr_NPI'], axis=1)\n",
    "\n",
    "y = df2.Prscrbr_Type\n",
    "\n",
    "groups = df2.Prscrbr_NPI\n",
    "\n",
    "print(f'Number of features: {X.shape[1]}')"
   ]
  },
  {
   "cell_type": "code",
   "execution_count": 38,
   "metadata": {},
   "outputs": [],
   "source": [
    "#del df2 #Save memory"
   ]
  },
  {
   "cell_type": "markdown",
   "metadata": {},
   "source": [
    "##### Store Feature Weights in a DataFrame"
   ]
  },
  {
   "cell_type": "code",
   "execution_count": 13,
   "metadata": {},
   "outputs": [],
   "source": [
    "classes, counts = np.unique(y,return_counts=True)\n",
    "balance_df = pd.DataFrame({'Classes':classes, 'counts':counts})\n",
    "balance_df[\"Raw Data\"] = (balance_df[\"counts\"]/len(y))*100\n",
    "balance_df = balance_df.drop([\"counts\"], axis=1)\n",
    "\n",
    "balance_df = balance_df.T\n",
    "\n",
    "balance_df = balance_df.rename(columns=balance_df.iloc[0])\n",
    "balance_df = balance_df.iloc[1: , :]\n",
    "balance_df = balance_df.T\n",
    "balance_df = balance_df[balance_df.columns].astype(float)"
   ]
  },
  {
   "cell_type": "code",
   "execution_count": 14,
   "metadata": {},
   "outputs": [
    {
     "data": {
      "image/png": "[encoded data removed]",
      "text/plain": [
       "<Figure size 200x800 with 2 Axes>"
      ]
     },
     "metadata": {},
     "output_type": "display_data"
    }
   ],
   "source": [
    "plt.figure(figsize=(2,8))\n",
    "\n",
    "sns.heatmap((balance_df/100),linewidth=0.5,cmap=\"coolwarm\",vmin=0, vmax=1,annot=True,fmt=\".2\", cbar_kws={\"shrink\": .82})\n",
    "plt.yticks(rotation=0)\n",
    "plt.ylabel(\"Classes\")\n",
    "plt.title(\"Fraction of Classes in the Raw Data\",fontweight='bold', fontsize=16)\n",
    "#plt.savefig('Figure 19 - Fraction of Classes in the Raw Data (New).png', dpi=1200,bbox_inches=\"tight\")\n",
    "\n",
    "plt.show()"
   ]
  },
  {
   "cell_type": "code",
   "execution_count": 76,
   "metadata": {},
   "outputs": [
    {
     "data": {
      "text/html": [
       "<div>\n",
       "<style scoped>\n",
       "    .dataframe tbody tr th:only-of-type {\n",
       "        vertical-align: middle;\n",
       "    }\n",
       "\n",
       "    .dataframe tbody tr th {\n",
       "        vertical-align: top;\n",
       "    }\n",
       "\n",
       "    .dataframe thead th {\n",
       "        text-align: right;\n",
       "    }\n",
       "</style>\n",
       "<table border=\"1\" class=\"dataframe\">\n",
       "  <thead>\n",
       "    <tr style=\"text-align: right;\">\n",
       "      <th></th>\n",
       "      <th>Prscrbr_NPI</th>\n",
       "      <th>Prscrbr_City</th>\n",
       "      <th>Prscrbr_State_Abrvtn</th>\n",
       "      <th>Prscrbr_Type</th>\n",
       "      <th>Brnd_Name</th>\n",
       "      <th>Gnrc_Name</th>\n",
       "      <th>Tot_Clms</th>\n",
       "      <th>Tot_30day_Fills</th>\n",
       "      <th>Tot_Day_Suply</th>\n",
       "      <th>Tot_Drug_Cst</th>\n",
       "      <th>Tot_Benes</th>\n",
       "      <th>GE65_Tot_Clms</th>\n",
       "      <th>GE65_Tot_30day_Fills</th>\n",
       "      <th>GE65_Tot_Drug_Cst</th>\n",
       "      <th>GE65_Tot_Day_Suply</th>\n",
       "      <th>GE65_Tot_Benes</th>\n",
       "    </tr>\n",
       "  </thead>\n",
       "  <tbody>\n",
       "    <tr>\n",
       "      <th>536</th>\n",
       "      <td>1003002049</td>\n",
       "      <td>Fremont</td>\n",
       "      <td>CA</td>\n",
       "      <td>Endocrinology</td>\n",
       "      <td>Alendronate Sodium</td>\n",
       "      <td>Alendronate Sodium</td>\n",
       "      <td>30</td>\n",
       "      <td>84.0</td>\n",
       "      <td>2520</td>\n",
       "      <td>390.91</td>\n",
       "      <td>NaN</td>\n",
       "      <td>30.0</td>\n",
       "      <td>84.0</td>\n",
       "      <td>390.91</td>\n",
       "      <td>2520.0</td>\n",
       "      <td>NaN</td>\n",
       "    </tr>\n",
       "    <tr>\n",
       "      <th>537</th>\n",
       "      <td>1003002049</td>\n",
       "      <td>Fremont</td>\n",
       "      <td>CA</td>\n",
       "      <td>Endocrinology</td>\n",
       "      <td>Amlodipine Besylate</td>\n",
       "      <td>Amlodipine Besylate</td>\n",
       "      <td>29</td>\n",
       "      <td>87.0</td>\n",
       "      <td>2610</td>\n",
       "      <td>274.21</td>\n",
       "      <td>NaN</td>\n",
       "      <td>29.0</td>\n",
       "      <td>87.0</td>\n",
       "      <td>274.21</td>\n",
       "      <td>2610.0</td>\n",
       "      <td>NaN</td>\n",
       "    </tr>\n",
       "    <tr>\n",
       "      <th>538</th>\n",
       "      <td>1003002049</td>\n",
       "      <td>Fremont</td>\n",
       "      <td>CA</td>\n",
       "      <td>Endocrinology</td>\n",
       "      <td>Atorvastatin Calcium</td>\n",
       "      <td>Atorvastatin Calcium</td>\n",
       "      <td>31</td>\n",
       "      <td>69.2</td>\n",
       "      <td>2075</td>\n",
       "      <td>326.25</td>\n",
       "      <td>11.0</td>\n",
       "      <td>17.0</td>\n",
       "      <td>51.0</td>\n",
       "      <td>198.21</td>\n",
       "      <td>1530.0</td>\n",
       "      <td>NaN</td>\n",
       "    </tr>\n",
       "    <tr>\n",
       "      <th>539</th>\n",
       "      <td>1003002049</td>\n",
       "      <td>Fremont</td>\n",
       "      <td>CA</td>\n",
       "      <td>Endocrinology</td>\n",
       "      <td>Basaglar Kwikpen U-100</td>\n",
       "      <td>Insulin Glargine,hum.Rec.Anlog</td>\n",
       "      <td>17</td>\n",
       "      <td>32.5</td>\n",
       "      <td>955</td>\n",
       "      <td>12237.32</td>\n",
       "      <td>NaN</td>\n",
       "      <td>NaN</td>\n",
       "      <td>NaN</td>\n",
       "      <td>NaN</td>\n",
       "      <td>NaN</td>\n",
       "      <td>NaN</td>\n",
       "    </tr>\n",
       "    <tr>\n",
       "      <th>540</th>\n",
       "      <td>1003002049</td>\n",
       "      <td>Fremont</td>\n",
       "      <td>CA</td>\n",
       "      <td>Endocrinology</td>\n",
       "      <td>Ezetimibe-Simvastatin</td>\n",
       "      <td>Ezetimibe/Simvastatin</td>\n",
       "      <td>12</td>\n",
       "      <td>12.0</td>\n",
       "      <td>360</td>\n",
       "      <td>1589.53</td>\n",
       "      <td>NaN</td>\n",
       "      <td>12.0</td>\n",
       "      <td>12.0</td>\n",
       "      <td>1589.53</td>\n",
       "      <td>360.0</td>\n",
       "      <td>NaN</td>\n",
       "    </tr>\n",
       "    <tr>\n",
       "      <th>...</th>\n",
       "      <td>...</td>\n",
       "      <td>...</td>\n",
       "      <td>...</td>\n",
       "      <td>...</td>\n",
       "      <td>...</td>\n",
       "      <td>...</td>\n",
       "      <td>...</td>\n",
       "      <td>...</td>\n",
       "      <td>...</td>\n",
       "      <td>...</td>\n",
       "      <td>...</td>\n",
       "      <td>...</td>\n",
       "      <td>...</td>\n",
       "      <td>...</td>\n",
       "      <td>...</td>\n",
       "      <td>...</td>\n",
       "    </tr>\n",
       "    <tr>\n",
       "      <th>25209024</th>\n",
       "      <td>1992997332</td>\n",
       "      <td>Seattle</td>\n",
       "      <td>WA</td>\n",
       "      <td>Endocrinology</td>\n",
       "      <td>Levothyroxine Sodium</td>\n",
       "      <td>Levothyroxine Sodium</td>\n",
       "      <td>205</td>\n",
       "      <td>596.0</td>\n",
       "      <td>17862</td>\n",
       "      <td>7416.84</td>\n",
       "      <td>66.0</td>\n",
       "      <td>170.0</td>\n",
       "      <td>493.0</td>\n",
       "      <td>5903.48</td>\n",
       "      <td>14772.0</td>\n",
       "      <td>NaN</td>\n",
       "    </tr>\n",
       "    <tr>\n",
       "      <th>25209025</th>\n",
       "      <td>1992997332</td>\n",
       "      <td>Seattle</td>\n",
       "      <td>WA</td>\n",
       "      <td>Endocrinology</td>\n",
       "      <td>Liothyronine Sodium</td>\n",
       "      <td>Liothyronine Sodium</td>\n",
       "      <td>12</td>\n",
       "      <td>28.2</td>\n",
       "      <td>831</td>\n",
       "      <td>515.62</td>\n",
       "      <td>NaN</td>\n",
       "      <td>12.0</td>\n",
       "      <td>28.2</td>\n",
       "      <td>515.62</td>\n",
       "      <td>831.0</td>\n",
       "      <td>NaN</td>\n",
       "    </tr>\n",
       "    <tr>\n",
       "      <th>25209026</th>\n",
       "      <td>1992997332</td>\n",
       "      <td>Seattle</td>\n",
       "      <td>WA</td>\n",
       "      <td>Endocrinology</td>\n",
       "      <td>Methimazole</td>\n",
       "      <td>Methimazole</td>\n",
       "      <td>17</td>\n",
       "      <td>47.5</td>\n",
       "      <td>1425</td>\n",
       "      <td>356.65</td>\n",
       "      <td>NaN</td>\n",
       "      <td>NaN</td>\n",
       "      <td>NaN</td>\n",
       "      <td>NaN</td>\n",
       "      <td>NaN</td>\n",
       "      <td>NaN</td>\n",
       "    </tr>\n",
       "    <tr>\n",
       "      <th>25209027</th>\n",
       "      <td>1992997332</td>\n",
       "      <td>Seattle</td>\n",
       "      <td>WA</td>\n",
       "      <td>Endocrinology</td>\n",
       "      <td>Synthroid</td>\n",
       "      <td>Levothyroxine Sodium</td>\n",
       "      <td>31</td>\n",
       "      <td>89.0</td>\n",
       "      <td>2666</td>\n",
       "      <td>3060.63</td>\n",
       "      <td>NaN</td>\n",
       "      <td>20.0</td>\n",
       "      <td>58.0</td>\n",
       "      <td>1828.26</td>\n",
       "      <td>1738.0</td>\n",
       "      <td>NaN</td>\n",
       "    </tr>\n",
       "    <tr>\n",
       "      <th>25209199</th>\n",
       "      <td>1992998207</td>\n",
       "      <td>Venice</td>\n",
       "      <td>FL</td>\n",
       "      <td>Ophthalmology</td>\n",
       "      <td>Prednisolone Acetate</td>\n",
       "      <td>Prednisolone Acetate</td>\n",
       "      <td>48</td>\n",
       "      <td>53.0</td>\n",
       "      <td>1255</td>\n",
       "      <td>2357.03</td>\n",
       "      <td>22.0</td>\n",
       "      <td>NaN</td>\n",
       "      <td>NaN</td>\n",
       "      <td>NaN</td>\n",
       "      <td>NaN</td>\n",
       "      <td>NaN</td>\n",
       "    </tr>\n",
       "  </tbody>\n",
       "</table>\n",
       "<p>806338 rows × 16 columns</p>\n",
       "</div>"
      ],
      "text/plain": [
       "          Prscrbr_NPI Prscrbr_City Prscrbr_State_Abrvtn   Prscrbr_Type  \\\n",
       "536        1003002049      Fremont                   CA  Endocrinology   \n",
       "537        1003002049      Fremont                   CA  Endocrinology   \n",
       "538        1003002049      Fremont                   CA  Endocrinology   \n",
       "539        1003002049      Fremont                   CA  Endocrinology   \n",
       "540        1003002049      Fremont                   CA  Endocrinology   \n",
       "...               ...          ...                  ...            ...   \n",
       "25209024   1992997332      Seattle                   WA  Endocrinology   \n",
       "25209025   1992997332      Seattle                   WA  Endocrinology   \n",
       "25209026   1992997332      Seattle                   WA  Endocrinology   \n",
       "25209027   1992997332      Seattle                   WA  Endocrinology   \n",
       "25209199   1992998207       Venice                   FL  Ophthalmology   \n",
       "\n",
       "                       Brnd_Name                       Gnrc_Name  Tot_Clms  \\\n",
       "536           Alendronate Sodium              Alendronate Sodium        30   \n",
       "537          Amlodipine Besylate             Amlodipine Besylate        29   \n",
       "538         Atorvastatin Calcium            Atorvastatin Calcium        31   \n",
       "539       Basaglar Kwikpen U-100  Insulin Glargine,hum.Rec.Anlog        17   \n",
       "540        Ezetimibe-Simvastatin           Ezetimibe/Simvastatin        12   \n",
       "...                          ...                             ...       ...   \n",
       "25209024    Levothyroxine Sodium            Levothyroxine Sodium       205   \n",
       "25209025     Liothyronine Sodium             Liothyronine Sodium        12   \n",
       "25209026             Methimazole                     Methimazole        17   \n",
       "25209027               Synthroid            Levothyroxine Sodium        31   \n",
       "25209199    Prednisolone Acetate            Prednisolone Acetate        48   \n",
       "\n",
       "          Tot_30day_Fills  Tot_Day_Suply  Tot_Drug_Cst  Tot_Benes  \\\n",
       "536                  84.0           2520        390.91        NaN   \n",
       "537                  87.0           2610        274.21        NaN   \n",
       "538                  69.2           2075        326.25       11.0   \n",
       "539                  32.5            955      12237.32        NaN   \n",
       "540                  12.0            360       1589.53        NaN   \n",
       "...                   ...            ...           ...        ...   \n",
       "25209024            596.0          17862       7416.84       66.0   \n",
       "25209025             28.2            831        515.62        NaN   \n",
       "25209026             47.5           1425        356.65        NaN   \n",
       "25209027             89.0           2666       3060.63        NaN   \n",
       "25209199             53.0           1255       2357.03       22.0   \n",
       "\n",
       "          GE65_Tot_Clms  GE65_Tot_30day_Fills  GE65_Tot_Drug_Cst  \\\n",
       "536                30.0                  84.0             390.91   \n",
       "537                29.0                  87.0             274.21   \n",
       "538                17.0                  51.0             198.21   \n",
       "539                 NaN                   NaN                NaN   \n",
       "540                12.0                  12.0            1589.53   \n",
       "...                 ...                   ...                ...   \n",
       "25209024          170.0                 493.0            5903.48   \n",
       "25209025           12.0                  28.2             515.62   \n",
       "25209026            NaN                   NaN                NaN   \n",
       "25209027           20.0                  58.0            1828.26   \n",
       "25209199            NaN                   NaN                NaN   \n",
       "\n",
       "          GE65_Tot_Day_Suply  GE65_Tot_Benes  \n",
       "536                   2520.0             NaN  \n",
       "537                   2610.0             NaN  \n",
       "538                   1530.0             NaN  \n",
       "539                      NaN             NaN  \n",
       "540                    360.0             NaN  \n",
       "...                      ...             ...  \n",
       "25209024             14772.0             NaN  \n",
       "25209025               831.0             NaN  \n",
       "25209026                 NaN             NaN  \n",
       "25209027              1738.0             NaN  \n",
       "25209199                 NaN             NaN  \n",
       "\n",
       "[806338 rows x 16 columns]"
      ]
     },
     "execution_count": 76,
     "metadata": {},
     "output_type": "execute_result"
    }
   ],
   "source": [
    "df3 = df2[(df2['Prscrbr_Type'] == 'Nephrology') | (df2['Prscrbr_Type'] == 'Endocrinology') | \n",
    "          (df2['Prscrbr_Type'] == 'Ophthalmology')]\n",
    "df3"
   ]
  },
  {
   "cell_type": "code",
   "execution_count": 77,
   "metadata": {},
   "outputs": [
    {
     "name": "stdout",
     "output_type": "stream",
     "text": [
      "Number of features: 14\n"
     ]
    },
    {
     "data": {
      "image/png": "[encoded data removed]",
      "text/plain": [
       "<Figure size 200x800 with 2 Axes>"
      ]
     },
     "metadata": {},
     "output_type": "display_data"
    }
   ],
   "source": [
    "X = df3.drop(['Prscrbr_Type', 'Prscrbr_NPI'], axis=1)\n",
    "\n",
    "y = df3.Prscrbr_Type\n",
    "\n",
    "groups = df3.Prscrbr_NPI\n",
    "\n",
    "print(f'Number of features: {X.shape[1]}')\n",
    "\n",
    "classes, counts = np.unique(y,return_counts=True)\n",
    "balance_df = pd.DataFrame({'Classes':classes, 'counts':counts})\n",
    "balance_df[\"Raw Data\"] = (balance_df[\"counts\"]/len(y))*100\n",
    "balance_df = balance_df.drop([\"counts\"], axis=1)\n",
    "\n",
    "balance_df = balance_df.T\n",
    "\n",
    "balance_df = balance_df.rename(columns=balance_df.iloc[0])\n",
    "balance_df = balance_df.iloc[1: , :]\n",
    "balance_df = balance_df.T\n",
    "balance_df = balance_df[balance_df.columns].astype(float)\n",
    "\n",
    "plt.figure(figsize=(2,8))\n",
    "\n",
    "sns.heatmap((balance_df/100),linewidth=0.5,cmap=\"coolwarm\",vmin=0, vmax=1,annot=True,fmt=\".2\", cbar_kws={\"shrink\": .82})\n",
    "plt.yticks(rotation=0)\n",
    "plt.ylabel(\"Classes\")\n",
    "plt.title(\"Target Balance in the 3 Selected Specialties\",fontweight='bold', fontsize=16)\n",
    "#plt.savefig('Figure 19 - Fraction of Classes in the Raw Data (New).png', dpi=1200,bbox_inches=\"tight\")\n",
    "\n",
    "plt.show()"
   ]
  },
  {
   "cell_type": "code",
   "execution_count": 68,
   "metadata": {},
   "outputs": [],
   "source": [
    "#Save X and y data as zip file\n",
    "\n",
    "os.chdir('../data')\n",
    "X.to_csv('X_4specialties_equalWeight.zip')\n",
    "y.to_csv('y_4specialties_equalWeight.zip',)\n",
    "groups.to_csv('groups_4specialties_equalWeight.zip')"
   ]
  },
  {
   "cell_type": "code",
   "execution_count": 69,
   "metadata": {},
   "outputs": [
    {
     "data": {
      "text/plain": [
       "(1042304, 14)"
      ]
     },
     "execution_count": 69,
     "metadata": {},
     "output_type": "execute_result"
    }
   ],
   "source": [
    "X.shape"
   ]
  },
  {
   "cell_type": "markdown",
   "metadata": {},
   "source": [
    "##### GroupKFold"
   ]
  },
  {
   "cell_type": "code",
   "execution_count": 86,
   "metadata": {},
   "outputs": [],
   "source": [
    "from sklearn.model_selection import GroupShuffleSplit\n",
    "\n",
    "splitter = GroupShuffleSplit(n_splits=1,test_size=0.006,random_state=42)\n",
    "\n",
    "for i_other,i_test in splitter.split(X, y, groups):\n",
    "    X_other, y_other, groups_other = X.iloc[i_other], y.iloc[i_other], groups.iloc[i_other]\n",
    "    X_test, y_test, groups_test = X.iloc[i_test], y.iloc[i_test], groups.iloc[i_test]"
   ]
  },
  {
   "cell_type": "code",
   "execution_count": 73,
   "metadata": {},
   "outputs": [
    {
     "data": {
      "text/plain": [
       "1013929918    238\n",
       "1538147319    109\n",
       "1225018856    100\n",
       "1902951304     92\n",
       "1144382664     91\n",
       "             ... \n",
       "1700887924      1\n",
       "1750349205      1\n",
       "1619903804      1\n",
       "1013245547      1\n",
       "1174534762      1\n",
       "Name: Prscrbr_NPI, Length: 211, dtype: int64"
      ]
     },
     "execution_count": 73,
     "metadata": {},
     "output_type": "execute_result"
    }
   ],
   "source": [
    "groups_test.value_counts()"
   ]
  },
  {
   "cell_type": "code",
   "execution_count": 87,
   "metadata": {},
   "outputs": [
    {
     "data": {
      "text/html": [
       "<div>\n",
       "<style scoped>\n",
       "    .dataframe tbody tr th:only-of-type {\n",
       "        vertical-align: middle;\n",
       "    }\n",
       "\n",
       "    .dataframe tbody tr th {\n",
       "        vertical-align: top;\n",
       "    }\n",
       "\n",
       "    .dataframe thead th {\n",
       "        text-align: right;\n",
       "    }\n",
       "</style>\n",
       "<table border=\"1\" class=\"dataframe\">\n",
       "  <thead>\n",
       "    <tr style=\"text-align: right;\">\n",
       "      <th></th>\n",
       "      <th>Prscrbr_City</th>\n",
       "      <th>Prscrbr_State_Abrvtn</th>\n",
       "      <th>Brnd_Name</th>\n",
       "      <th>Gnrc_Name</th>\n",
       "      <th>Tot_Clms</th>\n",
       "      <th>Tot_30day_Fills</th>\n",
       "      <th>Tot_Day_Suply</th>\n",
       "      <th>Tot_Drug_Cst</th>\n",
       "      <th>Tot_Benes</th>\n",
       "      <th>GE65_Tot_Clms</th>\n",
       "      <th>GE65_Tot_30day_Fills</th>\n",
       "      <th>GE65_Tot_Drug_Cst</th>\n",
       "      <th>GE65_Tot_Day_Suply</th>\n",
       "      <th>GE65_Tot_Benes</th>\n",
       "    </tr>\n",
       "  </thead>\n",
       "  <tbody>\n",
       "    <tr>\n",
       "      <th>431348</th>\n",
       "      <td>Templeton</td>\n",
       "      <td>CA</td>\n",
       "      <td>Alphagan P</td>\n",
       "      <td>Brimonidine Tartrate</td>\n",
       "      <td>50</td>\n",
       "      <td>100.5</td>\n",
       "      <td>2950</td>\n",
       "      <td>18723.58</td>\n",
       "      <td>14.0</td>\n",
       "      <td>50.0</td>\n",
       "      <td>100.5</td>\n",
       "      <td>18723.58</td>\n",
       "      <td>2950.0</td>\n",
       "      <td>14.0</td>\n",
       "    </tr>\n",
       "    <tr>\n",
       "      <th>431349</th>\n",
       "      <td>Templeton</td>\n",
       "      <td>CA</td>\n",
       "      <td>Brimonidine Tartrate</td>\n",
       "      <td>Brimonidine Tartrate</td>\n",
       "      <td>15</td>\n",
       "      <td>27.0</td>\n",
       "      <td>733</td>\n",
       "      <td>1448.72</td>\n",
       "      <td>NaN</td>\n",
       "      <td>15.0</td>\n",
       "      <td>27.0</td>\n",
       "      <td>1448.72</td>\n",
       "      <td>733.0</td>\n",
       "      <td>NaN</td>\n",
       "    </tr>\n",
       "    <tr>\n",
       "      <th>431350</th>\n",
       "      <td>Templeton</td>\n",
       "      <td>CA</td>\n",
       "      <td>Dorzolamide Hcl</td>\n",
       "      <td>Dorzolamide Hcl</td>\n",
       "      <td>20</td>\n",
       "      <td>45.7</td>\n",
       "      <td>1370</td>\n",
       "      <td>609.27</td>\n",
       "      <td>NaN</td>\n",
       "      <td>20.0</td>\n",
       "      <td>45.7</td>\n",
       "      <td>609.27</td>\n",
       "      <td>1370.0</td>\n",
       "      <td>NaN</td>\n",
       "    </tr>\n",
       "    <tr>\n",
       "      <th>431351</th>\n",
       "      <td>Templeton</td>\n",
       "      <td>CA</td>\n",
       "      <td>Dorzolamide-Timolol</td>\n",
       "      <td>Dorzolamide Hcl/Timolol Maleat</td>\n",
       "      <td>15</td>\n",
       "      <td>25.3</td>\n",
       "      <td>760</td>\n",
       "      <td>1128.65</td>\n",
       "      <td>NaN</td>\n",
       "      <td>15.0</td>\n",
       "      <td>25.3</td>\n",
       "      <td>1128.65</td>\n",
       "      <td>760.0</td>\n",
       "      <td>NaN</td>\n",
       "    </tr>\n",
       "    <tr>\n",
       "      <th>431352</th>\n",
       "      <td>Templeton</td>\n",
       "      <td>CA</td>\n",
       "      <td>Doxycycline Hyclate</td>\n",
       "      <td>Doxycycline Hyclate</td>\n",
       "      <td>17</td>\n",
       "      <td>25.0</td>\n",
       "      <td>750</td>\n",
       "      <td>988.26</td>\n",
       "      <td>NaN</td>\n",
       "      <td>17.0</td>\n",
       "      <td>25.0</td>\n",
       "      <td>988.26</td>\n",
       "      <td>750.0</td>\n",
       "      <td>NaN</td>\n",
       "    </tr>\n",
       "    <tr>\n",
       "      <th>...</th>\n",
       "      <td>...</td>\n",
       "      <td>...</td>\n",
       "      <td>...</td>\n",
       "      <td>...</td>\n",
       "      <td>...</td>\n",
       "      <td>...</td>\n",
       "      <td>...</td>\n",
       "      <td>...</td>\n",
       "      <td>...</td>\n",
       "      <td>...</td>\n",
       "      <td>...</td>\n",
       "      <td>...</td>\n",
       "      <td>...</td>\n",
       "      <td>...</td>\n",
       "    </tr>\n",
       "    <tr>\n",
       "      <th>25070916</th>\n",
       "      <td>Birmingham</td>\n",
       "      <td>AL</td>\n",
       "      <td>Simbrinza</td>\n",
       "      <td>Brinzolamide/Brimonidine Tart</td>\n",
       "      <td>30</td>\n",
       "      <td>33.0</td>\n",
       "      <td>888</td>\n",
       "      <td>5804.86</td>\n",
       "      <td>NaN</td>\n",
       "      <td>19.0</td>\n",
       "      <td>22.0</td>\n",
       "      <td>3958.07</td>\n",
       "      <td>602.0</td>\n",
       "      <td>NaN</td>\n",
       "    </tr>\n",
       "    <tr>\n",
       "      <th>25070917</th>\n",
       "      <td>Birmingham</td>\n",
       "      <td>AL</td>\n",
       "      <td>Timolol Maleate</td>\n",
       "      <td>Timolol Maleate</td>\n",
       "      <td>104</td>\n",
       "      <td>178.4</td>\n",
       "      <td>5146</td>\n",
       "      <td>9311.07</td>\n",
       "      <td>29.0</td>\n",
       "      <td>NaN</td>\n",
       "      <td>NaN</td>\n",
       "      <td>NaN</td>\n",
       "      <td>NaN</td>\n",
       "      <td>NaN</td>\n",
       "    </tr>\n",
       "    <tr>\n",
       "      <th>25070918</th>\n",
       "      <td>Birmingham</td>\n",
       "      <td>AL</td>\n",
       "      <td>Travatan Z</td>\n",
       "      <td>Travoprost</td>\n",
       "      <td>31</td>\n",
       "      <td>41.9</td>\n",
       "      <td>1073</td>\n",
       "      <td>8799.13</td>\n",
       "      <td>NaN</td>\n",
       "      <td>31.0</td>\n",
       "      <td>41.9</td>\n",
       "      <td>8799.13</td>\n",
       "      <td>1073.0</td>\n",
       "      <td>NaN</td>\n",
       "    </tr>\n",
       "    <tr>\n",
       "      <th>25070919</th>\n",
       "      <td>Birmingham</td>\n",
       "      <td>AL</td>\n",
       "      <td>Travoprost</td>\n",
       "      <td>Travoprost</td>\n",
       "      <td>111</td>\n",
       "      <td>169.1</td>\n",
       "      <td>4855</td>\n",
       "      <td>24731.59</td>\n",
       "      <td>24.0</td>\n",
       "      <td>NaN</td>\n",
       "      <td>NaN</td>\n",
       "      <td>NaN</td>\n",
       "      <td>NaN</td>\n",
       "      <td>NaN</td>\n",
       "    </tr>\n",
       "    <tr>\n",
       "      <th>25070920</th>\n",
       "      <td>Birmingham</td>\n",
       "      <td>AL</td>\n",
       "      <td>Zioptan</td>\n",
       "      <td>Tafluprost/Pf</td>\n",
       "      <td>16</td>\n",
       "      <td>16.0</td>\n",
       "      <td>480</td>\n",
       "      <td>3433.26</td>\n",
       "      <td>NaN</td>\n",
       "      <td>NaN</td>\n",
       "      <td>NaN</td>\n",
       "      <td>NaN</td>\n",
       "      <td>NaN</td>\n",
       "      <td>NaN</td>\n",
       "    </tr>\n",
       "  </tbody>\n",
       "</table>\n",
       "<p>5025 rows × 14 columns</p>\n",
       "</div>"
      ],
      "text/plain": [
       "         Prscrbr_City Prscrbr_State_Abrvtn             Brnd_Name  \\\n",
       "431348      Templeton                   CA            Alphagan P   \n",
       "431349      Templeton                   CA  Brimonidine Tartrate   \n",
       "431350      Templeton                   CA       Dorzolamide Hcl   \n",
       "431351      Templeton                   CA   Dorzolamide-Timolol   \n",
       "431352      Templeton                   CA   Doxycycline Hyclate   \n",
       "...               ...                  ...                   ...   \n",
       "25070916   Birmingham                   AL             Simbrinza   \n",
       "25070917   Birmingham                   AL       Timolol Maleate   \n",
       "25070918   Birmingham                   AL            Travatan Z   \n",
       "25070919   Birmingham                   AL            Travoprost   \n",
       "25070920   Birmingham                   AL               Zioptan   \n",
       "\n",
       "                               Gnrc_Name  Tot_Clms  Tot_30day_Fills  \\\n",
       "431348              Brimonidine Tartrate        50            100.5   \n",
       "431349              Brimonidine Tartrate        15             27.0   \n",
       "431350                   Dorzolamide Hcl        20             45.7   \n",
       "431351    Dorzolamide Hcl/Timolol Maleat        15             25.3   \n",
       "431352               Doxycycline Hyclate        17             25.0   \n",
       "...                                  ...       ...              ...   \n",
       "25070916   Brinzolamide/Brimonidine Tart        30             33.0   \n",
       "25070917                 Timolol Maleate       104            178.4   \n",
       "25070918                      Travoprost        31             41.9   \n",
       "25070919                      Travoprost       111            169.1   \n",
       "25070920                   Tafluprost/Pf        16             16.0   \n",
       "\n",
       "          Tot_Day_Suply  Tot_Drug_Cst  Tot_Benes  GE65_Tot_Clms  \\\n",
       "431348             2950      18723.58       14.0           50.0   \n",
       "431349              733       1448.72        NaN           15.0   \n",
       "431350             1370        609.27        NaN           20.0   \n",
       "431351              760       1128.65        NaN           15.0   \n",
       "431352              750        988.26        NaN           17.0   \n",
       "...                 ...           ...        ...            ...   \n",
       "25070916            888       5804.86        NaN           19.0   \n",
       "25070917           5146       9311.07       29.0            NaN   \n",
       "25070918           1073       8799.13        NaN           31.0   \n",
       "25070919           4855      24731.59       24.0            NaN   \n",
       "25070920            480       3433.26        NaN            NaN   \n",
       "\n",
       "          GE65_Tot_30day_Fills  GE65_Tot_Drug_Cst  GE65_Tot_Day_Suply  \\\n",
       "431348                   100.5           18723.58              2950.0   \n",
       "431349                    27.0            1448.72               733.0   \n",
       "431350                    45.7             609.27              1370.0   \n",
       "431351                    25.3            1128.65               760.0   \n",
       "431352                    25.0             988.26               750.0   \n",
       "...                        ...                ...                 ...   \n",
       "25070916                  22.0            3958.07               602.0   \n",
       "25070917                   NaN                NaN                 NaN   \n",
       "25070918                  41.9            8799.13              1073.0   \n",
       "25070919                   NaN                NaN                 NaN   \n",
       "25070920                   NaN                NaN                 NaN   \n",
       "\n",
       "          GE65_Tot_Benes  \n",
       "431348              14.0  \n",
       "431349               NaN  \n",
       "431350               NaN  \n",
       "431351               NaN  \n",
       "431352               NaN  \n",
       "...                  ...  \n",
       "25070916             NaN  \n",
       "25070917             NaN  \n",
       "25070918             NaN  \n",
       "25070919             NaN  \n",
       "25070920             NaN  \n",
       "\n",
       "[5025 rows x 14 columns]"
      ]
     },
     "execution_count": 87,
     "metadata": {},
     "output_type": "execute_result"
    }
   ],
   "source": [
    "X_test"
   ]
  },
  {
   "cell_type": "code",
   "execution_count": 89,
   "metadata": {},
   "outputs": [
    {
     "data": {
      "text/plain": [
       "5025"
      ]
     },
     "execution_count": 89,
     "metadata": {},
     "output_type": "execute_result"
    }
   ],
   "source": [
    "len(y_test)"
   ]
  },
  {
   "cell_type": "code",
   "execution_count": 88,
   "metadata": {},
   "outputs": [],
   "source": [
    "#Save X and y data as zip file\n",
    "\n",
    "os.chdir('../data')\n",
    "X_test.to_csv('X_3specialties_equalWeight_subsample.zip')\n",
    "y_test.to_csv('y_3specialties_equalWeight_subsample.zip',)\n",
    "groups_test.to_csv('groups_3specialties_equalWeight_subsample.zip')"
   ]
  },
  {
   "cell_type": "markdown",
   "metadata": {},
   "source": [
    "##### Use StratifiedGroupKFold"
   ]
  },
  {
   "cell_type": "code",
   "execution_count": 166,
   "metadata": {},
   "outputs": [],
   "source": [
    "from sklearn.model_selection import GroupShuffleSplit\n",
    "from sklearn.model_selection import train_test_split \n",
    "from sklearn.model_selection import StratifiedGroupKFold\n",
    "\n",
    "np.random.seed(42)"
   ]
  },
  {
   "cell_type": "markdown",
   "metadata": {},
   "source": [
    "##### Stratified Sampling"
   ]
  },
  {
   "cell_type": "markdown",
   "metadata": {},
   "source": [
    "To reduce computational cost of preprocessing the data and running an ML model, stratified sampling will be used. "
   ]
  },
  {
   "cell_type": "markdown",
   "metadata": {},
   "source": [
    "**The code below will give me .01% of the original dataset but with the same distribution as the raw dataset**"
   ]
  },
  {
   "cell_type": "code",
   "execution_count": 235,
   "metadata": {},
   "outputs": [
    {
     "name": "stdout",
     "output_type": "stream",
     "text": [
      "Fold: 1\n",
      "\n",
      "Size of OTHER: 916990\n",
      "Size of OTHER: 0.9899994925792414\n",
      "\n",
      "Size of TEST: 9263\n",
      "Size of TEST: 0.01000050742075869\n",
      "Fold: 2\n",
      "\n",
      "Size of OTHER: 916990\n",
      "Size of OTHER: 0.9899994925792414\n",
      "\n",
      "Size of TEST: 9263\n",
      "Size of TEST: 0.01000050742075869\n",
      "Fold: 3\n",
      "\n",
      "Size of OTHER: 916990\n",
      "Size of OTHER: 0.9899994925792414\n",
      "\n",
      "Size of TEST: 9263\n",
      "Size of TEST: 0.01000050742075869\n",
      "Fold: 4\n",
      "\n",
      "Size of OTHER: 916990\n",
      "Size of OTHER: 0.9899994925792414\n",
      "\n",
      "Size of TEST: 9263\n",
      "Size of TEST: 0.01000050742075869\n",
      "Fold: 5\n",
      "\n",
      "Size of OTHER: 916990\n",
      "Size of OTHER: 0.9899994925792414\n",
      "\n",
      "Size of TEST: 9263\n",
      "Size of TEST: 0.01000050742075869\n",
      "Fold: 6\n",
      "\n",
      "Size of OTHER: 916990\n",
      "Size of OTHER: 0.9899994925792414\n",
      "\n",
      "Size of TEST: 9263\n",
      "Size of TEST: 0.01000050742075869\n",
      "Fold: 7\n",
      "\n",
      "Size of OTHER: 916990\n",
      "Size of OTHER: 0.9899994925792414\n",
      "\n",
      "Size of TEST: 9263\n",
      "Size of TEST: 0.01000050742075869\n",
      "Fold: 8\n",
      "\n",
      "Size of OTHER: 916990\n",
      "Size of OTHER: 0.9899994925792414\n",
      "\n",
      "Size of TEST: 9263\n",
      "Size of TEST: 0.01000050742075869\n",
      "Fold: 9\n",
      "\n",
      "Size of OTHER: 916990\n",
      "Size of OTHER: 0.9899994925792414\n",
      "\n",
      "Size of TEST: 9263\n",
      "Size of TEST: 0.01000050742075869\n",
      "Fold: 10\n",
      "\n",
      "Size of OTHER: 916990\n",
      "Size of OTHER: 0.9899994925792414\n",
      "\n",
      "Size of TEST: 9263\n",
      "Size of TEST: 0.01000050742075869\n",
      "Fold: 11\n",
      "\n",
      "Size of OTHER: 916990\n",
      "Size of OTHER: 0.9899994925792414\n",
      "\n",
      "Size of TEST: 9263\n",
      "Size of TEST: 0.01000050742075869\n",
      "Fold: 12\n",
      "\n",
      "Size of OTHER: 916990\n",
      "Size of OTHER: 0.9899994925792414\n",
      "\n",
      "Size of TEST: 9263\n",
      "Size of TEST: 0.01000050742075869\n",
      "Fold: 13\n",
      "\n",
      "Size of OTHER: 916990\n",
      "Size of OTHER: 0.9899994925792414\n",
      "\n",
      "Size of TEST: 9263\n",
      "Size of TEST: 0.01000050742075869\n",
      "Fold: 14\n",
      "\n",
      "Size of OTHER: 916990\n",
      "Size of OTHER: 0.9899994925792414\n",
      "\n",
      "Size of TEST: 9263\n",
      "Size of TEST: 0.01000050742075869\n",
      "Fold: 15\n",
      "\n",
      "Size of OTHER: 916990\n",
      "Size of OTHER: 0.9899994925792414\n",
      "\n",
      "Size of TEST: 9263\n",
      "Size of TEST: 0.01000050742075869\n",
      "Fold: 16\n",
      "\n",
      "Size of OTHER: 916990\n",
      "Size of OTHER: 0.9899994925792414\n",
      "\n",
      "Size of TEST: 9263\n",
      "Size of TEST: 0.01000050742075869\n",
      "Fold: 17\n",
      "\n",
      "Size of OTHER: 916990\n",
      "Size of OTHER: 0.9899994925792414\n",
      "\n",
      "Size of TEST: 9263\n",
      "Size of TEST: 0.01000050742075869\n",
      "Fold: 18\n",
      "\n",
      "Size of OTHER: 916990\n",
      "Size of OTHER: 0.9899994925792414\n",
      "\n",
      "Size of TEST: 9263\n",
      "Size of TEST: 0.01000050742075869\n",
      "Fold: 19\n",
      "\n",
      "Size of OTHER: 916990\n",
      "Size of OTHER: 0.9899994925792414\n",
      "\n",
      "Size of TEST: 9263\n",
      "Size of TEST: 0.01000050742075869\n",
      "Fold: 20\n",
      "\n",
      "Size of OTHER: 916990\n",
      "Size of OTHER: 0.9899994925792414\n",
      "\n",
      "Size of TEST: 9263\n",
      "Size of TEST: 0.01000050742075869\n",
      "Fold: 21\n",
      "\n",
      "Size of OTHER: 916990\n",
      "Size of OTHER: 0.9899994925792414\n",
      "\n",
      "Size of TEST: 9263\n",
      "Size of TEST: 0.01000050742075869\n",
      "Fold: 22\n",
      "\n",
      "Size of OTHER: 916990\n",
      "Size of OTHER: 0.9899994925792414\n",
      "\n",
      "Size of TEST: 9263\n",
      "Size of TEST: 0.01000050742075869\n",
      "Fold: 23\n",
      "\n",
      "Size of OTHER: 916990\n",
      "Size of OTHER: 0.9899994925792414\n",
      "\n",
      "Size of TEST: 9263\n",
      "Size of TEST: 0.01000050742075869\n",
      "Fold: 24\n",
      "\n",
      "Size of OTHER: 916990\n",
      "Size of OTHER: 0.9899994925792414\n",
      "\n",
      "Size of TEST: 9263\n",
      "Size of TEST: 0.01000050742075869\n",
      "Fold: 25\n",
      "\n",
      "Size of OTHER: 916991\n",
      "Size of OTHER: 0.9900005721978768\n",
      "\n",
      "Size of TEST: 9262\n",
      "Size of TEST: 0.009999427802123179\n",
      "Fold: 26\n",
      "\n",
      "Size of OTHER: 916990\n",
      "Size of OTHER: 0.9899994925792414\n",
      "\n",
      "Size of TEST: 9263\n",
      "Size of TEST: 0.01000050742075869\n",
      "Fold: 27\n",
      "\n",
      "Size of OTHER: 916990\n",
      "Size of OTHER: 0.9899994925792414\n",
      "\n",
      "Size of TEST: 9263\n",
      "Size of TEST: 0.01000050742075869\n",
      "Fold: 28\n",
      "\n",
      "Size of OTHER: 916990\n",
      "Size of OTHER: 0.9899994925792414\n",
      "\n",
      "Size of TEST: 9263\n",
      "Size of TEST: 0.01000050742075869\n",
      "Fold: 29\n",
      "\n",
      "Size of OTHER: 916990\n",
      "Size of OTHER: 0.9899994925792414\n",
      "\n",
      "Size of TEST: 9263\n",
      "Size of TEST: 0.01000050742075869\n",
      "Fold: 30\n",
      "\n",
      "Size of OTHER: 916990\n",
      "Size of OTHER: 0.9899994925792414\n",
      "\n",
      "Size of TEST: 9263\n",
      "Size of TEST: 0.01000050742075869\n",
      "Fold: 31\n",
      "\n",
      "Size of OTHER: 916990\n",
      "Size of OTHER: 0.9899994925792414\n",
      "\n",
      "Size of TEST: 9263\n",
      "Size of TEST: 0.01000050742075869\n",
      "Fold: 32\n",
      "\n",
      "Size of OTHER: 916990\n",
      "Size of OTHER: 0.9899994925792414\n",
      "\n",
      "Size of TEST: 9263\n",
      "Size of TEST: 0.01000050742075869\n",
      "Fold: 33\n",
      "\n",
      "Size of OTHER: 916990\n",
      "Size of OTHER: 0.9899994925792414\n",
      "\n",
      "Size of TEST: 9263\n",
      "Size of TEST: 0.01000050742075869\n",
      "Fold: 34\n",
      "\n",
      "Size of OTHER: 916991\n",
      "Size of OTHER: 0.9900005721978768\n",
      "\n",
      "Size of TEST: 9262\n",
      "Size of TEST: 0.009999427802123179\n",
      "Fold: 35\n",
      "\n",
      "Size of OTHER: 916990\n",
      "Size of OTHER: 0.9899994925792414\n",
      "\n",
      "Size of TEST: 9263\n",
      "Size of TEST: 0.01000050742075869\n",
      "Fold: 36\n",
      "\n",
      "Size of OTHER: 916990\n",
      "Size of OTHER: 0.9899994925792414\n",
      "\n",
      "Size of TEST: 9263\n",
      "Size of TEST: 0.01000050742075869\n",
      "Fold: 37\n",
      "\n",
      "Size of OTHER: 916990\n",
      "Size of OTHER: 0.9899994925792414\n",
      "\n",
      "Size of TEST: 9263\n",
      "Size of TEST: 0.01000050742075869\n",
      "Fold: 38\n",
      "\n",
      "Size of OTHER: 916991\n",
      "Size of OTHER: 0.9900005721978768\n",
      "\n",
      "Size of TEST: 9262\n",
      "Size of TEST: 0.009999427802123179\n",
      "Fold: 39\n",
      "\n",
      "Size of OTHER: 916991\n",
      "Size of OTHER: 0.9900005721978768\n",
      "\n",
      "Size of TEST: 9262\n",
      "Size of TEST: 0.009999427802123179\n",
      "Fold: 40\n",
      "\n",
      "Size of OTHER: 916991\n",
      "Size of OTHER: 0.9900005721978768\n",
      "\n",
      "Size of TEST: 9262\n",
      "Size of TEST: 0.009999427802123179\n",
      "Fold: 41\n",
      "\n",
      "Size of OTHER: 916991\n",
      "Size of OTHER: 0.9900005721978768\n",
      "\n",
      "Size of TEST: 9262\n",
      "Size of TEST: 0.009999427802123179\n",
      "Fold: 42\n",
      "\n",
      "Size of OTHER: 916991\n",
      "Size of OTHER: 0.9900005721978768\n",
      "\n",
      "Size of TEST: 9262\n",
      "Size of TEST: 0.009999427802123179\n",
      "Fold: 43\n",
      "\n",
      "Size of OTHER: 916990\n",
      "Size of OTHER: 0.9899994925792414\n",
      "\n",
      "Size of TEST: 9263\n",
      "Size of TEST: 0.01000050742075869\n",
      "Fold: 44\n",
      "\n",
      "Size of OTHER: 916990\n",
      "Size of OTHER: 0.9899994925792414\n",
      "\n",
      "Size of TEST: 9263\n",
      "Size of TEST: 0.01000050742075869\n",
      "Fold: 45\n",
      "\n",
      "Size of OTHER: 916990\n",
      "Size of OTHER: 0.9899994925792414\n",
      "\n",
      "Size of TEST: 9263\n",
      "Size of TEST: 0.01000050742075869\n",
      "Fold: 46\n",
      "\n",
      "Size of OTHER: 916991\n",
      "Size of OTHER: 0.9900005721978768\n",
      "\n",
      "Size of TEST: 9262\n",
      "Size of TEST: 0.009999427802123179\n",
      "Fold: 47\n",
      "\n",
      "Size of OTHER: 916991\n",
      "Size of OTHER: 0.9900005721978768\n",
      "\n",
      "Size of TEST: 9262\n",
      "Size of TEST: 0.009999427802123179\n",
      "Fold: 48\n",
      "\n",
      "Size of OTHER: 916990\n",
      "Size of OTHER: 0.9899994925792414\n",
      "\n",
      "Size of TEST: 9263\n",
      "Size of TEST: 0.01000050742075869\n",
      "Fold: 49\n",
      "\n",
      "Size of OTHER: 916991\n",
      "Size of OTHER: 0.9900005721978768\n",
      "\n",
      "Size of TEST: 9262\n",
      "Size of TEST: 0.009999427802123179\n",
      "Fold: 50\n",
      "\n",
      "Size of OTHER: 916990\n",
      "Size of OTHER: 0.9899994925792414\n",
      "\n",
      "Size of TEST: 9263\n",
      "Size of TEST: 0.01000050742075869\n",
      "Fold: 51\n",
      "\n",
      "Size of OTHER: 916991\n",
      "Size of OTHER: 0.9900005721978768\n",
      "\n",
      "Size of TEST: 9262\n",
      "Size of TEST: 0.009999427802123179\n",
      "Fold: 52\n",
      "\n",
      "Size of OTHER: 916991\n",
      "Size of OTHER: 0.9900005721978768\n",
      "\n",
      "Size of TEST: 9262\n",
      "Size of TEST: 0.009999427802123179\n",
      "Fold: 53\n",
      "\n",
      "Size of OTHER: 916990\n",
      "Size of OTHER: 0.9899994925792414\n",
      "\n",
      "Size of TEST: 9263\n",
      "Size of TEST: 0.01000050742075869\n",
      "Fold: 54\n",
      "\n",
      "Size of OTHER: 916990\n",
      "Size of OTHER: 0.9899994925792414\n",
      "\n",
      "Size of TEST: 9263\n",
      "Size of TEST: 0.01000050742075869\n",
      "Fold: 55\n",
      "\n",
      "Size of OTHER: 916991\n",
      "Size of OTHER: 0.9900005721978768\n",
      "\n",
      "Size of TEST: 9262\n",
      "Size of TEST: 0.009999427802123179\n",
      "Fold: 56\n",
      "\n",
      "Size of OTHER: 916990\n",
      "Size of OTHER: 0.9899994925792414\n",
      "\n",
      "Size of TEST: 9263\n",
      "Size of TEST: 0.01000050742075869\n",
      "Fold: 57\n",
      "\n",
      "Size of OTHER: 916991\n",
      "Size of OTHER: 0.9900005721978768\n",
      "\n",
      "Size of TEST: 9262\n",
      "Size of TEST: 0.009999427802123179\n",
      "Fold: 58\n",
      "\n",
      "Size of OTHER: 916990\n",
      "Size of OTHER: 0.9899994925792414\n",
      "\n",
      "Size of TEST: 9263\n",
      "Size of TEST: 0.01000050742075869\n",
      "Fold: 59\n",
      "\n",
      "Size of OTHER: 916990\n",
      "Size of OTHER: 0.9899994925792414\n",
      "\n",
      "Size of TEST: 9263\n",
      "Size of TEST: 0.01000050742075869\n",
      "Fold: 60\n",
      "\n",
      "Size of OTHER: 916991\n",
      "Size of OTHER: 0.9900005721978768\n",
      "\n",
      "Size of TEST: 9262\n",
      "Size of TEST: 0.009999427802123179\n",
      "Fold: 61\n",
      "\n",
      "Size of OTHER: 916990\n",
      "Size of OTHER: 0.9899994925792414\n",
      "\n",
      "Size of TEST: 9263\n",
      "Size of TEST: 0.01000050742075869\n",
      "Fold: 62\n",
      "\n",
      "Size of OTHER: 916991\n",
      "Size of OTHER: 0.9900005721978768\n",
      "\n",
      "Size of TEST: 9262\n",
      "Size of TEST: 0.009999427802123179\n",
      "Fold: 63\n",
      "\n",
      "Size of OTHER: 916991\n",
      "Size of OTHER: 0.9900005721978768\n",
      "\n",
      "Size of TEST: 9262\n",
      "Size of TEST: 0.009999427802123179\n",
      "Fold: 64\n",
      "\n",
      "Size of OTHER: 916991\n",
      "Size of OTHER: 0.9900005721978768\n",
      "\n",
      "Size of TEST: 9262\n",
      "Size of TEST: 0.009999427802123179\n",
      "Fold: 65\n",
      "\n",
      "Size of OTHER: 916991\n",
      "Size of OTHER: 0.9900005721978768\n",
      "\n",
      "Size of TEST: 9262\n",
      "Size of TEST: 0.009999427802123179\n",
      "Fold: 66\n",
      "\n",
      "Size of OTHER: 916991\n",
      "Size of OTHER: 0.9900005721978768\n",
      "\n",
      "Size of TEST: 9262\n",
      "Size of TEST: 0.009999427802123179\n",
      "Fold: 67\n",
      "\n",
      "Size of OTHER: 916991\n",
      "Size of OTHER: 0.9900005721978768\n",
      "\n",
      "Size of TEST: 9262\n",
      "Size of TEST: 0.009999427802123179\n",
      "Fold: 68\n",
      "\n",
      "Size of OTHER: 916991\n",
      "Size of OTHER: 0.9900005721978768\n",
      "\n",
      "Size of TEST: 9262\n",
      "Size of TEST: 0.009999427802123179\n",
      "Fold: 69\n",
      "\n",
      "Size of OTHER: 916991\n",
      "Size of OTHER: 0.9900005721978768\n",
      "\n",
      "Size of TEST: 9262\n",
      "Size of TEST: 0.009999427802123179\n",
      "Fold: 70\n",
      "\n"
     ]
    },
    {
     "name": "stdout",
     "output_type": "stream",
     "text": [
      "Size of OTHER: 916990\n",
      "Size of OTHER: 0.9899994925792414\n",
      "\n",
      "Size of TEST: 9263\n",
      "Size of TEST: 0.01000050742075869\n",
      "Fold: 71\n",
      "\n",
      "Size of OTHER: 916990\n",
      "Size of OTHER: 0.9899994925792414\n",
      "\n",
      "Size of TEST: 9263\n",
      "Size of TEST: 0.01000050742075869\n",
      "Fold: 72\n",
      "\n",
      "Size of OTHER: 916991\n",
      "Size of OTHER: 0.9900005721978768\n",
      "\n",
      "Size of TEST: 9262\n",
      "Size of TEST: 0.009999427802123179\n",
      "Fold: 73\n",
      "\n",
      "Size of OTHER: 916991\n",
      "Size of OTHER: 0.9900005721978768\n",
      "\n",
      "Size of TEST: 9262\n",
      "Size of TEST: 0.009999427802123179\n",
      "Fold: 74\n",
      "\n",
      "Size of OTHER: 916991\n",
      "Size of OTHER: 0.9900005721978768\n",
      "\n",
      "Size of TEST: 9262\n",
      "Size of TEST: 0.009999427802123179\n",
      "Fold: 75\n",
      "\n",
      "Size of OTHER: 916991\n",
      "Size of OTHER: 0.9900005721978768\n",
      "\n",
      "Size of TEST: 9262\n",
      "Size of TEST: 0.009999427802123179\n",
      "Fold: 76\n",
      "\n",
      "Size of OTHER: 916991\n",
      "Size of OTHER: 0.9900005721978768\n",
      "\n",
      "Size of TEST: 9262\n",
      "Size of TEST: 0.009999427802123179\n",
      "Fold: 77\n",
      "\n",
      "Size of OTHER: 916991\n",
      "Size of OTHER: 0.9900005721978768\n",
      "\n",
      "Size of TEST: 9262\n",
      "Size of TEST: 0.009999427802123179\n",
      "Fold: 78\n",
      "\n",
      "Size of OTHER: 916990\n",
      "Size of OTHER: 0.9899994925792414\n",
      "\n",
      "Size of TEST: 9263\n",
      "Size of TEST: 0.01000050742075869\n",
      "Fold: 79\n",
      "\n",
      "Size of OTHER: 916991\n",
      "Size of OTHER: 0.9900005721978768\n",
      "\n",
      "Size of TEST: 9262\n",
      "Size of TEST: 0.009999427802123179\n",
      "Fold: 80\n",
      "\n",
      "Size of OTHER: 916991\n",
      "Size of OTHER: 0.9900005721978768\n",
      "\n",
      "Size of TEST: 9262\n",
      "Size of TEST: 0.009999427802123179\n",
      "Fold: 81\n",
      "\n",
      "Size of OTHER: 916991\n",
      "Size of OTHER: 0.9900005721978768\n",
      "\n",
      "Size of TEST: 9262\n",
      "Size of TEST: 0.009999427802123179\n",
      "Fold: 82\n",
      "\n",
      "Size of OTHER: 916991\n",
      "Size of OTHER: 0.9900005721978768\n",
      "\n",
      "Size of TEST: 9262\n",
      "Size of TEST: 0.009999427802123179\n",
      "Fold: 83\n",
      "\n",
      "Size of OTHER: 916990\n",
      "Size of OTHER: 0.9899994925792414\n",
      "\n",
      "Size of TEST: 9263\n",
      "Size of TEST: 0.01000050742075869\n",
      "Fold: 84\n",
      "\n",
      "Size of OTHER: 916991\n",
      "Size of OTHER: 0.9900005721978768\n",
      "\n",
      "Size of TEST: 9262\n",
      "Size of TEST: 0.009999427802123179\n",
      "Fold: 85\n",
      "\n",
      "Size of OTHER: 916990\n",
      "Size of OTHER: 0.9899994925792414\n",
      "\n",
      "Size of TEST: 9263\n",
      "Size of TEST: 0.01000050742075869\n",
      "Fold: 86\n",
      "\n",
      "Size of OTHER: 916991\n",
      "Size of OTHER: 0.9900005721978768\n",
      "\n",
      "Size of TEST: 9262\n",
      "Size of TEST: 0.009999427802123179\n",
      "Fold: 87\n",
      "\n",
      "Size of OTHER: 916991\n",
      "Size of OTHER: 0.9900005721978768\n",
      "\n",
      "Size of TEST: 9262\n",
      "Size of TEST: 0.009999427802123179\n",
      "Fold: 88\n",
      "\n",
      "Size of OTHER: 916991\n",
      "Size of OTHER: 0.9900005721978768\n",
      "\n",
      "Size of TEST: 9262\n",
      "Size of TEST: 0.009999427802123179\n",
      "Fold: 89\n",
      "\n",
      "Size of OTHER: 916991\n",
      "Size of OTHER: 0.9900005721978768\n",
      "\n",
      "Size of TEST: 9262\n",
      "Size of TEST: 0.009999427802123179\n",
      "Fold: 90\n",
      "\n",
      "Size of OTHER: 916991\n",
      "Size of OTHER: 0.9900005721978768\n",
      "\n",
      "Size of TEST: 9262\n",
      "Size of TEST: 0.009999427802123179\n",
      "Fold: 91\n",
      "\n",
      "Size of OTHER: 916990\n",
      "Size of OTHER: 0.9899994925792414\n",
      "\n",
      "Size of TEST: 9263\n",
      "Size of TEST: 0.01000050742075869\n",
      "Fold: 92\n",
      "\n",
      "Size of OTHER: 916991\n",
      "Size of OTHER: 0.9900005721978768\n",
      "\n",
      "Size of TEST: 9262\n",
      "Size of TEST: 0.009999427802123179\n",
      "Fold: 93\n",
      "\n",
      "Size of OTHER: 916991\n",
      "Size of OTHER: 0.9900005721978768\n",
      "\n",
      "Size of TEST: 9262\n",
      "Size of TEST: 0.009999427802123179\n",
      "Fold: 94\n",
      "\n",
      "Size of OTHER: 916991\n",
      "Size of OTHER: 0.9900005721978768\n",
      "\n",
      "Size of TEST: 9262\n",
      "Size of TEST: 0.009999427802123179\n",
      "Fold: 95\n",
      "\n",
      "Size of OTHER: 916991\n",
      "Size of OTHER: 0.9900005721978768\n",
      "\n",
      "Size of TEST: 9262\n",
      "Size of TEST: 0.009999427802123179\n",
      "Fold: 96\n",
      "\n",
      "Size of OTHER: 916991\n",
      "Size of OTHER: 0.9900005721978768\n",
      "\n",
      "Size of TEST: 9262\n",
      "Size of TEST: 0.009999427802123179\n",
      "Fold: 97\n",
      "\n",
      "Size of OTHER: 916991\n",
      "Size of OTHER: 0.9900005721978768\n",
      "\n",
      "Size of TEST: 9262\n",
      "Size of TEST: 0.009999427802123179\n",
      "Fold: 98\n",
      "\n",
      "Size of OTHER: 916991\n",
      "Size of OTHER: 0.9900005721978768\n",
      "\n",
      "Size of TEST: 9262\n",
      "Size of TEST: 0.009999427802123179\n",
      "Fold: 99\n",
      "\n",
      "Size of OTHER: 916991\n",
      "Size of OTHER: 0.9900005721978768\n",
      "\n",
      "Size of TEST: 9262\n",
      "Size of TEST: 0.009999427802123179\n",
      "Fold: 100\n",
      "\n",
      "Size of OTHER: 916990\n",
      "Size of OTHER: 0.9899994925792414\n",
      "\n",
      "Size of TEST: 9263\n",
      "Size of TEST: 0.01000050742075869\n",
      "CPU times: user 11min 53s, sys: 6.94 s, total: 12min\n",
      "Wall time: 12min 4s\n"
     ]
    }
   ],
   "source": [
    "%%time\n",
    "\n",
    "X_subsample_list = []\n",
    "y_subsample_list = []\n",
    "groups_subsample_list = []\n",
    "\n",
    "stratGroupKFold = StratifiedGroupKFold(n_splits=100)\n",
    "\n",
    "counter = 0\n",
    "\n",
    "for i_other,i_test in stratGroupKFold.split(X, y, groups):\n",
    "    \n",
    "    counter += 1\n",
    "    print(f'Fold: {counter}')\n",
    "    print()\n",
    "    \n",
    "    X_other, y_other, groups_other = X.iloc[i_other], y.iloc[i_other], groups.iloc[i_other]\n",
    "    X_test, y_test, groups_test = X.iloc[i_test], y.iloc[i_test], groups.iloc[i_test]\n",
    "\n",
    "    #print(\"Size of OTHER:\", len(y_other))\n",
    "    print(\"Size of OTHER:\", len(y_other))\n",
    "    print(\"Size of OTHER:\", len(y_other)/len(y))\n",
    "    print()\n",
    "\n",
    "    #print(\"Size of TEST:\", len(y_test))\n",
    "    print(\"Size of TEST:\", len(y_test))\n",
    "    print(\"Size of TEST:\", len(y_test)/len(y))\n",
    "    \n",
    "X_subsample = pd.DataFrame(X_test)\n",
    "y_subsample = pd.DataFrame(y_test)\n",
    "groups_subsample = pd.DataFrame(groups_test)"
   ]
  },
  {
   "cell_type": "markdown",
   "metadata": {},
   "source": [
    "##### Save subsampled data"
   ]
  },
  {
   "cell_type": "code",
   "execution_count": 236,
   "metadata": {},
   "outputs": [],
   "source": [
    "os.chdir('../data')\n",
    "X_subsample.to_csv('X_subsample_round1_split6.zip')\n",
    "y_subsample.to_csv('y_subsample_round1_split6.zip')\n",
    "groups_subsample.to_csv('groups_subsample_round1_split6.zip')"
   ]
  },
  {
   "cell_type": "markdown",
   "metadata": {},
   "source": [
    "Split 4 --> Excluded drugs, 6 specialties  \n",
    "Split 5 --> Did not exclude any drugs, 6 specialties\n",
    "Split 6 --> Did not exclude any drugs, 3 specialties"
   ]
  },
  {
   "cell_type": "code",
   "execution_count": 240,
   "metadata": {},
   "outputs": [
    {
     "data": {
      "text/plain": [
       "Psychiatry                 5977\n",
       "Emergency Medicine         2037\n",
       "Obstetrics & Gynecology    1249\n",
       "Name: Prscrbr_Type, dtype: int64"
      ]
     },
     "execution_count": 240,
     "metadata": {},
     "output_type": "execute_result"
    }
   ],
   "source": [
    "y_subsample[\"Prscrbr_Type\"].value_counts()"
   ]
  },
  {
   "cell_type": "code",
   "execution_count": 241,
   "metadata": {},
   "outputs": [
    {
     "name": "stdout",
     "output_type": "stream",
     "text": [
      "Fold: 1\n",
      "\n",
      "Size of OTHER: 4631\n",
      "Size of OTHER: 0.4999460218071899\n",
      "\n",
      "Size of TEST: 4632\n",
      "Size of TEST: 0.5000539781928101\n",
      "Fold: 2\n",
      "\n",
      "Size of OTHER: 4632\n",
      "Size of OTHER: 0.5000539781928101\n",
      "\n",
      "Size of TEST: 4631\n",
      "Size of TEST: 0.4999460218071899\n",
      "CPU times: user 150 ms, sys: 106 ms, total: 256 ms\n",
      "Wall time: 361 ms\n"
     ]
    }
   ],
   "source": [
    "%%time\n",
    "\n",
    "X_subsample_list = []\n",
    "y_subsample_list = []\n",
    "groups_subsample_list = []\n",
    "\n",
    "stratGroupKFold = StratifiedGroupKFold(n_splits=2)\n",
    "\n",
    "counter = 0\n",
    "\n",
    "for i_other,i_test in stratGroupKFold.split(X_subsample, y_subsample, groups_subsample):\n",
    "    \n",
    "    counter += 1\n",
    "    print(f'Fold: {counter}')\n",
    "    print()\n",
    "    \n",
    "    X_other, y_other, groups_other = X_subsample.iloc[i_other], y_subsample.iloc[i_other], groups_subsample.iloc[i_other]\n",
    "    X_test, y_test, groups_test = X_subsample.iloc[i_test], y_subsample.iloc[i_test], groups_subsample.iloc[i_test]\n",
    "\n",
    "    #print(\"Size of OTHER:\", len(y_other))\n",
    "    print(\"Size of OTHER:\", len(y_other))\n",
    "    print(\"Size of OTHER:\", len(y_other)/len(y_subsample))\n",
    "    print()\n",
    "\n",
    "    #print(\"Size of TEST:\", len(y_test))\n",
    "    print(\"Size of TEST:\", len(y_test))\n",
    "    print(\"Size of TEST:\", len(y_test)/len(y_subsample))\n",
    "    \n",
    "X_subsample_s2 = pd.DataFrame(X_test)\n",
    "y_subsample_s2 = pd.DataFrame(y_test)\n",
    "groups_subsample_s2 = pd.DataFrame(groups_test)"
   ]
  },
  {
   "cell_type": "code",
   "execution_count": 242,
   "metadata": {},
   "outputs": [],
   "source": [
    "os.chdir('../data')\n",
    "X_subsample_s2.to_csv('X_subsample_round2_split6.zip')\n",
    "y_subsample_s2.to_csv('y_subsample_round2_split6.zip')\n",
    "groups_subsample_s2.to_csv('groups_subsample_round2_split6.zip')"
   ]
  },
  {
   "cell_type": "markdown",
   "metadata": {},
   "source": [
    "##### Verify that subsample has the same distribution as the raw dataset"
   ]
  },
  {
   "cell_type": "code",
   "execution_count": null,
   "metadata": {},
   "outputs": [],
   "source": [
    "classes, counts = np.unique(y_subsample,return_counts=True)\n",
    "balance_subsample = pd.DataFrame({'Classes':classes, 'counts':counts})\n",
    "balance_subsample[\"Subsample\"] = (balance_subsample[\"counts\"]/len(y_subsample))*100\n",
    "balance_subsample = balance_subsample.drop([\"counts\"], axis=1)\n",
    "\n",
    "balance_subsample = balance_subsample.T\n",
    "\n",
    "balance_subsample = balance_subsample.rename(columns=balance_subsample.iloc[0])\n",
    "balance_subsample = balance_subsample.iloc[1: , :]"
   ]
  },
  {
   "cell_type": "code",
   "execution_count": null,
   "metadata": {},
   "outputs": [],
   "source": [
    "balance_RawAndSubsample = pd.concat([balance_df, \n",
    "                              balance_subsample], axis=0).T\n",
    "#balance_RawAndSubsample = balance_RawAndSubsample.reset_index(level=0)\n"
   ]
  },
  {
   "cell_type": "code",
   "execution_count": null,
   "metadata": {},
   "outputs": [],
   "source": [
    "balance_df = balance_df.T\n",
    "balance_RawAndSubsample = balance_RawAndSubsample[balance_RawAndSubsample.columns].astype(float)"
   ]
  },
  {
   "cell_type": "code",
   "execution_count": null,
   "metadata": {},
   "outputs": [],
   "source": [
    "os.chdir('../figures')\n",
    "plt.figure(figsize=(5,8))\n",
    "\n",
    "sns.heatmap((balance_RawAndSubsample/100),linewidth=0.5,cmap=\"coolwarm\",vmin=0, vmax=1, annot=True,fmt=\".2\", cbar_kws={\"shrink\": .82})\n",
    "plt.yticks(rotation=0)\n",
    "plt.ylabel(\"Classes\")\n",
    "plt.title(\"Fraction of Classes in the Raw and Subsampled Data\",fontweight='bold', fontsize=16)\n",
    "plt.savefig('Figure 16 - Fraction of Classes in the Raw and Subsampled Data 2.png', dpi=1200,bbox_inches=\"tight\")\n",
    "\n",
    "plt.show()"
   ]
  },
  {
   "cell_type": "markdown",
   "metadata": {},
   "source": [
    "#### Data Splitting + Preprocessing"
   ]
  },
  {
   "cell_type": "code",
   "execution_count": null,
   "metadata": {},
   "outputs": [],
   "source": [
    "from sklearn.compose import ColumnTransformer\n",
    "from sklearn.pipeline import Pipeline\n",
    "from sklearn.preprocessing import StandardScaler, OneHotEncoder, OrdinalEncoder, MinMaxScaler\n",
    "\n",
    "categorical_ftrs = ['Prscrbr_City',\n",
    "                    'Prscrbr_State_Abrvtn',\n",
    "                    'Brnd_Name',\n",
    "                    'Gnrc_Name']\n",
    "\n",
    "std_ftrs = ['Tot_Clms', \n",
    "            'Tot_30day_Fills', \n",
    "            'Tot_Day_Suply', \n",
    "            'Tot_Drug_Cst', \n",
    "            'Tot_Benes', \n",
    "            'GE65_Tot_Clms',\n",
    "            'GE65_Tot_30day_Fills',\n",
    "            'GE65_Tot_Drug_Cst',\n",
    "            'GE65_Tot_Day_Suply',\n",
    "            'GE65_Tot_Benes']\n",
    "\n",
    "preprocessor = ColumnTransformer(\n",
    "    transformers=[\n",
    "        ('onehot', OneHotEncoder(sparse=False,handle_unknown='ignore'), categorical_ftrs),\n",
    "        ('std', StandardScaler(), std_ftrs)])\n",
    "\n",
    "clf = Pipeline(steps=[('preprocessor', preprocessor)])                                               \n"
   ]
  },
  {
   "cell_type": "markdown",
   "metadata": {},
   "source": [
    "##### Import subsampled data here if necessary"
   ]
  },
  {
   "cell_type": "code",
   "execution_count": null,
   "metadata": {},
   "outputs": [],
   "source": [
    "os.chdir('../data')\n",
    "\n",
    "X_subsample = pd.read_csv('X_subsample.zip',compression='zip',index_col=False)\n",
    "\n",
    "y_subsample = pd.read_csv('y_subsample.zip',compression='zip')\n",
    "\n",
    "groups_subsample = pd.read_csv('groups_subsample.zip',compression='zip')"
   ]
  },
  {
   "cell_type": "code",
   "execution_count": null,
   "metadata": {},
   "outputs": [],
   "source": [
    "X_subsample = X_subsample.iloc[:,1:]\n",
    "y_subsample = y_subsample.iloc[:,1:]\n",
    "groups_subsample = groups_subsample.iloc[:,1:]"
   ]
  },
  {
   "cell_type": "code",
   "execution_count": null,
   "metadata": {},
   "outputs": [],
   "source": [
    "X_subsample.head()"
   ]
  },
  {
   "cell_type": "markdown",
   "metadata": {},
   "source": [
    "###### 80-10-10 Split"
   ]
  },
  {
   "cell_type": "code",
   "execution_count": null,
   "metadata": {},
   "outputs": [],
   "source": [
    "%%time\n",
    "\n",
    "y_train_list = []\n",
    "y_validation_list = []\n",
    "y_test_list = []\n",
    "\n",
    "stratGroupKFold = StratifiedGroupKFold(n_splits=10, random_state=42)\n",
    "stratGroupKFold2 = StratifiedGroupKFold(n_splits=9, random_state=42)\n",
    "\n",
    "counter = 0\n",
    "\n",
    "\n",
    "for i_other,i_test in stratGroupKFold.split(X_subsample, y_subsample, groups_subsample):\n",
    "    counter += 1\n",
    "    print(f'Fold: {counter}')\n",
    "    print()\n",
    "    \n",
    "    X_other, y_other, groups_other = X_subsample.iloc[i_other], y_subsample.iloc[i_other], groups_subsample.iloc[i_other]\n",
    "    X_test, y_test, groups_test = X_subsample.iloc[i_test], y_subsample.iloc[i_test], groups_subsample.iloc[i_test]\n",
    "    \n",
    "    y_test_list.append(y_test)\n",
    "    \n",
    "    print(\"OTHER SIZE:\", len(y_other))\n",
    "    print(\"% OTHER:\", len(y_other)/len(y_subsample))\n",
    "    print()\n",
    "\n",
    "    print(\"TEST SIZE:\", len(y_test))\n",
    "    print(\"% TEST:\", len(y_test)/len(y_subsample))\n",
    "    print()\n",
    "\n",
    "    counter2 = 0\n",
    "    \n",
    "    for i_train, i_validation in stratGroupKFold2.split(X_other, y_other, groups_other):\n",
    "        counter2 += 1\n",
    "        print(f'Fold: {counter}; Set: {counter2}')\n",
    "        print()\n",
    "        \n",
    "        X_train, y_train, groups_train = X_other.iloc[i_train], y_other.iloc[i_train], groups_other.iloc[i_train]\n",
    "        X_validation, y_validation , groups_validation = X_other.iloc[i_validation], y_other.iloc[i_validation], groups_other.iloc[i_validation]\n",
    "        \n",
    "        y_train_list.append(y_train)\n",
    "        y_validation_list.append(y_validation)\n",
    "        \n",
    "        print(\"TRAIN SIZE:\", len(y_train))\n",
    "        print(\"% TRAIN:\", len(y_train)/len(y_subsample))\n",
    "        print()\n",
    "        \n",
    "        print(\"VALIDATION SIZE:\", len(y_validation))\n",
    "        print(\"% VALIDATION:\", len(y_validation)/len(y_subsample))\n",
    "        print()\n",
    "        \n",
    "        X_train_prep = clf.fit_transform(X_train)\n",
    "        print(f\"X_train shape: {X_train.shape}\")\n",
    "        print(f\"X_train_prep shape: {X_train_prep.shape}\")\n",
    "        print()\n",
    "              \n",
    "        X_val_prep = clf.transform(X_validation)\n",
    "        print(f\"X_val shape: {X_validation.shape}\")\n",
    "        print(f\"X_val shape: {X_val_prep.shape}\")\n",
    "        print()\n",
    "              \n",
    "        X_test_prep = clf.transform(X_test)\n",
    "        print(f\"X_test shape: {X_test.shape}\")\n",
    "        print(f\"X_test_prep shape: {X_test_prep.shape}\")\n",
    "        print()"
   ]
  },
  {
   "cell_type": "code",
   "execution_count": null,
   "metadata": {},
   "outputs": [],
   "source": [
    "X_train_prep_df = pd.DataFrame(X_train_prep)\n",
    "X_train_prep_df"
   ]
  },
  {
   "cell_type": "markdown",
   "metadata": {},
   "source": [
    "##### Extract Feature Names"
   ]
  },
  {
   "cell_type": "code",
   "execution_count": null,
   "metadata": {},
   "outputs": [],
   "source": [
    "clf.named_steps['preprocessor'].transformers_[0][1].get_feature_names_out(categorical_ftrs)"
   ]
  },
  {
   "cell_type": "code",
   "execution_count": null,
   "metadata": {},
   "outputs": [],
   "source": [
    "len(clf.named_steps['preprocessor'].transformers_[0][1].get_feature_names_out(categorical_ftrs))"
   ]
  },
  {
   "cell_type": "markdown",
   "metadata": {},
   "source": [
    "##### Check Means and Variance of Standardized Columns"
   ]
  },
  {
   "cell_type": "code",
   "execution_count": null,
   "metadata": {},
   "outputs": [],
   "source": [
    "X_train_prep_df.iloc[:,-10:].mean()"
   ]
  },
  {
   "cell_type": "code",
   "execution_count": null,
   "metadata": {},
   "outputs": [],
   "source": [
    "X_train_prep_df.iloc[:,-10:].var()"
   ]
  },
  {
   "cell_type": "markdown",
   "metadata": {},
   "source": [
    "##### Checking distribution of classes for each set"
   ]
  },
  {
   "cell_type": "code",
   "execution_count": null,
   "metadata": {},
   "outputs": [],
   "source": [
    "classes_test, count_test = np.unique(y_test,return_counts=True)\n",
    "classes_train, count_train = np.unique(y_train,return_counts=True)\n",
    "classes_val, count_val = np.unique(y_validation,return_counts=True)\n",
    "\n",
    "\n",
    "balance_df_test =pd.DataFrame({'Classes':classes_test, 'counts':count_test})\n",
    "balance_df_train =pd.DataFrame({'Classes':classes_train, 'counts':count_train})\n",
    "balance_df_val =pd.DataFrame({'Classes':classes_val, 'counts':count_val})\n",
    "\n",
    "balance_df_test[\"Test Set\"] = (balance_df_test[\"counts\"]/len(y_test))*100\n",
    "balance_df_train[\"Train Set\"] = (balance_df_train[\"counts\"]/len(y_train))*100\n",
    "balance_df_val[\"Validation Set\"] = (balance_df_val[\"counts\"]/len(y_validation))*100\n",
    "\n",
    "balance_df_test= balance_df_test.drop([\"counts\"], axis=1)\n",
    "balance_df_train= balance_df_train.drop([\"counts\"], axis=1)\n",
    "balance_df_val= balance_df_val.drop([\"counts\"], axis=1)\n",
    "\n",
    "balance_df_test = balance_df_test.T\n",
    "balance_df_train = balance_df_train.T\n",
    "balance_df_val = balance_df_val.T\n",
    "\n",
    "balance_df_test = balance_df_test.rename(columns=balance_df_test.iloc[0])\n",
    "balance_df_test = balance_df_test.iloc[1: , :]\n",
    "balance_df_train = balance_df_train.rename(columns=balance_df_train.iloc[0])\n",
    "balance_df_train = balance_df_train.iloc[1: , :]\n",
    "balance_df_val = balance_df_val.rename(columns=balance_df_val.iloc[0])\n",
    "balance_df_val = balance_df_val.iloc[1: , :]\n",
    "\n",
    "\n",
    "balance_allSets = pd.concat([balance_df, balance_df_test,balance_df_train,balance_df_val], axis=0)"
   ]
  },
  {
   "cell_type": "code",
   "execution_count": null,
   "metadata": {
    "scrolled": true
   },
   "outputs": [],
   "source": [
    "balance_allSets.sum(axis=1)"
   ]
  },
  {
   "cell_type": "markdown",
   "metadata": {},
   "source": [
    "##### Checking Distribution of each CV Fold"
   ]
  },
  {
   "cell_type": "code",
   "execution_count": null,
   "metadata": {},
   "outputs": [],
   "source": [
    "balance_allTrain"
   ]
  },
  {
   "cell_type": "markdown",
   "metadata": {},
   "source": [
    "## III. Data Pre-Processing"
   ]
  },
  {
   "cell_type": "markdown",
   "metadata": {},
   "source": [
    "#### Handling NaN Values in Categorical Variables"
   ]
  },
  {
   "cell_type": "markdown",
   "metadata": {},
   "source": [
    "No missing values/NaN in any categorical features"
   ]
  },
  {
   "cell_type": "markdown",
   "metadata": {},
   "source": [
    "#### Handling NaN Values in Continuous Variables\n",
    "\n",
    "* Tot_Benes\n",
    "* GE65_Tot_Clms\n",
    "* GE65_Tot_30day_Fills\n",
    "* GE65_Tot_Drug_cst\n",
    "* GE65_Tot_Day_Suply\n",
    "* GE65_Tot_Benes"
   ]
  },
  {
   "cell_type": "markdown",
   "metadata": {},
   "source": [
    "We will leave this as NaN. We can use a better imputation method than mean and median imputations in the future or we can use a model like XGBoost that can handle missing values."
   ]
  },
  {
   "cell_type": "markdown",
   "metadata": {},
   "source": [
    "#### Standard Scaler for Continuous Features\n",
    "* Tot_Clms \n",
    "* Tot_30day_Fills\n",
    "* Tot_Day_Suply\n",
    "* Tot_Drug_Cst\n",
    "* Tot_Benes\n",
    "* GE65_Tot_Clms\n",
    "* GE65_Tot_30day_Fills\n",
    "* GE65_Tot_Drug_cst\n",
    "* GE65_Tot_Day_Suply\n",
    "* GE65_Tot_Benes"
   ]
  },
  {
   "cell_type": "code",
   "execution_count": null,
   "metadata": {},
   "outputs": [],
   "source": [
    "std_ftrs = ['Tot_Clms', \n",
    "            'Tot_30day_Fills', \n",
    "            'Tot_Day_Suply', \n",
    "            'Tot_Drug_Cst', \n",
    "            'Tot_Benes', \n",
    "            'GE65_Tot_Clms',\n",
    "            'GE65_Tot_30day_Fills',\n",
    "            'GE65_Tot_Drug_Cst',\n",
    "            'GE65_Tot_Day_Suply',\n",
    "            'GE65_Tot_Benes']"
   ]
  },
  {
   "cell_type": "markdown",
   "metadata": {},
   "source": [
    "#### Ordinal Encoding for Oridinal Features"
   ]
  },
  {
   "cell_type": "markdown",
   "metadata": {},
   "source": [
    "This dataset has no ordinal features."
   ]
  },
  {
   "cell_type": "markdown",
   "metadata": {},
   "source": [
    "#### One-Hot Encoding for Categorical Variables\n",
    "* Prscrbr_City\n",
    "* Prscrbr_State_Abrvtn\n",
    "* Brnd_Name\n",
    "* Gnrc_Name"
   ]
  },
  {
   "cell_type": "code",
   "execution_count": null,
   "metadata": {},
   "outputs": [],
   "source": [
    "categorical_ftrs = ['Prscrbr_City',\n",
    "                    'Prscrbr_State_Abrvtn',\n",
    "                    'Brnd_Name',\n",
    "                    'Gnrc_Name']\n",
    "\n",
    "std_ftrs = ['Tot_Clms', \n",
    "            'Tot_30day_Fills', \n",
    "            'Tot_Day_Suply', \n",
    "            'Tot_Drug_Cst', \n",
    "            'Tot_Benes', \n",
    "            'GE65_Tot_Clms',\n",
    "            'GE65_Tot_30day_Fills',\n",
    "            'GE65_Tot_Drug_Cst',\n",
    "            'GE65_Tot_Day_Suply',\n",
    "            'GE65_Tot_Benes']"
   ]
  },
  {
   "cell_type": "code",
   "execution_count": null,
   "metadata": {},
   "outputs": [],
   "source": [
    "from sklearn.compose import ColumnTransformer\n",
    "from sklearn.pipeline import Pipeline\n",
    "from sklearn.preprocessing import StandardScaler, OneHotEncoder, OrdinalEncoder, MinMaxScaler\n",
    "\n",
    "preprocessor = ColumnTransformer(\n",
    "    transformers=[\n",
    "        ('onehot', OneHotEncoder(sparse=False,handle_unknown='ignore'), categorical_ftrs),\n",
    "        ('std', StandardScaler(), std_ftrs)])"
   ]
  },
  {
   "cell_type": "markdown",
   "metadata": {},
   "source": [
    "### XGBoost Model"
   ]
  },
  {
   "cell_type": "code",
   "execution_count": null,
   "metadata": {},
   "outputs": [],
   "source": []
  },
  {
   "cell_type": "markdown",
   "metadata": {},
   "source": [
    "#### Unused Code; Do Not Run"
   ]
  },
  {
   "cell_type": "code",
   "execution_count": null,
   "metadata": {},
   "outputs": [],
   "source": []
  },
  {
   "cell_type": "code",
   "execution_count": null,
   "metadata": {},
   "outputs": [],
   "source": [
    "y_train_CV1 = y_train_list[0]\n",
    "y_train_CV2 = y_train_list[1]\n",
    "y_train_CV3 = y_train_list[2]\n",
    "y_train_CV4 = y_train_list[3]\n",
    "y_train_CV5 = y_train_list[4]\n",
    "y_train_CV6 = y_train_list[5]\n",
    "y_train_CV7 = y_train_list[6]\n",
    "y_train_CV8 = y_train_list[7]\n",
    "y_train_CV9 = y_train_list[8]\n",
    "\n",
    "y_validation_list_CV1 = y_validation_list[0]\n",
    "y_validation_list_CV2 = y_validation_list[1]\n",
    "y_validation_list_CV3 = y_validation_list[2]\n",
    "y_validation_list_CV4 = y_validation_list[3]\n",
    "y_validation_list_CV5 = y_validation_list[4]\n",
    "y_validation_list_CV6 = y_validation_list[5]\n",
    "y_validation_list_CV7 = y_validation_list[6]\n",
    "y_validation_list_CV8 = y_validation_list[7]\n",
    "y_validation_list_CV9 = y_validation_list[8]\n",
    "\n",
    "classes_train_CV1, count_train_CV1 = np.unique(y_train_CV1,return_counts=True)\n",
    "classes_train_CV2, count_train_CV2 = np.unique(y_train_CV2,return_counts=True)\n",
    "classes_train_CV3, count_train_CV3 = np.unique(y_train_CV3,return_counts=True)\n",
    "classes_train_CV4, count_train_CV4 = np.unique(y_train_CV4,return_counts=True)\n",
    "classes_train_CV5, count_train_CV5 = np.unique(y_train_CV5,return_counts=True)\n",
    "classes_train_CV6, count_train_CV6 = np.unique(y_train_CV6,return_counts=True)\n",
    "classes_train_CV7, count_train_CV7 = np.unique(y_train_CV7,return_counts=True)\n",
    "classes_train_CV8, count_train_CV8 = np.unique(y_train_CV8,return_counts=True)\n",
    "classes_train_CV9, count_train_CV9 = np.unique(y_train_CV9,return_counts=True)\n",
    "\n",
    "balance_df_train_CV1 =pd.DataFrame({'Classes':classes_train_CV1, 'counts':count_train_CV1})\n",
    "balance_df_train_CV2 =pd.DataFrame({'Classes':classes_train_CV2, 'counts':count_train_CV2})\n",
    "balance_df_train_CV3 =pd.DataFrame({'Classes':classes_train_CV3, 'counts':count_train_CV3})\n",
    "balance_df_train_CV4 =pd.DataFrame({'Classes':classes_train_CV4, 'counts':count_train_CV4})\n",
    "balance_df_train_CV5 =pd.DataFrame({'Classes':classes_train_CV5, 'counts':count_train_CV5})\n",
    "balance_df_train_CV6 =pd.DataFrame({'Classes':classes_train_CV6, 'counts':count_train_CV6})\n",
    "balance_df_train_CV7 =pd.DataFrame({'Classes':classes_train_CV7, 'counts':count_train_CV7})\n",
    "balance_df_train_CV8 =pd.DataFrame({'Classes':classes_train_CV8, 'counts':count_train_CV8})\n",
    "balance_df_train_CV9 =pd.DataFrame({'Classes':classes_train_CV9, 'counts':count_train_CV9})\n",
    "\n",
    "balance_df_train_CV1[\"Train Set Fold 1\"] = (balance_df_train_CV1[\"counts\"]/len(y_train_CV1))*100\n",
    "balance_df_train_CV2[\"Train Set Fold 2\"] = (balance_df_train_CV2[\"counts\"]/len(y_train_CV2))*100\n",
    "balance_df_train_CV3[\"Train Set Fold 3\"] = (balance_df_train_CV3[\"counts\"]/len(y_train_CV3))*100\n",
    "balance_df_train_CV4[\"Train Set Fold 4\"] = (balance_df_train_CV4[\"counts\"]/len(y_train_CV4))*100\n",
    "balance_df_train_CV5[\"Train Set Fold 5\"] = (balance_df_train_CV5[\"counts\"]/len(y_train_CV5))*100\n",
    "balance_df_train_CV6[\"Train Set Fold 6\"] = (balance_df_train_CV6[\"counts\"]/len(y_train_CV6))*100\n",
    "balance_df_train_CV7[\"Train Set Fold 7\"] = (balance_df_train_CV7[\"counts\"]/len(y_train_CV7))*100\n",
    "balance_df_train_CV8[\"Train Set Fold 8\"] = (balance_df_train_CV8[\"counts\"]/len(y_train_CV8))*100\n",
    "balance_df_train_CV9[\"Train Set Fold 9\"] = (balance_df_train_CV9[\"counts\"]/len(y_train_CV9))*100\n",
    "\n",
    "balance_df_train_CV1= balance_df_train_CV1.drop([\"counts\"], axis=1)\n",
    "balance_df_train_CV2= balance_df_train_CV2.drop([\"counts\"], axis=1)\n",
    "balance_df_train_CV3= balance_df_train_CV3.drop([\"counts\"], axis=1)\n",
    "balance_df_train_CV4= balance_df_train_CV4.drop([\"counts\"], axis=1)\n",
    "balance_df_train_CV5= balance_df_train_CV5.drop([\"counts\"], axis=1)\n",
    "balance_df_train_CV6= balance_df_train_CV6.drop([\"counts\"], axis=1)\n",
    "balance_df_train_CV7= balance_df_train_CV7.drop([\"counts\"], axis=1)\n",
    "balance_df_train_CV8= balance_df_train_CV8.drop([\"counts\"], axis=1)\n",
    "balance_df_train_CV9= balance_df_train_CV9.drop([\"counts\"], axis=1)\n",
    "\n",
    "balance_df_train_CV1= balance_df_train_CV1.T\n",
    "balance_df_train_CV2= balance_df_train_CV2.T\n",
    "balance_df_train_CV3= balance_df_train_CV3.T\n",
    "balance_df_train_CV4= balance_df_train_CV4.T\n",
    "balance_df_train_CV5= balance_df_train_CV5.T\n",
    "balance_df_train_CV6= balance_df_train_CV6.T\n",
    "balance_df_train_CV7= balance_df_train_CV7.T\n",
    "balance_df_train_CV8= balance_df_train_CV8.T\n",
    "balance_df_train_CV9= balance_df_train_CV9.T\n",
    "\n",
    "balance_df_train_CV1 = balance_df_train_CV1.rename(columns=balance_df_train_CV1[0])\n",
    "balance_df_train_CV2 = balance_df_train_CV2.rename(columns=balance_df_train_CV2[0])\n",
    "balance_df_train_CV3 = balance_df_train_CV3.rename(columns=balance_df_train_CV3[0])\n",
    "balance_df_train_CV4 = balance_df_train_CV4.rename(columns=balance_df_train_CV4[0])\n",
    "balance_df_train_CV5 = balance_df_train_CV5.rename(columns=balance_df_train_CV5[0])\n",
    "balance_df_train_CV6 = balance_df_train_CV6.rename(columns=balance_df_train_CV6[0])\n",
    "balance_df_train_CV7 = balance_df_train_CV7.rename(columns=balance_df_train_CV7[0])\n",
    "balance_df_train_CV8 = balance_df_train_CV8.rename(columns=balance_df_train_CV8[0])\n",
    "balance_df_train_CV9 = balance_df_train_CV9.rename(columns=balance_df_train_CV9[0])\n",
    "\n",
    "balance_df_train_CV1 = balance_df_train_CV1.iloc[1: , :]\n",
    "balance_df_train_CV2 = balance_df_train_CV2.iloc[1: , :]\n",
    "balance_df_train_CV3 = balance_df_train_CV3.iloc[1: , :]\n",
    "balance_df_train_CV4 = balance_df_train_CV4.iloc[1: , :]\n",
    "balance_df_train_CV5 = balance_df_train_CV5.iloc[1: , :]\n",
    "balance_df_train_CV6 = balance_df_train_CV6.iloc[1: , :]\n",
    "balance_df_train_CV7 = balance_df_train_CV7.iloc[1: , :]\n",
    "balance_df_train_CV8 = balance_df_train_CV8.iloc[1: , :]\n",
    "balance_df_train_CV9 = balance_df_train_CV9.iloc[1: , :]\n",
    "\n",
    "\n",
    "balance_allTrain = pd.concat([balance_df_train_CV1, \n",
    "                              balance_df_train_CV2,\n",
    "                             balance_df_train_CV3,\n",
    "                             balance_df_train_CV4,\n",
    "                             balance_df_train_CV5,\n",
    "                             balance_df_train_CV6,\n",
    "                             balance_df_train_CV7,\n",
    "                             balance_df_train_CV8,\n",
    "                             balance_df_train_CV9], axis=0)"
   ]
  }
 ],
 "metadata": {
  "kernelspec": {
   "display_name": "Python 3 (ipykernel)",
   "language": "python",
   "name": "python3"
  },
  "language_info": {
   "codemirror_mode": {
    "name": "ipython",
    "version": 3
   },
   "file_extension": ".py",
   "mimetype": "text/x-python",
   "name": "python",
   "nbconvert_exporter": "python",
   "pygments_lexer": "ipython3",
   "version": "3.10.5"
  },
  "vscode": {
   "interpreter": {
    "hash": "397704579725e15f5c7cb49fe5f0341eb7531c82d19f2c29d197e8b64ab5776b"
   }
  }
 },
 "nbformat": 4,
 "nbformat_minor": 4
}
